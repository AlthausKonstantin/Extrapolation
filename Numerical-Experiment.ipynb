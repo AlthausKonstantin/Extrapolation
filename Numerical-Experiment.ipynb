{
 "cells": [
  {
   "cell_type": "code",
   "execution_count": 17,
   "metadata": {},
   "outputs": [],
   "source": [
    "using Plots\n",
    "using Interact"
   ]
  },
  {
   "cell_type": "markdown",
   "metadata": {},
   "source": [
    "# Numerical Experiment\n",
    "## A Comparison of  Lagrange and Barycentric formulas with the Algorithm of Aitken-Neville\n",
    "\n",
    "\n",
    "In this experiment we extrapolate values $(f(\\nu_n^{-2}))_{n=0:N}$ of some test functions for different subdividing sequences $(\\nu_{n})$. We compare the convergence behaviour of four algorithms (Lagrange interpolation, barycentric interpolation 1 and 2 and the algorithm of Aitken-Neville). "
   ]
  },
  {
   "cell_type": "code",
   "execution_count": 18,
   "metadata": {},
   "outputs": [],
   "source": [
    "# functions we will need\n",
    "# 1. a function to precompute all necessary weights  \n",
    "function precomputeValues(N::Integer, sequence::String)\n",
    "    # initialize subdividing sequence for barycentric weights\n",
    "    if sequence == \"Harmonic\"\n",
    "        subdividingSequence = [BigInt(n+1) for n = 0:N]\n",
    "    elseif sequence == \"Romberg\"\n",
    "        subdividingSequence = [BigInt(2)^n for n = 0:N]\n",
    "    elseif sequence == \"Bulirsch\"\n",
    "        subdividingSequence = [n==0 ? BigInt(1) : (isodd(n) ? BigInt(2)^BigInt(n/2+0.5) : 3*BigInt(2^BigInt(n/2-1))) for n = 0:N]\n",
    "    end\n",
    "\n",
    "    # compute nodes corresponding to the subdividing sequence \n",
    "    nodes = BigInt(1).// subdividingSequence.^2\n",
    "\n",
    "    # compute barycentric weights,\n",
    "    # cf. Berrut and Trefethen. \"Barycentric Lagrange Interpolation\". DOI: 10.1137/S0036144502417715\n",
    "    ω = zeros(Rational{BigInt},N+1,N+1)\n",
    "    ω[1,:] = ones(Rational{BigInt},N+1)\n",
    "    #for n = 1:N+1\n",
    "    for n = 2:N+1\n",
    "        distance = nodes[1:n-1] .- nodes[n]\n",
    "        ω[1:n-1,n] = ω[1:n-1,n-1] .// distance\n",
    "        ω[n,n] = one(BigInt) // prod(-distance)\n",
    "    end\n",
    "\n",
    "    #rescale barycentric weights\n",
    "    broadcast!(//, ω, ω, -nodes)\n",
    "    \n",
    "    # compute scaling factor for extrapolation operator\n",
    "    ρ = [prod(-nodes[1:n+1]) for n = 0:N]\n",
    "\n",
    "    # rescale weights and nodal polynomial\n",
    "    # again according to Berrut and Trefethen\n",
    "    c = ( (1 .- nodes).//4 ).^(0:N)\n",
    "    ρRescaled = ρ .// c\n",
    "    ωRescaled = broadcast(*,ω,c')\n",
    "    \n",
    "    return (nodes,ω,ρ,ωRescaled,ρRescaled)\n",
    "end\n",
    "\n",
    "# 2. The algorithms we want to test\n",
    "# extrapolation with  1. barycentric formula\n",
    "function B1(data, nodes, ρ, ω, T)\n",
    "    return T.(ρ) .* vec( T.(data)'*T.(ω) )\n",
    "end\n",
    "\n",
    "# extrapolation with  2. barycentric formula\n",
    "function B2(data, nodes, ρ, ω, T)\n",
    "    return  vec( T.(data)'*T.(ω) ) ./ T.( vec(sum(ω;dims=1)) )\n",
    "end\n",
    "\n",
    "# extrapolation with Lagrange formula\n",
    "function L(data, nodes, ρ, ω, T)\n",
    "    w = broadcast(*,ω,ρ')\n",
    "    return vec( T.(data)'*T.(w) )\n",
    "end\n",
    "\n",
    "# extrapolation with algorithm of Aitken Neville\n",
    "function AN(data, nodes, ρ, ω, T)\n",
    "    N = length(nodes)-1\n",
    "    P = zeros(T,N+1) # storage for the tableau\n",
    "    d = zeros(T,N+1) \n",
    "    nodes = T.(nodes)\n",
    "    P[:] = T.(data[:])\n",
    "    for m = 1:N\n",
    "        range = (m+1):(N+1)\n",
    "        d[range] = -nodes[range] ./( nodes[range] .- nodes[1:N-m+1])\n",
    "        P[range] = P[range] .+ d[range] .* (P[range] - P[range .- 1])\n",
    "    end\n",
    "    return  P\n",
    "end;"
   ]
  },
  {
   "cell_type": "code",
   "execution_count": 19,
   "metadata": {},
   "outputs": [],
   "source": [
    "# the options and parameters (including information for the plots)\n",
    "N = 100 # maximal order of extrapolation\n",
    "\n",
    "sequenceType = [ \"Harmonic\", \"Romberg\",\"Bulirsch\"]\n",
    "types = [ Float32, Float64, BigFloat]\n",
    "\n",
    "algorithms = [AN, L, B1, B2]\n",
    "algorithmsStr = [\"Aitken Neville\", \"Lagrange formula\", \"Barycentric formula (1)\", \"Barycentric formula (2)\"]\n",
    "algorithmsColor = [:red, :green, :blue, :yellow ]\n",
    "algorithmsLinewidth = [1, 1, 3, 1]\n",
    "scalingOptions = [true, false]\n",
    "scalingOptionsStr = [\"Scaling\", \"No Scaling\"]\n",
    "\n",
    "testFunctions=[x->cos(40*acos(2*x-1)), x-> 1/(1 +(2*x-1)^2), x->sin(x)] # partially fitted to the interval [0,1]\n",
    "testFunctionsStr = [\"Chebyshev (40)\",\"Runge's function\",\"sine\"];"
   ]
  },
  {
   "cell_type": "code",
   "execution_count": 20,
   "metadata": {},
   "outputs": [],
   "source": [
    "# computations\n",
    "# 1. extrapolation\n",
    "results = Dict{DataType,Array}() # storage for the results\n",
    "for T in types\n",
    "    results[T] = zeros(T,\n",
    "        length(testFunctions),\n",
    "        length(sequenceType),\n",
    "        length(algorithms),\n",
    "        length(scalingOptions),\n",
    "        N+1)\n",
    "end\n",
    "preCompValues = Dict( [ (sequence, precomputeValues(N, sequence)) for sequence in sequenceType] ) # precompute weights etc.\n",
    "\n",
    "for T in types,\n",
    "    (n1, f) in enumerate(testFunctions),\n",
    "    (n2, sequence) in enumerate(sequenceType),\n",
    "    (n3, alg) in enumerate(algorithms),\n",
    "    (n4, scalingMode) in enumerate(scalingOptions)\n",
    "    \n",
    "    # setup\n",
    "    (nodes,ω,ρ,ωRescaled,ρRescaled) = preCompValues[sequence]\n",
    "    if scalingMode\n",
    "        ω, ρ = ωRescaled, ρRescaled\n",
    "    end\n",
    "    data = f.(nodes)\n",
    "    solution = T(f(0))\n",
    "    \n",
    "    #computation\n",
    "    results[T][n1, n2, n3, n4, :] = abs.( alg(data, nodes, ρ, ω,  T) .- solution )\n",
    "end\n",
    "\n",
    "# 2. condition numbers\n",
    "conditionNumber = zeros(Rational{BigInt}, length(sequenceType), N+1) #storage for condition numbers\n",
    "for (n2, sequence) in enumerate(sequenceType)\n",
    "    (_, ω, ρ, _, _) = preCompValues[sequence]\n",
    "    conditionNumber[n2,:] = abs.(ρ) .* vec( sum(abs.(ω); dims=1) )\n",
    "end"
   ]
  },
  {
   "cell_type": "code",
   "execution_count": 21,
   "metadata": {
    "scrolled": false
   },
   "outputs": [
    {
     "data": {
      "application/vnd.webio.node+json": {
       "children": [
        {
         "children": [
          {
           "children": [
            {
             "children": [
              {
               "children": [
                {
                 "children": [
                  "T"
                 ],
                 "instanceArgs": {
                  "namespace": "html",
                  "tag": "label"
                 },
                 "nodeType": "DOM",
                 "props": {
                  "className": "interact ",
                  "style": {
                   "padding": "5px 10px 0px 10px"
                  }
                 },
                 "type": "node"
                }
               ],
               "instanceArgs": {
                "namespace": "html",
                "tag": "div"
               },
               "nodeType": "DOM",
               "props": {
                "attributes": {
                 "style": "text-align:right;width:18%"
                }
               },
               "type": "node"
              },
              {
               "children": [
                {
                 "children": [
                  {
                   "children": [
                    {
                     "children": [],
                     "instanceArgs": {
                      "namespace": "html",
                      "tag": "label"
                     },
                     "nodeType": "DOM",
                     "props": {
                      "attributes": {
                       "data-bind": "text : key"
                      }
                     },
                     "type": "node"
                    }
                   ],
                   "instanceArgs": {
                    "namespace": "html",
                    "tag": "button"
                   },
                   "nodeType": "DOM",
                   "props": {
                    "attributes": {
                     "data-bind": "click: function () {$root.index(val)}, css: {'is-primary is-selected' : $root.index() == val, 'button is-fullwidth' : true}"
                    }
                   },
                   "type": "node"
                  }
                 ],
                 "instanceArgs": {
                  "namespace": "html",
                  "tag": "div"
                 },
                 "nodeType": "DOM",
                 "props": {
                  "attributes": {
                   "data-bind": "foreach : options_js"
                  },
                  "className": "field is-grouped has-addons is-oneline is-centered"
                 },
                 "type": "node"
                }
               ],
               "instanceArgs": {
                "namespace": "html",
                "tag": "div"
               },
               "nodeType": "DOM",
               "props": {
                "attributes": {
                 "style": "flex-grow:1; margin: 0 2%"
                }
               },
               "type": "node"
              },
              {
               "children": [
                {
                 "children": [],
                 "instanceArgs": {
                  "namespace": "html",
                  "tag": "div"
                 },
                 "nodeType": "DOM",
                 "props": {},
                 "type": "node"
                }
               ],
               "instanceArgs": {
                "namespace": "html",
                "tag": "div"
               },
               "nodeType": "DOM",
               "props": {
                "attributes": {
                 "style": "width:18%"
                }
               },
               "type": "node"
              }
             ],
             "instanceArgs": {
              "namespace": "html",
              "tag": "div"
             },
             "nodeType": "DOM",
             "props": {
              "attributes": {
               "style": "display:flex; justify-content:center; align-items:center;"
              }
             },
             "type": "node"
            }
           ],
           "instanceArgs": {
            "handlers": {
             "_promises": {
              "importsLoaded": [
               "function (ko, koPunches) {\n    ko.punches.enableAll();\n    ko.bindingHandlers.numericValue = {\n        init : function(element, valueAccessor, allBindings, data, context) {\n            var stringified = ko.observable(ko.unwrap(valueAccessor()));\n            stringified.subscribe(function(value) {\n                var val = parseFloat(value);\n                if (!isNaN(val)) {\n                    valueAccessor()(val);\n                }\n            })\n            valueAccessor().subscribe(function(value) {\n                var str = JSON.stringify(value);\n                if ((str == \"0\") && ([\"-0\", \"-0.\"].indexOf(stringified()) >= 0))\n                     return;\n                 if ([\"null\", \"\"].indexOf(str) >= 0)\n                     return;\n                stringified(str);\n            })\n            ko.applyBindingsToNode(element, { value: stringified, valueUpdate: allBindings.get('valueUpdate')}, context);\n        }\n    };\n    var json_data = JSON.parse(\"{\\\"options_js\\\":[{\\\"key\\\":\\\"Float32\\\",\\\"val\\\":1,\\\"id\\\":\\\"id94ZmRbn0\\\"},{\\\"key\\\":\\\"Float64\\\",\\\"val\\\":2,\\\"id\\\":\\\"idwN5q6GML\\\"},{\\\"key\\\":\\\"BigFloat\\\",\\\"val\\\":3,\\\"id\\\":\\\"idMkv3N2TB\\\"}],\\\"index\\\":1}\");\n    var self = this;\n    function AppViewModel() {\n        for (var key in json_data) {\n            var el = json_data[key];\n            this[key] = Array.isArray(el) ? ko.observableArray(el) : ko.observable(el);\n        }\n        \n        \n        [this[\"options_js\"].subscribe((function (val){!(this.valueFromJulia[\"options_js\"]) ? (_webIOScope.setObservableValue({\"name\":\"options_js\",\"scope\":\"knockout-component-aff5f33e-3c89-4139-a8e7-ccee674a9445\",\"id\":\"ob_33\",\"type\":\"observable\"},val)) : undefined; return this.valueFromJulia[\"options_js\"]=false}),self),this[\"index\"].subscribe((function (val){!(this.valueFromJulia[\"index\"]) ? (_webIOScope.setObservableValue({\"name\":\"index\",\"scope\":\"knockout-component-aff5f33e-3c89-4139-a8e7-ccee674a9445\",\"id\":\"ob_32\",\"type\":\"observable\"},val)) : undefined; return this.valueFromJulia[\"index\"]=false}),self)]\n        \n    }\n    self.model = new AppViewModel();\n    self.valueFromJulia = {};\n    for (var key in json_data) {\n        self.valueFromJulia[key] = false;\n    }\n    ko.applyBindings(self.model, self.dom);\n}\n"
              ]
             },
             "index": [
              "(function (val){return (val!=this.model[\"index\"]()) ? (this.valueFromJulia[\"index\"]=true, this.model[\"index\"](val)) : undefined})"
             ],
             "options_js": [
              "(function (val){return (val!=this.model[\"options_js\"]()) ? (this.valueFromJulia[\"options_js\"]=true, this.model[\"options_js\"](val)) : undefined})"
             ]
            },
            "id": "knockout-component-aff5f33e-3c89-4139-a8e7-ccee674a9445",
            "imports": {
             "data": [
              {
               "name": "knockout",
               "type": "js",
               "url": "/assetserver/2034b278c339838bc25d348e12b916fa259630cf-knockout.js"
              },
              {
               "name": "knockout_punches",
               "type": "js",
               "url": "/assetserver/d5260897db9d05b02ce519861ac036898a0d77f1-knockout_punches.js"
              },
              {
               "name": null,
               "type": "js",
               "url": "/assetserver/b4d7600f3b7eccfec0a7bf218aab6fc55bcc30f7-all.js"
              },
              {
               "name": null,
               "type": "css",
               "url": "/assetserver/2ad6cd9aa298d4183b761a76f8aba8e30bb42196-style.css"
              },
              {
               "name": null,
               "type": "css",
               "url": "/assetserver/953777a25a1f1beda161bd9c6596239b1c59c773-main.css"
              }
             ],
             "type": "async_block"
            },
            "observables": {
             "index": {
              "id": "ob_32",
              "sync": true,
              "value": 1
             },
             "options_js": {
              "id": "ob_33",
              "sync": false,
              "value": [
               {
                "id": "id94ZmRbn0",
                "key": "Float32",
                "val": 1
               },
               {
                "id": "idwN5q6GML",
                "key": "Float64",
                "val": 2
               },
               {
                "id": "idMkv3N2TB",
                "key": "BigFloat",
                "val": 3
               }
              ]
             }
            },
            "systemjs_options": null
           },
           "nodeType": "Scope",
           "props": {},
           "type": "node"
          }
         ],
         "instanceArgs": {
          "namespace": "html",
          "tag": "div"
         },
         "nodeType": "DOM",
         "props": {
          "className": "field"
         },
         "type": "node"
        },
        {
         "children": [
          {
           "children": [
            {
             "children": [
              {
               "children": [
                {
                 "children": [
                  "f"
                 ],
                 "instanceArgs": {
                  "namespace": "html",
                  "tag": "label"
                 },
                 "nodeType": "DOM",
                 "props": {
                  "className": "interact ",
                  "style": {
                   "padding": "5px 10px 0px 10px"
                  }
                 },
                 "type": "node"
                }
               ],
               "instanceArgs": {
                "namespace": "html",
                "tag": "div"
               },
               "nodeType": "DOM",
               "props": {
                "attributes": {
                 "style": "text-align:right;width:18%"
                }
               },
               "type": "node"
              },
              {
               "children": [
                {
                 "children": [
                  {
                   "children": [
                    {
                     "children": [],
                     "instanceArgs": {
                      "namespace": "html",
                      "tag": "label"
                     },
                     "nodeType": "DOM",
                     "props": {
                      "attributes": {
                       "data-bind": "text : key"
                      }
                     },
                     "type": "node"
                    }
                   ],
                   "instanceArgs": {
                    "namespace": "html",
                    "tag": "button"
                   },
                   "nodeType": "DOM",
                   "props": {
                    "attributes": {
                     "data-bind": "click: function () {$root.index(val)}, css: {'is-primary is-selected' : $root.index() == val, 'button is-fullwidth' : true}"
                    }
                   },
                   "type": "node"
                  }
                 ],
                 "instanceArgs": {
                  "namespace": "html",
                  "tag": "div"
                 },
                 "nodeType": "DOM",
                 "props": {
                  "attributes": {
                   "data-bind": "foreach : options_js"
                  },
                  "className": "field is-grouped has-addons is-oneline is-centered"
                 },
                 "type": "node"
                }
               ],
               "instanceArgs": {
                "namespace": "html",
                "tag": "div"
               },
               "nodeType": "DOM",
               "props": {
                "attributes": {
                 "style": "flex-grow:1; margin: 0 2%"
                }
               },
               "type": "node"
              },
              {
               "children": [
                {
                 "children": [],
                 "instanceArgs": {
                  "namespace": "html",
                  "tag": "div"
                 },
                 "nodeType": "DOM",
                 "props": {},
                 "type": "node"
                }
               ],
               "instanceArgs": {
                "namespace": "html",
                "tag": "div"
               },
               "nodeType": "DOM",
               "props": {
                "attributes": {
                 "style": "width:18%"
                }
               },
               "type": "node"
              }
             ],
             "instanceArgs": {
              "namespace": "html",
              "tag": "div"
             },
             "nodeType": "DOM",
             "props": {
              "attributes": {
               "style": "display:flex; justify-content:center; align-items:center;"
              }
             },
             "type": "node"
            }
           ],
           "instanceArgs": {
            "handlers": {
             "_promises": {
              "importsLoaded": [
               "function (ko, koPunches) {\n    ko.punches.enableAll();\n    ko.bindingHandlers.numericValue = {\n        init : function(element, valueAccessor, allBindings, data, context) {\n            var stringified = ko.observable(ko.unwrap(valueAccessor()));\n            stringified.subscribe(function(value) {\n                var val = parseFloat(value);\n                if (!isNaN(val)) {\n                    valueAccessor()(val);\n                }\n            })\n            valueAccessor().subscribe(function(value) {\n                var str = JSON.stringify(value);\n                if ((str == \"0\") && ([\"-0\", \"-0.\"].indexOf(stringified()) >= 0))\n                     return;\n                 if ([\"null\", \"\"].indexOf(str) >= 0)\n                     return;\n                stringified(str);\n            })\n            ko.applyBindingsToNode(element, { value: stringified, valueUpdate: allBindings.get('valueUpdate')}, context);\n        }\n    };\n    var json_data = JSON.parse(\"{\\\"options_js\\\":[{\\\"key\\\":\\\"Chebyshev (40)\\\",\\\"val\\\":1,\\\"id\\\":\\\"idKSBZjQIz\\\"},{\\\"key\\\":\\\"Runge's function\\\",\\\"val\\\":2,\\\"id\\\":\\\"idhvKZ0y2c\\\"},{\\\"key\\\":\\\"sine\\\",\\\"val\\\":3,\\\"id\\\":\\\"idKQWUSiO8\\\"}],\\\"index\\\":1}\");\n    var self = this;\n    function AppViewModel() {\n        for (var key in json_data) {\n            var el = json_data[key];\n            this[key] = Array.isArray(el) ? ko.observableArray(el) : ko.observable(el);\n        }\n        \n        \n        [this[\"options_js\"].subscribe((function (val){!(this.valueFromJulia[\"options_js\"]) ? (_webIOScope.setObservableValue({\"name\":\"options_js\",\"scope\":\"knockout-component-87902738-5706-4916-96d3-d00f4630176e\",\"id\":\"ob_38\",\"type\":\"observable\"},val)) : undefined; return this.valueFromJulia[\"options_js\"]=false}),self),this[\"index\"].subscribe((function (val){!(this.valueFromJulia[\"index\"]) ? (_webIOScope.setObservableValue({\"name\":\"index\",\"scope\":\"knockout-component-87902738-5706-4916-96d3-d00f4630176e\",\"id\":\"ob_37\",\"type\":\"observable\"},val)) : undefined; return this.valueFromJulia[\"index\"]=false}),self)]\n        \n    }\n    self.model = new AppViewModel();\n    self.valueFromJulia = {};\n    for (var key in json_data) {\n        self.valueFromJulia[key] = false;\n    }\n    ko.applyBindings(self.model, self.dom);\n}\n"
              ]
             },
             "index": [
              "(function (val){return (val!=this.model[\"index\"]()) ? (this.valueFromJulia[\"index\"]=true, this.model[\"index\"](val)) : undefined})"
             ],
             "options_js": [
              "(function (val){return (val!=this.model[\"options_js\"]()) ? (this.valueFromJulia[\"options_js\"]=true, this.model[\"options_js\"](val)) : undefined})"
             ]
            },
            "id": "knockout-component-87902738-5706-4916-96d3-d00f4630176e",
            "imports": {
             "data": [
              {
               "name": "knockout",
               "type": "js",
               "url": "/assetserver/2034b278c339838bc25d348e12b916fa259630cf-knockout.js"
              },
              {
               "name": "knockout_punches",
               "type": "js",
               "url": "/assetserver/d5260897db9d05b02ce519861ac036898a0d77f1-knockout_punches.js"
              },
              {
               "name": null,
               "type": "js",
               "url": "/assetserver/b4d7600f3b7eccfec0a7bf218aab6fc55bcc30f7-all.js"
              },
              {
               "name": null,
               "type": "css",
               "url": "/assetserver/2ad6cd9aa298d4183b761a76f8aba8e30bb42196-style.css"
              },
              {
               "name": null,
               "type": "css",
               "url": "/assetserver/953777a25a1f1beda161bd9c6596239b1c59c773-main.css"
              }
             ],
             "type": "async_block"
            },
            "observables": {
             "index": {
              "id": "ob_37",
              "sync": true,
              "value": 1
             },
             "options_js": {
              "id": "ob_38",
              "sync": false,
              "value": [
               {
                "id": "idKSBZjQIz",
                "key": "Chebyshev (40)",
                "val": 1
               },
               {
                "id": "idhvKZ0y2c",
                "key": "Runge's function",
                "val": 2
               },
               {
                "id": "idKQWUSiO8",
                "key": "sine",
                "val": 3
               }
              ]
             }
            },
            "systemjs_options": null
           },
           "nodeType": "Scope",
           "props": {},
           "type": "node"
          }
         ],
         "instanceArgs": {
          "namespace": "html",
          "tag": "div"
         },
         "nodeType": "DOM",
         "props": {
          "className": "field"
         },
         "type": "node"
        },
        {
         "children": [
          {
           "children": [
            {
             "children": [
              {
               "children": [
                {
                 "children": [
                  "s"
                 ],
                 "instanceArgs": {
                  "namespace": "html",
                  "tag": "label"
                 },
                 "nodeType": "DOM",
                 "props": {
                  "className": "interact ",
                  "style": {
                   "padding": "5px 10px 0px 10px"
                  }
                 },
                 "type": "node"
                }
               ],
               "instanceArgs": {
                "namespace": "html",
                "tag": "div"
               },
               "nodeType": "DOM",
               "props": {
                "attributes": {
                 "style": "text-align:right;width:18%"
                }
               },
               "type": "node"
              },
              {
               "children": [
                {
                 "children": [
                  {
                   "children": [
                    {
                     "children": [],
                     "instanceArgs": {
                      "namespace": "html",
                      "tag": "label"
                     },
                     "nodeType": "DOM",
                     "props": {
                      "attributes": {
                       "data-bind": "text : key"
                      }
                     },
                     "type": "node"
                    }
                   ],
                   "instanceArgs": {
                    "namespace": "html",
                    "tag": "button"
                   },
                   "nodeType": "DOM",
                   "props": {
                    "attributes": {
                     "data-bind": "click: function () {$root.index(val)}, css: {'is-primary is-selected' : $root.index() == val, 'button is-fullwidth' : true}"
                    }
                   },
                   "type": "node"
                  }
                 ],
                 "instanceArgs": {
                  "namespace": "html",
                  "tag": "div"
                 },
                 "nodeType": "DOM",
                 "props": {
                  "attributes": {
                   "data-bind": "foreach : options_js"
                  },
                  "className": "field is-grouped has-addons is-oneline is-centered"
                 },
                 "type": "node"
                }
               ],
               "instanceArgs": {
                "namespace": "html",
                "tag": "div"
               },
               "nodeType": "DOM",
               "props": {
                "attributes": {
                 "style": "flex-grow:1; margin: 0 2%"
                }
               },
               "type": "node"
              },
              {
               "children": [
                {
                 "children": [],
                 "instanceArgs": {
                  "namespace": "html",
                  "tag": "div"
                 },
                 "nodeType": "DOM",
                 "props": {},
                 "type": "node"
                }
               ],
               "instanceArgs": {
                "namespace": "html",
                "tag": "div"
               },
               "nodeType": "DOM",
               "props": {
                "attributes": {
                 "style": "width:18%"
                }
               },
               "type": "node"
              }
             ],
             "instanceArgs": {
              "namespace": "html",
              "tag": "div"
             },
             "nodeType": "DOM",
             "props": {
              "attributes": {
               "style": "display:flex; justify-content:center; align-items:center;"
              }
             },
             "type": "node"
            }
           ],
           "instanceArgs": {
            "handlers": {
             "_promises": {
              "importsLoaded": [
               "function (ko, koPunches) {\n    ko.punches.enableAll();\n    ko.bindingHandlers.numericValue = {\n        init : function(element, valueAccessor, allBindings, data, context) {\n            var stringified = ko.observable(ko.unwrap(valueAccessor()));\n            stringified.subscribe(function(value) {\n                var val = parseFloat(value);\n                if (!isNaN(val)) {\n                    valueAccessor()(val);\n                }\n            })\n            valueAccessor().subscribe(function(value) {\n                var str = JSON.stringify(value);\n                if ((str == \"0\") && ([\"-0\", \"-0.\"].indexOf(stringified()) >= 0))\n                     return;\n                 if ([\"null\", \"\"].indexOf(str) >= 0)\n                     return;\n                stringified(str);\n            })\n            ko.applyBindingsToNode(element, { value: stringified, valueUpdate: allBindings.get('valueUpdate')}, context);\n        }\n    };\n    var json_data = JSON.parse(\"{\\\"options_js\\\":[{\\\"key\\\":\\\"Harmonic\\\",\\\"val\\\":1,\\\"id\\\":\\\"idtuSLjUeu\\\"},{\\\"key\\\":\\\"Romberg\\\",\\\"val\\\":2,\\\"id\\\":\\\"idRp1n9MoJ\\\"},{\\\"key\\\":\\\"Bulirsch\\\",\\\"val\\\":3,\\\"id\\\":\\\"idV5sCPpBK\\\"}],\\\"index\\\":1}\");\n    var self = this;\n    function AppViewModel() {\n        for (var key in json_data) {\n            var el = json_data[key];\n            this[key] = Array.isArray(el) ? ko.observableArray(el) : ko.observable(el);\n        }\n        \n        \n        [this[\"options_js\"].subscribe((function (val){!(this.valueFromJulia[\"options_js\"]) ? (_webIOScope.setObservableValue({\"name\":\"options_js\",\"scope\":\"knockout-component-5b16d494-a291-4ee1-9f4e-2f11870037ff\",\"id\":\"ob_43\",\"type\":\"observable\"},val)) : undefined; return this.valueFromJulia[\"options_js\"]=false}),self),this[\"index\"].subscribe((function (val){!(this.valueFromJulia[\"index\"]) ? (_webIOScope.setObservableValue({\"name\":\"index\",\"scope\":\"knockout-component-5b16d494-a291-4ee1-9f4e-2f11870037ff\",\"id\":\"ob_42\",\"type\":\"observable\"},val)) : undefined; return this.valueFromJulia[\"index\"]=false}),self)]\n        \n    }\n    self.model = new AppViewModel();\n    self.valueFromJulia = {};\n    for (var key in json_data) {\n        self.valueFromJulia[key] = false;\n    }\n    ko.applyBindings(self.model, self.dom);\n}\n"
              ]
             },
             "index": [
              "(function (val){return (val!=this.model[\"index\"]()) ? (this.valueFromJulia[\"index\"]=true, this.model[\"index\"](val)) : undefined})"
             ],
             "options_js": [
              "(function (val){return (val!=this.model[\"options_js\"]()) ? (this.valueFromJulia[\"options_js\"]=true, this.model[\"options_js\"](val)) : undefined})"
             ]
            },
            "id": "knockout-component-5b16d494-a291-4ee1-9f4e-2f11870037ff",
            "imports": {
             "data": [
              {
               "name": "knockout",
               "type": "js",
               "url": "/assetserver/2034b278c339838bc25d348e12b916fa259630cf-knockout.js"
              },
              {
               "name": "knockout_punches",
               "type": "js",
               "url": "/assetserver/d5260897db9d05b02ce519861ac036898a0d77f1-knockout_punches.js"
              },
              {
               "name": null,
               "type": "js",
               "url": "/assetserver/b4d7600f3b7eccfec0a7bf218aab6fc55bcc30f7-all.js"
              },
              {
               "name": null,
               "type": "css",
               "url": "/assetserver/2ad6cd9aa298d4183b761a76f8aba8e30bb42196-style.css"
              },
              {
               "name": null,
               "type": "css",
               "url": "/assetserver/953777a25a1f1beda161bd9c6596239b1c59c773-main.css"
              }
             ],
             "type": "async_block"
            },
            "observables": {
             "index": {
              "id": "ob_42",
              "sync": true,
              "value": 1
             },
             "options_js": {
              "id": "ob_43",
              "sync": false,
              "value": [
               {
                "id": "idtuSLjUeu",
                "key": "Harmonic",
                "val": 1
               },
               {
                "id": "idRp1n9MoJ",
                "key": "Romberg",
                "val": 2
               },
               {
                "id": "idV5sCPpBK",
                "key": "Bulirsch",
                "val": 3
               }
              ]
             }
            },
            "systemjs_options": null
           },
           "nodeType": "Scope",
           "props": {},
           "type": "node"
          }
         ],
         "instanceArgs": {
          "namespace": "html",
          "tag": "div"
         },
         "nodeType": "DOM",
         "props": {
          "className": "field"
         },
         "type": "node"
        },
        {
         "children": [
          {
           "children": [
            {
             "children": [
              {
               "children": [
                {
                 "children": [],
                 "instanceArgs": {
                  "namespace": "html",
                  "tag": "input"
                 },
                 "nodeType": "DOM",
                 "props": {
                  "attributes": {
                   "data-bind": "checked: value, valueUpdate: 'change', event: {change : function () {this.changes(this.changes()+1)}}",
                   "type": "checkbox"
                  },
                  "className": "switch ",
                  "id": "##363",
                  "style": {}
                 },
                 "type": "node"
                },
                {
                 "children": [
                  "Rescale"
                 ],
                 "instanceArgs": {
                  "namespace": "html",
                  "tag": "label"
                 },
                 "nodeType": "DOM",
                 "props": {
                  "attributes": {
                   "className": "",
                   "for": "##363"
                  }
                 },
                 "type": "node"
                }
               ],
               "instanceArgs": {
                "namespace": "html",
                "tag": "div"
               },
               "nodeType": "DOM",
               "props": {
                "className": "field"
               },
               "type": "node"
              }
             ],
             "instanceArgs": {
              "handlers": {
               "_promises": {
                "importsLoaded": [
                 "function (ko, koPunches) {\n    ko.punches.enableAll();\n    ko.bindingHandlers.numericValue = {\n        init : function(element, valueAccessor, allBindings, data, context) {\n            var stringified = ko.observable(ko.unwrap(valueAccessor()));\n            stringified.subscribe(function(value) {\n                var val = parseFloat(value);\n                if (!isNaN(val)) {\n                    valueAccessor()(val);\n                }\n            })\n            valueAccessor().subscribe(function(value) {\n                var str = JSON.stringify(value);\n                if ((str == \"0\") && ([\"-0\", \"-0.\"].indexOf(stringified()) >= 0))\n                     return;\n                 if ([\"null\", \"\"].indexOf(str) >= 0)\n                     return;\n                stringified(str);\n            })\n            ko.applyBindingsToNode(element, { value: stringified, valueUpdate: allBindings.get('valueUpdate')}, context);\n        }\n    };\n    var json_data = JSON.parse(\"{\\\"changes\\\":0,\\\"value\\\":false}\");\n    var self = this;\n    function AppViewModel() {\n        for (var key in json_data) {\n            var el = json_data[key];\n            this[key] = Array.isArray(el) ? ko.observableArray(el) : ko.observable(el);\n        }\n        \n        \n        [this[\"changes\"].subscribe((function (val){!(this.valueFromJulia[\"changes\"]) ? (_webIOScope.setObservableValue({\"name\":\"changes\",\"scope\":\"knockout-component-7c193d74-8218-485a-9269-72e8b1b1f921\",\"id\":\"ob_45\",\"type\":\"observable\"},val)) : undefined; return this.valueFromJulia[\"changes\"]=false}),self),this[\"value\"].subscribe((function (val){!(this.valueFromJulia[\"value\"]) ? (_webIOScope.setObservableValue({\"name\":\"value\",\"scope\":\"knockout-component-7c193d74-8218-485a-9269-72e8b1b1f921\",\"id\":\"ob_44\",\"type\":\"observable\"},val)) : undefined; return this.valueFromJulia[\"value\"]=false}),self)]\n        \n    }\n    self.model = new AppViewModel();\n    self.valueFromJulia = {};\n    for (var key in json_data) {\n        self.valueFromJulia[key] = false;\n    }\n    ko.applyBindings(self.model, self.dom);\n}\n"
                ]
               },
               "changes": [
                "(function (val){return (val!=this.model[\"changes\"]()) ? (this.valueFromJulia[\"changes\"]=true, this.model[\"changes\"](val)) : undefined})"
               ],
               "value": [
                "(function (val){return (val!=this.model[\"value\"]()) ? (this.valueFromJulia[\"value\"]=true, this.model[\"value\"](val)) : undefined})"
               ]
              },
              "id": "knockout-component-7c193d74-8218-485a-9269-72e8b1b1f921",
              "imports": {
               "data": [
                {
                 "name": "knockout",
                 "type": "js",
                 "url": "/assetserver/2034b278c339838bc25d348e12b916fa259630cf-knockout.js"
                },
                {
                 "name": "knockout_punches",
                 "type": "js",
                 "url": "/assetserver/d5260897db9d05b02ce519861ac036898a0d77f1-knockout_punches.js"
                },
                {
                 "name": null,
                 "type": "js",
                 "url": "/assetserver/b4d7600f3b7eccfec0a7bf218aab6fc55bcc30f7-all.js"
                },
                {
                 "name": null,
                 "type": "css",
                 "url": "/assetserver/2ad6cd9aa298d4183b761a76f8aba8e30bb42196-style.css"
                },
                {
                 "name": null,
                 "type": "css",
                 "url": "/assetserver/953777a25a1f1beda161bd9c6596239b1c59c773-main.css"
                }
               ],
               "type": "async_block"
              },
              "observables": {
               "changes": {
                "id": "ob_45",
                "sync": false,
                "value": 0
               },
               "value": {
                "id": "ob_44",
                "sync": true,
                "value": false
               }
              },
              "systemjs_options": null
             },
             "nodeType": "Scope",
             "props": {},
             "type": "node"
            }
           ],
           "instanceArgs": {
            "namespace": "html",
            "tag": "div"
           },
           "nodeType": "DOM",
           "props": {
            "className": "field"
           },
           "type": "node"
          }
         ],
         "instanceArgs": {
          "namespace": "html",
          "tag": "div"
         },
         "nodeType": "DOM",
         "props": {
          "attributes": {
           "style": "display:flex; justify-content:center; align-items:center;"
          }
         },
         "type": "node"
        },
        {
         "children": [
          {
           "children": [
            {
             "children": [
              {
               "children": [
                {
                 "children": [],
                 "instanceArgs": {
                  "namespace": "html",
                  "tag": "input"
                 },
                 "nodeType": "DOM",
                 "props": {
                  "attributes": {
                   "data-bind": "checked: value, valueUpdate: 'change', event: {change : function () {this.changes(this.changes()+1)}}",
                   "type": "checkbox"
                  },
                  "className": "switch ",
                  "id": "##364",
                  "style": {}
                 },
                 "type": "node"
                },
                {
                 "children": [
                  "ConditionNumber"
                 ],
                 "instanceArgs": {
                  "namespace": "html",
                  "tag": "label"
                 },
                 "nodeType": "DOM",
                 "props": {
                  "attributes": {
                   "className": "",
                   "for": "##364"
                  }
                 },
                 "type": "node"
                }
               ],
               "instanceArgs": {
                "namespace": "html",
                "tag": "div"
               },
               "nodeType": "DOM",
               "props": {
                "className": "field"
               },
               "type": "node"
              }
             ],
             "instanceArgs": {
              "handlers": {
               "_promises": {
                "importsLoaded": [
                 "function (ko, koPunches) {\n    ko.punches.enableAll();\n    ko.bindingHandlers.numericValue = {\n        init : function(element, valueAccessor, allBindings, data, context) {\n            var stringified = ko.observable(ko.unwrap(valueAccessor()));\n            stringified.subscribe(function(value) {\n                var val = parseFloat(value);\n                if (!isNaN(val)) {\n                    valueAccessor()(val);\n                }\n            })\n            valueAccessor().subscribe(function(value) {\n                var str = JSON.stringify(value);\n                if ((str == \"0\") && ([\"-0\", \"-0.\"].indexOf(stringified()) >= 0))\n                     return;\n                 if ([\"null\", \"\"].indexOf(str) >= 0)\n                     return;\n                stringified(str);\n            })\n            ko.applyBindingsToNode(element, { value: stringified, valueUpdate: allBindings.get('valueUpdate')}, context);\n        }\n    };\n    var json_data = JSON.parse(\"{\\\"changes\\\":0,\\\"value\\\":false}\");\n    var self = this;\n    function AppViewModel() {\n        for (var key in json_data) {\n            var el = json_data[key];\n            this[key] = Array.isArray(el) ? ko.observableArray(el) : ko.observable(el);\n        }\n        \n        \n        [this[\"changes\"].subscribe((function (val){!(this.valueFromJulia[\"changes\"]) ? (_webIOScope.setObservableValue({\"name\":\"changes\",\"scope\":\"knockout-component-abee5874-0910-4368-bded-f3d9a2d13bf3\",\"id\":\"ob_47\",\"type\":\"observable\"},val)) : undefined; return this.valueFromJulia[\"changes\"]=false}),self),this[\"value\"].subscribe((function (val){!(this.valueFromJulia[\"value\"]) ? (_webIOScope.setObservableValue({\"name\":\"value\",\"scope\":\"knockout-component-abee5874-0910-4368-bded-f3d9a2d13bf3\",\"id\":\"ob_46\",\"type\":\"observable\"},val)) : undefined; return this.valueFromJulia[\"value\"]=false}),self)]\n        \n    }\n    self.model = new AppViewModel();\n    self.valueFromJulia = {};\n    for (var key in json_data) {\n        self.valueFromJulia[key] = false;\n    }\n    ko.applyBindings(self.model, self.dom);\n}\n"
                ]
               },
               "changes": [
                "(function (val){return (val!=this.model[\"changes\"]()) ? (this.valueFromJulia[\"changes\"]=true, this.model[\"changes\"](val)) : undefined})"
               ],
               "value": [
                "(function (val){return (val!=this.model[\"value\"]()) ? (this.valueFromJulia[\"value\"]=true, this.model[\"value\"](val)) : undefined})"
               ]
              },
              "id": "knockout-component-abee5874-0910-4368-bded-f3d9a2d13bf3",
              "imports": {
               "data": [
                {
                 "name": "knockout",
                 "type": "js",
                 "url": "/assetserver/2034b278c339838bc25d348e12b916fa259630cf-knockout.js"
                },
                {
                 "name": "knockout_punches",
                 "type": "js",
                 "url": "/assetserver/d5260897db9d05b02ce519861ac036898a0d77f1-knockout_punches.js"
                },
                {
                 "name": null,
                 "type": "js",
                 "url": "/assetserver/b4d7600f3b7eccfec0a7bf218aab6fc55bcc30f7-all.js"
                },
                {
                 "name": null,
                 "type": "css",
                 "url": "/assetserver/2ad6cd9aa298d4183b761a76f8aba8e30bb42196-style.css"
                },
                {
                 "name": null,
                 "type": "css",
                 "url": "/assetserver/953777a25a1f1beda161bd9c6596239b1c59c773-main.css"
                }
               ],
               "type": "async_block"
              },
              "observables": {
               "changes": {
                "id": "ob_47",
                "sync": false,
                "value": 0
               },
               "value": {
                "id": "ob_46",
                "sync": true,
                "value": false
               }
              },
              "systemjs_options": null
             },
             "nodeType": "Scope",
             "props": {},
             "type": "node"
            }
           ],
           "instanceArgs": {
            "namespace": "html",
            "tag": "div"
           },
           "nodeType": "DOM",
           "props": {
            "className": "field"
           },
           "type": "node"
          }
         ],
         "instanceArgs": {
          "namespace": "html",
          "tag": "div"
         },
         "nodeType": "DOM",
         "props": {
          "attributes": {
           "style": "display:flex; justify-content:center; align-items:center;"
          }
         },
         "type": "node"
        },
        {
         "children": [
          {
           "children": [],
           "instanceArgs": {
            "id": "ob_52",
            "name": "obs-node"
           },
           "nodeType": "ObservableNode",
           "props": {},
           "type": "node"
          }
         ],
         "instanceArgs": {
          "handlers": {},
          "id": "scope-17c766b0-e8d9-40b0-b9b6-d3e345c54dee",
          "imports": {
           "data": [],
           "type": "async_block"
          },
          "observables": {
           "obs-node": {
            "id": "ob_52",
            "sync": false,
            "value": {
             "children": [
              {
               "children": [],
               "instanceArgs": {
                "namespace": "html",
                "tag": "div"
               },
               "nodeType": "DOM",
               "props": {
                "setInnerHtml": "<?xml version=\"1.0\" encoding=\"utf-8\"?>\n<svg xmlns=\"http://www.w3.org/2000/svg\" xmlns:xlink=\"http://www.w3.org/1999/xlink\" width=\"900\" height=\"300\" viewBox=\"0 0 3600 1200\">\n<defs>\n  <clipPath id=\"clip0700\">\n    <rect x=\"0\" y=\"0\" width=\"2000\" height=\"2000\"/>\n  </clipPath>\n</defs>\n<defs>\n  <clipPath id=\"clip0701\">\n    <rect x=\"0\" y=\"0\" width=\"3600\" height=\"1200\"/>\n  </clipPath>\n</defs>\n<polygon clip-path=\"url(#clip0701)\" points=\"\n0,1200 3600,1200 3600,0 0,0 \n  \" fill=\"#ffffff\" fill-rule=\"evenodd\" fill-opacity=\"1\"/>\n<defs>\n  <clipPath id=\"clip0702\">\n    <rect x=\"720\" y=\"0\" width=\"2521\" height=\"1200\"/>\n  </clipPath>\n</defs>\n<polygon clip-path=\"url(#clip0701)\" points=\"\n288.452,1057.25 3521.26,1057.25 3521.26,47.2441 288.452,47.2441 \n  \" fill=\"#ffffff\" fill-rule=\"evenodd\" fill-opacity=\"1\"/>\n<defs>\n  <clipPath id=\"clip0703\">\n    <rect x=\"288\" y=\"47\" width=\"3234\" height=\"1011\"/>\n  </clipPath>\n</defs>\n<polyline clip-path=\"url(#clip0703)\" style=\"stroke:#000000; stroke-width:2; stroke-opacity:0.1; fill:none\" points=\"\n  349.448,1057.25 349.448,47.2441 \n  \"/>\n<polyline clip-path=\"url(#clip0703)\" style=\"stroke:#000000; stroke-width:2; stroke-opacity:0.1; fill:none\" points=\"\n  1111.9,1057.25 1111.9,47.2441 \n  \"/>\n<polyline clip-path=\"url(#clip0703)\" style=\"stroke:#000000; stroke-width:2; stroke-opacity:0.1; fill:none\" points=\"\n  1874.36,1057.25 1874.36,47.2441 \n  \"/>\n<polyline clip-path=\"url(#clip0703)\" style=\"stroke:#000000; stroke-width:2; stroke-opacity:0.1; fill:none\" points=\"\n  2636.81,1057.25 2636.81,47.2441 \n  \"/>\n<polyline clip-path=\"url(#clip0703)\" style=\"stroke:#000000; stroke-width:2; stroke-opacity:0.1; fill:none\" points=\"\n  3399.27,1057.25 3399.27,47.2441 \n  \"/>\n<polyline clip-path=\"url(#clip0703)\" style=\"stroke:#000000; stroke-width:2; stroke-opacity:0.1; fill:none\" points=\"\n  288.452,974.334 3521.26,974.334 \n  \"/>\n<polyline clip-path=\"url(#clip0703)\" style=\"stroke:#000000; stroke-width:2; stroke-opacity:0.1; fill:none\" points=\"\n  288.452,833.122 3521.26,833.122 \n  \"/>\n<polyline clip-path=\"url(#clip0703)\" style=\"stroke:#000000; stroke-width:2; stroke-opacity:0.1; fill:none\" points=\"\n  288.452,691.91 3521.26,691.91 \n  \"/>\n<polyline clip-path=\"url(#clip0703)\" style=\"stroke:#000000; stroke-width:2; stroke-opacity:0.1; fill:none\" points=\"\n  288.452,550.698 3521.26,550.698 \n  \"/>\n<polyline clip-path=\"url(#clip0703)\" style=\"stroke:#000000; stroke-width:2; stroke-opacity:0.1; fill:none\" points=\"\n  288.452,409.486 3521.26,409.486 \n  \"/>\n<polyline clip-path=\"url(#clip0703)\" style=\"stroke:#000000; stroke-width:2; stroke-opacity:0.1; fill:none\" points=\"\n  288.452,268.274 3521.26,268.274 \n  \"/>\n<polyline clip-path=\"url(#clip0703)\" style=\"stroke:#000000; stroke-width:2; stroke-opacity:0.1; fill:none\" points=\"\n  288.452,127.062 3521.26,127.062 \n  \"/>\n<polyline clip-path=\"url(#clip0701)\" style=\"stroke:#000000; stroke-width:4; stroke-opacity:1; fill:none\" points=\"\n  288.452,1057.25 3521.26,1057.25 \n  \"/>\n<polyline clip-path=\"url(#clip0701)\" style=\"stroke:#000000; stroke-width:4; stroke-opacity:1; fill:none\" points=\"\n  288.452,1057.25 288.452,47.2441 \n  \"/>\n<polyline clip-path=\"url(#clip0701)\" style=\"stroke:#000000; stroke-width:4; stroke-opacity:1; fill:none\" points=\"\n  349.448,1057.25 349.448,1042.1 \n  \"/>\n<polyline clip-path=\"url(#clip0701)\" style=\"stroke:#000000; stroke-width:4; stroke-opacity:1; fill:none\" points=\"\n  1111.9,1057.25 1111.9,1042.1 \n  \"/>\n<polyline clip-path=\"url(#clip0701)\" style=\"stroke:#000000; stroke-width:4; stroke-opacity:1; fill:none\" points=\"\n  1874.36,1057.25 1874.36,1042.1 \n  \"/>\n<polyline clip-path=\"url(#clip0701)\" style=\"stroke:#000000; stroke-width:4; stroke-opacity:1; fill:none\" points=\"\n  2636.81,1057.25 2636.81,1042.1 \n  \"/>\n<polyline clip-path=\"url(#clip0701)\" style=\"stroke:#000000; stroke-width:4; stroke-opacity:1; fill:none\" points=\"\n  3399.27,1057.25 3399.27,1042.1 \n  \"/>\n<polyline clip-path=\"url(#clip0701)\" style=\"stroke:#000000; stroke-width:4; stroke-opacity:1; fill:none\" points=\"\n  288.452,974.334 336.944,974.334 \n  \"/>\n<polyline clip-path=\"url(#clip0701)\" style=\"stroke:#000000; stroke-width:4; stroke-opacity:1; fill:none\" points=\"\n  288.452,833.122 336.944,833.122 \n  \"/>\n<polyline clip-path=\"url(#clip0701)\" style=\"stroke:#000000; stroke-width:4; stroke-opacity:1; fill:none\" points=\"\n  288.452,691.91 336.944,691.91 \n  \"/>\n<polyline clip-path=\"url(#clip0701)\" style=\"stroke:#000000; stroke-width:4; stroke-opacity:1; fill:none\" points=\"\n  288.452,550.698 336.944,550.698 \n  \"/>\n<polyline clip-path=\"url(#clip0701)\" style=\"stroke:#000000; stroke-width:4; stroke-opacity:1; fill:none\" points=\"\n  288.452,409.486 336.944,409.486 \n  \"/>\n<polyline clip-path=\"url(#clip0701)\" style=\"stroke:#000000; stroke-width:4; stroke-opacity:1; fill:none\" points=\"\n  288.452,268.274 336.944,268.274 \n  \"/>\n<polyline clip-path=\"url(#clip0701)\" style=\"stroke:#000000; stroke-width:4; stroke-opacity:1; fill:none\" points=\"\n  288.452,127.062 336.944,127.062 \n  \"/>\n<g clip-path=\"url(#clip0701)\">\n<text style=\"fill:#000000; fill-opacity:1; font-family:Arial,Helvetica Neue,Helvetica,sans-serif; font-size:48px; text-anchor:middle;\" transform=\"rotate(0, 349.448, 1117.25)\" x=\"349.448\" y=\"1117.25\">0</text>\n</g>\n<g clip-path=\"url(#clip0701)\">\n<text style=\"fill:#000000; fill-opacity:1; font-family:Arial,Helvetica Neue,Helvetica,sans-serif; font-size:48px; text-anchor:middle;\" transform=\"rotate(0, 1111.9, 1117.25)\" x=\"1111.9\" y=\"1117.25\">25</text>\n</g>\n<g clip-path=\"url(#clip0701)\">\n<text style=\"fill:#000000; fill-opacity:1; font-family:Arial,Helvetica Neue,Helvetica,sans-serif; font-size:48px; text-anchor:middle;\" transform=\"rotate(0, 1874.36, 1117.25)\" x=\"1874.36\" y=\"1117.25\">50</text>\n</g>\n<g clip-path=\"url(#clip0701)\">\n<text style=\"fill:#000000; fill-opacity:1; font-family:Arial,Helvetica Neue,Helvetica,sans-serif; font-size:48px; text-anchor:middle;\" transform=\"rotate(0, 2636.81, 1117.25)\" x=\"2636.81\" y=\"1117.25\">75</text>\n</g>\n<g clip-path=\"url(#clip0701)\">\n<text style=\"fill:#000000; fill-opacity:1; font-family:Arial,Helvetica Neue,Helvetica,sans-serif; font-size:48px; text-anchor:middle;\" transform=\"rotate(0, 3399.27, 1117.25)\" x=\"3399.27\" y=\"1117.25\">100</text>\n</g>\n<g clip-path=\"url(#clip0701)\">\n<text style=\"fill:#000000; fill-opacity:1; font-family:Arial,Helvetica Neue,Helvetica,sans-serif; font-size:48px; text-anchor:start;\" transform=\"rotate(0, 143.471, 998.062)\" x=\"143.471\" y=\"998.062\">10</text>\n</g>\n<g clip-path=\"url(#clip0701)\">\n<text style=\"fill:#000000; fill-opacity:1; font-family:Arial,Helvetica Neue,Helvetica,sans-serif; font-size:38px; text-anchor:start;\" transform=\"rotate(0, 196.996, 970.652)\" x=\"196.996\" y=\"970.652\">-</text>\n</g>\n<g clip-path=\"url(#clip0701)\">\n<text style=\"fill:#000000; fill-opacity:1; font-family:Arial,Helvetica Neue,Helvetica,sans-serif; font-size:38px; text-anchor:start;\" transform=\"rotate(0, 219.836, 970.652)\" x=\"219.836\" y=\"970.652\">5 </text>\n</g>\n<g clip-path=\"url(#clip0701)\">\n<text style=\"fill:#000000; fill-opacity:1; font-family:Arial,Helvetica Neue,Helvetica,sans-serif; font-size:48px; text-anchor:start;\" transform=\"rotate(0, 166.311, 856.85)\" x=\"166.311\" y=\"856.85\">10</text>\n</g>\n<g clip-path=\"url(#clip0701)\">\n<text style=\"fill:#000000; fill-opacity:1; font-family:Arial,Helvetica Neue,Helvetica,sans-serif; font-size:38px; text-anchor:start;\" transform=\"rotate(0, 219.836, 829.44)\" x=\"219.836\" y=\"829.44\">0 </text>\n</g>\n<g clip-path=\"url(#clip0701)\">\n<text style=\"fill:#000000; fill-opacity:1; font-family:Arial,Helvetica Neue,Helvetica,sans-serif; font-size:48px; text-anchor:start;\" transform=\"rotate(0, 166.311, 715.638)\" x=\"166.311\" y=\"715.638\">10</text>\n</g>\n<g clip-path=\"url(#clip0701)\">\n<text style=\"fill:#000000; fill-opacity:1; font-family:Arial,Helvetica Neue,Helvetica,sans-serif; font-size:38px; text-anchor:start;\" transform=\"rotate(0, 219.836, 688.228)\" x=\"219.836\" y=\"688.228\">5 </text>\n</g>\n<g clip-path=\"url(#clip0701)\">\n<text style=\"fill:#000000; fill-opacity:1; font-family:Arial,Helvetica Neue,Helvetica,sans-serif; font-size:48px; text-anchor:start;\" transform=\"rotate(0, 144.566, 574.426)\" x=\"144.566\" y=\"574.426\">10</text>\n</g>\n<g clip-path=\"url(#clip0701)\">\n<text style=\"fill:#000000; fill-opacity:1; font-family:Arial,Helvetica Neue,Helvetica,sans-serif; font-size:38px; text-anchor:start;\" transform=\"rotate(0, 198.091, 547.016)\" x=\"198.091\" y=\"547.016\">10 </text>\n</g>\n<g clip-path=\"url(#clip0701)\">\n<text style=\"fill:#000000; fill-opacity:1; font-family:Arial,Helvetica Neue,Helvetica,sans-serif; font-size:48px; text-anchor:start;\" transform=\"rotate(0, 144.566, 433.214)\" x=\"144.566\" y=\"433.214\">10</text>\n</g>\n<g clip-path=\"url(#clip0701)\">\n<text style=\"fill:#000000; fill-opacity:1; font-family:Arial,Helvetica Neue,Helvetica,sans-serif; font-size:38px; text-anchor:start;\" transform=\"rotate(0, 198.091, 405.804)\" x=\"198.091\" y=\"405.804\">15 </text>\n</g>\n<g clip-path=\"url(#clip0701)\">\n<text style=\"fill:#000000; fill-opacity:1; font-family:Arial,Helvetica Neue,Helvetica,sans-serif; font-size:48px; text-anchor:start;\" transform=\"rotate(0, 144.566, 292.002)\" x=\"144.566\" y=\"292.002\">10</text>\n</g>\n<g clip-path=\"url(#clip0701)\">\n<text style=\"fill:#000000; fill-opacity:1; font-family:Arial,Helvetica Neue,Helvetica,sans-serif; font-size:38px; text-anchor:start;\" transform=\"rotate(0, 198.091, 264.592)\" x=\"198.091\" y=\"264.592\">20 </text>\n</g>\n<g clip-path=\"url(#clip0701)\">\n<text style=\"fill:#000000; fill-opacity:1; font-family:Arial,Helvetica Neue,Helvetica,sans-serif; font-size:48px; text-anchor:start;\" transform=\"rotate(0, 144.566, 150.79)\" x=\"144.566\" y=\"150.79\">10</text>\n</g>\n<g clip-path=\"url(#clip0701)\">\n<text style=\"fill:#000000; fill-opacity:1; font-family:Arial,Helvetica Neue,Helvetica,sans-serif; font-size:38px; text-anchor:start;\" transform=\"rotate(0, 198.091, 123.38)\" x=\"198.091\" y=\"123.38\">25 </text>\n</g>\n<g clip-path=\"url(#clip0701)\">\n<text style=\"fill:#000000; fill-opacity:1; font-family:Arial,Helvetica Neue,Helvetica,sans-serif; font-size:66px; text-anchor:middle;\" transform=\"rotate(0, 1904.86, 1190.4)\" x=\"1904.86\" y=\"1190.4\">#nodes</text>\n</g>\n<g clip-path=\"url(#clip0701)\">\n<text style=\"fill:#000000; fill-opacity:1; font-family:Arial,Helvetica Neue,Helvetica,sans-serif; font-size:66px; text-anchor:middle;\" transform=\"rotate(-90, 57.6, 552.247)\" x=\"57.6\" y=\"552.247\">abs. error</text>\n</g>\n<polyline clip-path=\"url(#clip0703)\" style=\"stroke:#ff0000; stroke-width:4; stroke-opacity:1; fill:none\" points=\"\n  379.947,1028.66 410.445,824.621 440.943,829.295 471.441,837.597 501.939,807.952 532.438,797.968 562.936,794.579 593.434,798.538 623.932,783.685 654.43,802.781 \n  684.929,792.733 715.427,806.329 745.925,829.273 776.423,858.985 806.921,893.027 837.419,913.154 867.918,900.072 898.416,890.356 928.914,882.837 959.412,879.524 \n  989.91,884.007 1020.41,895.774 1050.91,866.122 1081.4,844.978 1111.9,830.487 1142.4,819.412 1172.9,810.396 1203.4,802.931 1233.9,797.181 1264.39,793.794 \n  1294.89,793.911 1325.39,803.967 1355.89,786.021 1386.39,763.46 1416.89,746.351 1447.38,732.431 1477.88,720.974 1508.38,710.904 1538.88,700.411 1569.38,687.896 \n  1599.87,673.817 1630.37,659.739 1660.87,646.626 1691.37,634.825 1721.87,624.441 1752.37,615.519 1782.86,608.092 1813.36,602.173 1843.86,597.701 1874.36,594.435 \n  1904.86,591.811 1935.35,588.907 1965.85,584.612 1996.35,577.507 2026.85,566.533 2057.35,553.207 2087.85,540.053 2118.34,528.405 2148.84,518.765 2179.34,511.501 \n  2209.84,507.404 2240.34,509.13 2270.83,545.967 2301.33,524.988 2331.83,478.627 2362.33,455.338 2392.83,438.035 2423.33,423.714 2453.82,411.375 2484.32,400.525 \n  2514.82,390.845 2545.32,382.111 2575.82,374.208 2606.31,367.227 2636.81,361.669 2667.31,359.094 2697.81,369.189 2728.31,347.538 2758.81,328.786 2789.3,315.15 \n  2819.8,302.937 2850.3,290.751 2880.8,278.128 2911.3,265.334 2941.79,252.851 2972.29,241.002 3002.79,229.881 3033.29,219.42 3063.79,209.457 3094.29,199.789 \n  3124.78,190.223 3155.28,180.606 3185.78,170.829 3216.28,160.8 3246.78,150.434 3277.27,139.685 3307.77,128.61 3338.27,117.38 3368.77,106.226 3399.27,95.3603 \n  3429.77,84.9389 \n  \"/>\n<polyline clip-path=\"url(#clip0703)\" style=\"stroke:#ff0000; stroke-width:4; stroke-opacity:0; fill:none\" points=\"\n  379.947,1028.66 532.438,797.968 684.929,792.733 837.419,913.154 989.91,884.007 1142.4,819.412 1294.89,793.911 1447.38,732.431 1599.87,673.817 1752.37,615.519 \n  1904.86,591.811 2057.35,553.207 2209.84,507.404 2362.33,455.338 2514.82,390.845 2667.31,359.094 2819.8,302.937 2972.29,241.002 3124.78,190.223 3277.27,139.685 \n  3429.77,84.9389 \n  \"/>\n<circle clip-path=\"url(#clip0703)\" style=\"fill:#000000; stroke:none; fill-opacity:1\" cx=\"379.947\" cy=\"1028.66\" r=\"18\"/>\n<circle clip-path=\"url(#clip0703)\" style=\"fill:#ff0000; stroke:none; fill-opacity:1\" cx=\"379.947\" cy=\"1028.66\" r=\"14\"/>\n<circle clip-path=\"url(#clip0703)\" style=\"fill:#000000; stroke:none; fill-opacity:1\" cx=\"532.438\" cy=\"797.968\" r=\"18\"/>\n<circle clip-path=\"url(#clip0703)\" style=\"fill:#ff0000; stroke:none; fill-opacity:1\" cx=\"532.438\" cy=\"797.968\" r=\"14\"/>\n<circle clip-path=\"url(#clip0703)\" style=\"fill:#000000; stroke:none; fill-opacity:1\" cx=\"684.929\" cy=\"792.733\" r=\"18\"/>\n<circle clip-path=\"url(#clip0703)\" style=\"fill:#ff0000; stroke:none; fill-opacity:1\" cx=\"684.929\" cy=\"792.733\" r=\"14\"/>\n<circle clip-path=\"url(#clip0703)\" style=\"fill:#000000; stroke:none; fill-opacity:1\" cx=\"837.419\" cy=\"913.154\" r=\"18\"/>\n<circle clip-path=\"url(#clip0703)\" style=\"fill:#ff0000; stroke:none; fill-opacity:1\" cx=\"837.419\" cy=\"913.154\" r=\"14\"/>\n<circle clip-path=\"url(#clip0703)\" style=\"fill:#000000; stroke:none; fill-opacity:1\" cx=\"989.91\" cy=\"884.007\" r=\"18\"/>\n<circle clip-path=\"url(#clip0703)\" style=\"fill:#ff0000; stroke:none; fill-opacity:1\" cx=\"989.91\" cy=\"884.007\" r=\"14\"/>\n<circle clip-path=\"url(#clip0703)\" style=\"fill:#000000; stroke:none; fill-opacity:1\" cx=\"1142.4\" cy=\"819.412\" r=\"18\"/>\n<circle clip-path=\"url(#clip0703)\" style=\"fill:#ff0000; stroke:none; fill-opacity:1\" cx=\"1142.4\" cy=\"819.412\" r=\"14\"/>\n<circle clip-path=\"url(#clip0703)\" style=\"fill:#000000; stroke:none; fill-opacity:1\" cx=\"1294.89\" cy=\"793.911\" r=\"18\"/>\n<circle clip-path=\"url(#clip0703)\" style=\"fill:#ff0000; stroke:none; fill-opacity:1\" cx=\"1294.89\" cy=\"793.911\" r=\"14\"/>\n<circle clip-path=\"url(#clip0703)\" style=\"fill:#000000; stroke:none; fill-opacity:1\" cx=\"1447.38\" cy=\"732.431\" r=\"18\"/>\n<circle clip-path=\"url(#clip0703)\" style=\"fill:#ff0000; stroke:none; fill-opacity:1\" cx=\"1447.38\" cy=\"732.431\" r=\"14\"/>\n<circle clip-path=\"url(#clip0703)\" style=\"fill:#000000; stroke:none; fill-opacity:1\" cx=\"1599.87\" cy=\"673.817\" r=\"18\"/>\n<circle clip-path=\"url(#clip0703)\" style=\"fill:#ff0000; stroke:none; fill-opacity:1\" cx=\"1599.87\" cy=\"673.817\" r=\"14\"/>\n<circle clip-path=\"url(#clip0703)\" style=\"fill:#000000; stroke:none; fill-opacity:1\" cx=\"1752.37\" cy=\"615.519\" r=\"18\"/>\n<circle clip-path=\"url(#clip0703)\" style=\"fill:#ff0000; stroke:none; fill-opacity:1\" cx=\"1752.37\" cy=\"615.519\" r=\"14\"/>\n<circle clip-path=\"url(#clip0703)\" style=\"fill:#000000; stroke:none; fill-opacity:1\" cx=\"1904.86\" cy=\"591.811\" r=\"18\"/>\n<circle clip-path=\"url(#clip0703)\" style=\"fill:#ff0000; stroke:none; fill-opacity:1\" cx=\"1904.86\" cy=\"591.811\" r=\"14\"/>\n<circle clip-path=\"url(#clip0703)\" style=\"fill:#000000; stroke:none; fill-opacity:1\" cx=\"2057.35\" cy=\"553.207\" r=\"18\"/>\n<circle clip-path=\"url(#clip0703)\" style=\"fill:#ff0000; stroke:none; fill-opacity:1\" cx=\"2057.35\" cy=\"553.207\" r=\"14\"/>\n<circle clip-path=\"url(#clip0703)\" style=\"fill:#000000; stroke:none; fill-opacity:1\" cx=\"2209.84\" cy=\"507.404\" r=\"18\"/>\n<circle clip-path=\"url(#clip0703)\" style=\"fill:#ff0000; stroke:none; fill-opacity:1\" cx=\"2209.84\" cy=\"507.404\" r=\"14\"/>\n<circle clip-path=\"url(#clip0703)\" style=\"fill:#000000; stroke:none; fill-opacity:1\" cx=\"2362.33\" cy=\"455.338\" r=\"18\"/>\n<circle clip-path=\"url(#clip0703)\" style=\"fill:#ff0000; stroke:none; fill-opacity:1\" cx=\"2362.33\" cy=\"455.338\" r=\"14\"/>\n<circle clip-path=\"url(#clip0703)\" style=\"fill:#000000; stroke:none; fill-opacity:1\" cx=\"2514.82\" cy=\"390.845\" r=\"18\"/>\n<circle clip-path=\"url(#clip0703)\" style=\"fill:#ff0000; stroke:none; fill-opacity:1\" cx=\"2514.82\" cy=\"390.845\" r=\"14\"/>\n<circle clip-path=\"url(#clip0703)\" style=\"fill:#000000; stroke:none; fill-opacity:1\" cx=\"2667.31\" cy=\"359.094\" r=\"18\"/>\n<circle clip-path=\"url(#clip0703)\" style=\"fill:#ff0000; stroke:none; fill-opacity:1\" cx=\"2667.31\" cy=\"359.094\" r=\"14\"/>\n<circle clip-path=\"url(#clip0703)\" style=\"fill:#000000; stroke:none; fill-opacity:1\" cx=\"2819.8\" cy=\"302.937\" r=\"18\"/>\n<circle clip-path=\"url(#clip0703)\" style=\"fill:#ff0000; stroke:none; fill-opacity:1\" cx=\"2819.8\" cy=\"302.937\" r=\"14\"/>\n<circle clip-path=\"url(#clip0703)\" style=\"fill:#000000; stroke:none; fill-opacity:1\" cx=\"2972.29\" cy=\"241.002\" r=\"18\"/>\n<circle clip-path=\"url(#clip0703)\" style=\"fill:#ff0000; stroke:none; fill-opacity:1\" cx=\"2972.29\" cy=\"241.002\" r=\"14\"/>\n<circle clip-path=\"url(#clip0703)\" style=\"fill:#000000; stroke:none; fill-opacity:1\" cx=\"3124.78\" cy=\"190.223\" r=\"18\"/>\n<circle clip-path=\"url(#clip0703)\" style=\"fill:#ff0000; stroke:none; fill-opacity:1\" cx=\"3124.78\" cy=\"190.223\" r=\"14\"/>\n<circle clip-path=\"url(#clip0703)\" style=\"fill:#000000; stroke:none; fill-opacity:1\" cx=\"3277.27\" cy=\"139.685\" r=\"18\"/>\n<circle clip-path=\"url(#clip0703)\" style=\"fill:#ff0000; stroke:none; fill-opacity:1\" cx=\"3277.27\" cy=\"139.685\" r=\"14\"/>\n<circle clip-path=\"url(#clip0703)\" style=\"fill:#000000; stroke:none; fill-opacity:1\" cx=\"3429.77\" cy=\"84.9389\" r=\"18\"/>\n<circle clip-path=\"url(#clip0703)\" style=\"fill:#ff0000; stroke:none; fill-opacity:1\" cx=\"3429.77\" cy=\"84.9389\" r=\"14\"/>\n<polyline clip-path=\"url(#clip0703)\" style=\"stroke:#008000; stroke-width:4; stroke-opacity:1; fill:none\" points=\"\n  379.947,1028.66 410.445,824.621 440.943,829.295 471.441,837.597 501.939,807.952 532.438,797.968 562.936,794.579 593.434,798.538 623.932,783.685 654.43,802.781 \n  684.929,792.733 715.427,806.329 745.925,829.275 776.423,858.968 806.921,895.182 837.419,1028.66 867.918,909.639 898.416,909.639 928.914,909.639 959.412,1028.66 \n  989.91,870.658 1020.41,1028.66 1050.91,1028.66 1081.4,1028.66 1111.9,833.122 1142.4,833.122 1172.9,833.122 1203.4,799.907 1233.9,833.122 1264.39,781.921 \n  1294.89,765.156 1325.39,748.116 1355.89,833.122 1386.39,739.609 1416.89,731.104 1447.38,722.597 1477.88,833.122 1508.38,833.122 1538.88,688.592 1569.38,680.09 \n  1599.87,671.588 1630.37,663.086 1660.87,646.083 1691.37,833.122 1721.87,637.581 1752.37,629.079 1782.86,620.577 1813.36,603.574 1843.86,595.072 1874.36,586.57 \n  1904.86,586.57 1935.35,833.122 1965.85,556.091 1996.35,561.065 2026.85,552.563 2057.35,833.122 2087.85,535.559 2118.34,527.057 2148.84,513.582 2179.34,518.555 \n  2209.84,500.453 2240.34,501.552 2270.83,484.548 2301.33,467.545 2331.83,450.541 2362.33,833.122 2392.83,433.537 2423.33,833.122 2453.82,833.122 2484.32,399.53 \n  2514.82,391.028 2545.32,833.122 2575.82,833.122 2606.31,357.021 2636.81,833.122 2667.31,833.122 2697.81,323.014 2728.31,306.01 2758.81,833.122 2789.3,289.007 \n  2819.8,280.505 2850.3,833.122 2880.8,833.122 2911.3,246.498 2941.79,833.122 2972.29,220.992 3002.79,220.992 3033.29,833.122 3063.79,833.122 3094.29,833.122 \n  3124.78,833.122 3155.28,833.122 3185.78,152.978 3216.28,144.476 3246.78,833.122 3277.27,127.472 3307.77,118.97 3338.27,833.122 3368.77,833.122 3399.27,84.9631 \n  3429.77,75.8291 \n  \"/>\n<polyline clip-path=\"url(#clip0703)\" style=\"stroke:#008000; stroke-width:4; stroke-opacity:0; fill:none\" points=\"\n  379.947,1028.66 623.932,783.685 867.918,909.639 1111.9,833.122 1355.89,833.122 1599.87,671.588 1843.86,595.072 2087.85,535.559 2331.83,450.541 2575.82,833.122 \n  2819.8,280.505 3063.79,833.122 3307.77,118.97 \n  \"/>\n<polygon clip-path=\"url(#clip0703)\" style=\"fill:#000000; fill-opacity:1\" points=\"\n  379.947,1004.66 374.307,1020.89 357.123,1021.25 370.827,1031.64 365.835,1048.08 379.947,1038.26 394.059,1048.08 389.067,1031.64 402.771,1021.25 385.587,1020.89 \n  379.947,1004.66 \n  \"/>\n<polygon clip-path=\"url(#clip0703)\" style=\"fill:#008000; fill-opacity:1\" points=\"\n  379.947,1008.66 375.247,1022.18 360.927,1022.48 372.347,1031.14 368.187,1044.84 379.947,1036.66 391.707,1044.84 387.547,1031.14 398.967,1022.48 384.647,1022.18 \n  379.947,1008.66 \n  \"/>\n<polygon clip-path=\"url(#clip0703)\" style=\"fill:#000000; fill-opacity:1\" points=\"\n  623.932,759.685 618.292,775.909 601.108,776.269 614.812,786.661 609.82,803.101 623.932,793.285 638.044,803.101 633.052,786.661 646.756,776.269 629.572,775.909 \n  623.932,759.685 \n  \"/>\n<polygon clip-path=\"url(#clip0703)\" style=\"fill:#008000; fill-opacity:1\" points=\"\n  623.932,763.685 619.232,777.205 604.912,777.505 616.332,786.165 612.172,799.865 623.932,791.685 635.692,799.865 631.532,786.165 642.952,777.505 628.632,777.205 \n  623.932,763.685 \n  \"/>\n<polygon clip-path=\"url(#clip0703)\" style=\"fill:#000000; fill-opacity:1\" points=\"\n  867.918,885.639 862.278,901.863 845.094,902.223 858.798,912.615 853.806,929.055 867.918,919.239 882.03,929.055 877.038,912.615 890.742,902.223 873.558,901.863 \n  867.918,885.639 \n  \"/>\n<polygon clip-path=\"url(#clip0703)\" style=\"fill:#008000; fill-opacity:1\" points=\"\n  867.918,889.639 863.218,903.159 848.898,903.459 860.318,912.119 856.158,925.819 867.918,917.639 879.678,925.819 875.518,912.119 886.938,903.459 872.618,903.159 \n  867.918,889.639 \n  \"/>\n<polygon clip-path=\"url(#clip0703)\" style=\"fill:#000000; fill-opacity:1\" points=\"\n  1111.9,809.122 1106.26,825.346 1089.08,825.706 1102.78,836.098 1097.79,852.538 1111.9,842.722 1126.02,852.538 1121.02,836.098 1134.73,825.706 1117.54,825.346 \n  1111.9,809.122 \n  \"/>\n<polygon clip-path=\"url(#clip0703)\" style=\"fill:#008000; fill-opacity:1\" points=\"\n  1111.9,813.122 1107.2,826.642 1092.88,826.942 1104.3,835.602 1100.14,849.302 1111.9,841.122 1123.66,849.302 1119.5,835.602 1130.92,826.942 1116.6,826.642 \n  1111.9,813.122 \n  \"/>\n<polygon clip-path=\"url(#clip0703)\" style=\"fill:#000000; fill-opacity:1\" points=\"\n  1355.89,809.122 1350.25,825.346 1333.06,825.706 1346.77,836.098 1341.78,852.538 1355.89,842.722 1370,852.538 1365.01,836.098 1378.71,825.706 1361.53,825.346 \n  1355.89,809.122 \n  \"/>\n<polygon clip-path=\"url(#clip0703)\" style=\"fill:#008000; fill-opacity:1\" points=\"\n  1355.89,813.122 1351.19,826.642 1336.87,826.942 1348.29,835.602 1344.13,849.302 1355.89,841.122 1367.65,849.302 1363.49,835.602 1374.91,826.942 1360.59,826.642 \n  1355.89,813.122 \n  \"/>\n<polygon clip-path=\"url(#clip0703)\" style=\"fill:#000000; fill-opacity:1\" points=\"\n  1599.87,647.588 1594.23,663.812 1577.05,664.172 1590.75,674.564 1585.76,691.004 1599.87,681.188 1613.99,691.004 1608.99,674.564 1622.7,664.172 1605.51,663.812 \n  1599.87,647.588 \n  \"/>\n<polygon clip-path=\"url(#clip0703)\" style=\"fill:#008000; fill-opacity:1\" points=\"\n  1599.87,651.588 1595.17,665.108 1580.85,665.408 1592.27,674.068 1588.11,687.768 1599.87,679.588 1611.63,687.768 1607.47,674.068 1618.89,665.408 1604.57,665.108 \n  1599.87,651.588 \n  \"/>\n<polygon clip-path=\"url(#clip0703)\" style=\"fill:#000000; fill-opacity:1\" points=\"\n  1843.86,571.072 1838.22,587.296 1821.04,587.656 1834.74,598.048 1829.75,614.488 1843.86,604.672 1857.97,614.488 1852.98,598.048 1866.68,587.656 1849.5,587.296 \n  1843.86,571.072 \n  \"/>\n<polygon clip-path=\"url(#clip0703)\" style=\"fill:#008000; fill-opacity:1\" points=\"\n  1843.86,575.072 1839.16,588.592 1824.84,588.892 1836.26,597.552 1832.1,611.252 1843.86,603.072 1855.62,611.252 1851.46,597.552 1862.88,588.892 1848.56,588.592 \n  1843.86,575.072 \n  \"/>\n<polygon clip-path=\"url(#clip0703)\" style=\"fill:#000000; fill-opacity:1\" points=\"\n  2087.85,511.559 2082.21,527.783 2065.02,528.143 2078.73,538.535 2073.73,554.975 2087.85,545.159 2101.96,554.975 2096.97,538.535 2110.67,528.143 2093.49,527.783 \n  2087.85,511.559 \n  \"/>\n<polygon clip-path=\"url(#clip0703)\" style=\"fill:#008000; fill-opacity:1\" points=\"\n  2087.85,515.559 2083.15,529.079 2068.83,529.379 2080.25,538.039 2076.09,551.739 2087.85,543.559 2099.61,551.739 2095.45,538.039 2106.87,529.379 2092.55,529.079 \n  2087.85,515.559 \n  \"/>\n<polygon clip-path=\"url(#clip0703)\" style=\"fill:#000000; fill-opacity:1\" points=\"\n  2331.83,426.541 2326.19,442.765 2309.01,443.125 2322.71,453.517 2317.72,469.957 2331.83,460.141 2345.94,469.957 2340.95,453.517 2354.65,443.125 2337.47,442.765 \n  2331.83,426.541 \n  \"/>\n<polygon clip-path=\"url(#clip0703)\" style=\"fill:#008000; fill-opacity:1\" points=\"\n  2331.83,430.541 2327.13,444.061 2312.81,444.361 2324.23,453.021 2320.07,466.721 2331.83,458.541 2343.59,466.721 2339.43,453.021 2350.85,444.361 2336.53,444.061 \n  2331.83,430.541 \n  \"/>\n<polygon clip-path=\"url(#clip0703)\" style=\"fill:#000000; fill-opacity:1\" points=\"\n  2575.82,809.122 2570.18,825.346 2552.99,825.706 2566.7,836.098 2561.7,852.538 2575.82,842.722 2589.93,852.538 2584.94,836.098 2598.64,825.706 2581.46,825.346 \n  2575.82,809.122 \n  \"/>\n<polygon clip-path=\"url(#clip0703)\" style=\"fill:#008000; fill-opacity:1\" points=\"\n  2575.82,813.122 2571.12,826.642 2556.8,826.942 2568.22,835.602 2564.06,849.302 2575.82,841.122 2587.58,849.302 2583.42,835.602 2594.84,826.942 2580.52,826.642 \n  2575.82,813.122 \n  \"/>\n<polygon clip-path=\"url(#clip0703)\" style=\"fill:#000000; fill-opacity:1\" points=\"\n  2819.8,256.505 2814.16,272.729 2796.98,273.089 2810.68,283.481 2805.69,299.921 2819.8,290.105 2833.91,299.921 2828.92,283.481 2842.63,273.089 2825.44,272.729 \n  2819.8,256.505 \n  \"/>\n<polygon clip-path=\"url(#clip0703)\" style=\"fill:#008000; fill-opacity:1\" points=\"\n  2819.8,260.505 2815.1,274.025 2800.78,274.325 2812.2,282.985 2808.04,296.685 2819.8,288.505 2831.56,296.685 2827.4,282.985 2838.82,274.325 2824.5,274.025 \n  2819.8,260.505 \n  \"/>\n<polygon clip-path=\"url(#clip0703)\" style=\"fill:#000000; fill-opacity:1\" points=\"\n  3063.79,809.122 3058.15,825.346 3040.96,825.706 3054.67,836.098 3049.68,852.538 3063.79,842.722 3077.9,852.538 3072.91,836.098 3086.61,825.706 3069.43,825.346 \n  3063.79,809.122 \n  \"/>\n<polygon clip-path=\"url(#clip0703)\" style=\"fill:#008000; fill-opacity:1\" points=\"\n  3063.79,813.122 3059.09,826.642 3044.77,826.942 3056.19,835.602 3052.03,849.302 3063.79,841.122 3075.55,849.302 3071.39,835.602 3082.81,826.942 3068.49,826.642 \n  3063.79,813.122 \n  \"/>\n<polygon clip-path=\"url(#clip0703)\" style=\"fill:#000000; fill-opacity:1\" points=\"\n  3307.77,94.9704 3302.13,111.194 3284.95,111.554 3298.65,121.946 3293.66,138.386 3307.77,128.57 3321.88,138.386 3316.89,121.946 3330.6,111.554 3313.41,111.194 \n  3307.77,94.9704 \n  \"/>\n<polygon clip-path=\"url(#clip0703)\" style=\"fill:#008000; fill-opacity:1\" points=\"\n  3307.77,98.9704 3303.07,112.49 3288.75,112.79 3300.17,121.45 3296.01,135.15 3307.77,126.97 3319.53,135.15 3315.37,121.45 3326.79,112.79 3312.47,112.49 \n  3307.77,98.9704 \n  \"/>\n<polyline clip-path=\"url(#clip0703)\" style=\"stroke:#0000ff; stroke-width:12; stroke-opacity:1; fill:none\" points=\"\n  379.947,1028.66 410.445,824.621 440.943,829.295 471.441,837.597 501.939,807.952 532.438,797.968 562.936,794.579 593.434,798.538 623.932,783.685 654.43,802.781 \n  684.929,792.733 715.427,806.329 745.925,829.273 776.423,858.991 806.921,896.236 837.419,932.554 867.918,904.512 898.416,899.175 \n  \"/>\n<polyline clip-path=\"url(#clip0703)\" style=\"stroke:#ffff00; stroke-width:4; stroke-opacity:1; fill:none\" points=\"\n  379.947,1028.66 410.445,824.621 440.943,829.295 471.441,837.597 501.939,807.952 532.438,797.968 562.936,794.579 593.434,798.538 623.932,783.685 654.43,802.781 \n  684.929,792.733 715.427,806.329 745.925,829.273 776.423,858.991 806.921,896.236 837.419,932.554 867.918,904.512 898.416,899.175 \n  \"/>\n<polygon clip-path=\"url(#clip0701)\" points=\"\n1229.02,505.164 2075.79,505.164 2075.79,202.764 1229.02,202.764 \n  \" fill=\"#ffffff\" fill-rule=\"evenodd\" fill-opacity=\"1\"/>\n<polyline clip-path=\"url(#clip0701)\" style=\"stroke:#000000; stroke-width:4; stroke-opacity:1; fill:none\" points=\"\n  1229.02,505.164 2075.79,505.164 2075.79,202.764 1229.02,202.764 1229.02,505.164 \n  \"/>\n<polyline clip-path=\"url(#clip0701)\" style=\"stroke:#ff0000; stroke-width:4; stroke-opacity:0; fill:none\" points=\"\n  1265.02,263.244 1481.02,263.244 \n  \"/>\n<circle clip-path=\"url(#clip0701)\" style=\"fill:#000000; stroke:none; fill-opacity:1\" cx=\"1391.02\" cy=\"263.244\" r=\"25\"/>\n<circle clip-path=\"url(#clip0701)\" style=\"fill:#ff0000; stroke:none; fill-opacity:1\" cx=\"1391.02\" cy=\"263.244\" r=\"21\"/>\n<g clip-path=\"url(#clip0701)\">\n<text style=\"fill:#000000; fill-opacity:1; font-family:Arial,Helvetica Neue,Helvetica,sans-serif; font-size:48px; text-anchor:start;\" transform=\"rotate(0, 1517.02, 280.744)\" x=\"1517.02\" y=\"280.744\">Aitken Neville</text>\n</g>\n<polyline clip-path=\"url(#clip0701)\" style=\"stroke:#008000; stroke-width:4; stroke-opacity:0; fill:none\" points=\"\n  1265.02,323.724 1481.02,323.724 \n  \"/>\n<polygon clip-path=\"url(#clip0701)\" style=\"fill:#000000; fill-opacity:1\" points=\"\n  1391.02,295.724 1384.44,314.652 1364.39,315.072 1380.38,327.196 1374.55,346.376 1391.02,334.924 1407.48,346.376 1401.66,327.196 1417.64,315.072 1397.6,314.652 \n  1391.02,295.724 \n  \"/>\n<polygon clip-path=\"url(#clip0701)\" style=\"fill:#008000; fill-opacity:1\" points=\"\n  1391.02,299.724 1385.38,315.948 1368.19,316.308 1381.9,326.7 1376.9,343.14 1391.02,333.324 1405.13,343.14 1400.14,326.7 1413.84,316.308 1396.66,315.948 \n  1391.02,299.724 \n  \"/>\n<g clip-path=\"url(#clip0701)\">\n<text style=\"fill:#000000; fill-opacity:1; font-family:Arial,Helvetica Neue,Helvetica,sans-serif; font-size:48px; text-anchor:start;\" transform=\"rotate(0, 1517.02, 341.224)\" x=\"1517.02\" y=\"341.224\">Lagrange formula</text>\n</g>\n<polyline clip-path=\"url(#clip0701)\" style=\"stroke:#0000ff; stroke-width:12; stroke-opacity:1; fill:none\" points=\"\n  1265.02,384.204 1481.02,384.204 \n  \"/>\n<g clip-path=\"url(#clip0701)\">\n<text style=\"fill:#000000; fill-opacity:1; font-family:Arial,Helvetica Neue,Helvetica,sans-serif; font-size:48px; text-anchor:start;\" transform=\"rotate(0, 1517.02, 401.704)\" x=\"1517.02\" y=\"401.704\">Barycentric formula (1)</text>\n</g>\n<polyline clip-path=\"url(#clip0701)\" style=\"stroke:#ffff00; stroke-width:4; stroke-opacity:1; fill:none\" points=\"\n  1265.02,444.684 1481.02,444.684 \n  \"/>\n<g clip-path=\"url(#clip0701)\">\n<text style=\"fill:#000000; fill-opacity:1; font-family:Arial,Helvetica Neue,Helvetica,sans-serif; font-size:48px; text-anchor:start;\" transform=\"rotate(0, 1517.02, 462.184)\" x=\"1517.02\" y=\"462.184\">Barycentric formula (2)</text>\n</g>\n</svg>\n"
               },
               "type": "node"
              }
             ],
             "instanceArgs": {
              "namespace": "html",
              "tag": "div"
             },
             "nodeType": "DOM",
             "props": {
              "attributes": {
               "style": "display:flex; justify-content:center; align-items:center;"
              }
             },
             "type": "node"
            }
           }
          },
          "systemjs_options": null
         },
         "nodeType": "Scope",
         "props": {},
         "type": "node"
        }
       ],
       "instanceArgs": {
        "namespace": "html",
        "tag": "div"
       },
       "nodeType": "DOM",
       "props": {},
       "type": "node"
      },
      "text/html": [
       "<div\n",
       "    class=\"webio-mountpoint\"\n",
       "    data-webio-mountpoint=\"12502294507011567688\"\n",
       ">\n",
       "    <script>\n",
       "    if (window.require && require.defined && require.defined(\"nbextensions/webio/main\")) {\n",
       "        console.log(\"Jupyter WebIO extension detected, not mounting.\");\n",
       "    } else if (window.WebIO) {\n",
       "        WebIO.mount(\n",
       "            document.querySelector('[data-webio-mountpoint=\"12502294507011567688\"]'),\n",
       "            {\"props\":{},\"nodeType\":\"DOM\",\"type\":\"node\",\"instanceArgs\":{\"namespace\":\"html\",\"tag\":\"div\"},\"children\":[{\"props\":{\"className\":\"field\"},\"nodeType\":\"DOM\",\"type\":\"node\",\"instanceArgs\":{\"namespace\":\"html\",\"tag\":\"div\"},\"children\":[{\"props\":{},\"nodeType\":\"Scope\",\"type\":\"node\",\"instanceArgs\":{\"imports\":{\"data\":[{\"name\":\"knockout\",\"type\":\"js\",\"url\":\"\\/assetserver\\/2034b278c339838bc25d348e12b916fa259630cf-knockout.js\"},{\"name\":\"knockout_punches\",\"type\":\"js\",\"url\":\"\\/assetserver\\/d5260897db9d05b02ce519861ac036898a0d77f1-knockout_punches.js\"},{\"name\":null,\"type\":\"js\",\"url\":\"\\/assetserver\\/b4d7600f3b7eccfec0a7bf218aab6fc55bcc30f7-all.js\"},{\"name\":null,\"type\":\"css\",\"url\":\"\\/assetserver\\/2ad6cd9aa298d4183b761a76f8aba8e30bb42196-style.css\"},{\"name\":null,\"type\":\"css\",\"url\":\"\\/assetserver\\/953777a25a1f1beda161bd9c6596239b1c59c773-main.css\"}],\"type\":\"async_block\"},\"id\":\"knockout-component-aff5f33e-3c89-4139-a8e7-ccee674a9445\",\"handlers\":{\"_promises\":{\"importsLoaded\":[\"function (ko, koPunches) {\\n    ko.punches.enableAll();\\n    ko.bindingHandlers.numericValue = {\\n        init : function(element, valueAccessor, allBindings, data, context) {\\n            var stringified = ko.observable(ko.unwrap(valueAccessor()));\\n            stringified.subscribe(function(value) {\\n                var val = parseFloat(value);\\n                if (!isNaN(val)) {\\n                    valueAccessor()(val);\\n                }\\n            })\\n            valueAccessor().subscribe(function(value) {\\n                var str = JSON.stringify(value);\\n                if ((str == \\\"0\\\") && ([\\\"-0\\\", \\\"-0.\\\"].indexOf(stringified()) >= 0))\\n                     return;\\n                 if ([\\\"null\\\", \\\"\\\"].indexOf(str) >= 0)\\n                     return;\\n                stringified(str);\\n            })\\n            ko.applyBindingsToNode(element, { value: stringified, valueUpdate: allBindings.get('valueUpdate')}, context);\\n        }\\n    };\\n    var json_data = JSON.parse(\\\"{\\\\\\\"options_js\\\\\\\":[{\\\\\\\"key\\\\\\\":\\\\\\\"Float32\\\\\\\",\\\\\\\"val\\\\\\\":1,\\\\\\\"id\\\\\\\":\\\\\\\"id94ZmRbn0\\\\\\\"},{\\\\\\\"key\\\\\\\":\\\\\\\"Float64\\\\\\\",\\\\\\\"val\\\\\\\":2,\\\\\\\"id\\\\\\\":\\\\\\\"idwN5q6GML\\\\\\\"},{\\\\\\\"key\\\\\\\":\\\\\\\"BigFloat\\\\\\\",\\\\\\\"val\\\\\\\":3,\\\\\\\"id\\\\\\\":\\\\\\\"idMkv3N2TB\\\\\\\"}],\\\\\\\"index\\\\\\\":1}\\\");\\n    var self = this;\\n    function AppViewModel() {\\n        for (var key in json_data) {\\n            var el = json_data[key];\\n            this[key] = Array.isArray(el) ? ko.observableArray(el) : ko.observable(el);\\n        }\\n        \\n        \\n        [this[\\\"options_js\\\"].subscribe((function (val){!(this.valueFromJulia[\\\"options_js\\\"]) ? (_webIOScope.setObservableValue({\\\"name\\\":\\\"options_js\\\",\\\"scope\\\":\\\"knockout-component-aff5f33e-3c89-4139-a8e7-ccee674a9445\\\",\\\"id\\\":\\\"ob_33\\\",\\\"type\\\":\\\"observable\\\"},val)) : undefined; return this.valueFromJulia[\\\"options_js\\\"]=false}),self),this[\\\"index\\\"].subscribe((function (val){!(this.valueFromJulia[\\\"index\\\"]) ? (_webIOScope.setObservableValue({\\\"name\\\":\\\"index\\\",\\\"scope\\\":\\\"knockout-component-aff5f33e-3c89-4139-a8e7-ccee674a9445\\\",\\\"id\\\":\\\"ob_32\\\",\\\"type\\\":\\\"observable\\\"},val)) : undefined; return this.valueFromJulia[\\\"index\\\"]=false}),self)]\\n        \\n    }\\n    self.model = new AppViewModel();\\n    self.valueFromJulia = {};\\n    for (var key in json_data) {\\n        self.valueFromJulia[key] = false;\\n    }\\n    ko.applyBindings(self.model, self.dom);\\n}\\n\"]},\"options_js\":[\"(function (val){return (val!=this.model[\\\"options_js\\\"]()) ? (this.valueFromJulia[\\\"options_js\\\"]=true, this.model[\\\"options_js\\\"](val)) : undefined})\"],\"index\":[\"(function (val){return (val!=this.model[\\\"index\\\"]()) ? (this.valueFromJulia[\\\"index\\\"]=true, this.model[\\\"index\\\"](val)) : undefined})\"]},\"systemjs_options\":null,\"observables\":{\"options_js\":{\"sync\":false,\"id\":\"ob_33\",\"value\":[{\"key\":\"Float32\",\"val\":1,\"id\":\"id94ZmRbn0\"},{\"key\":\"Float64\",\"val\":2,\"id\":\"idwN5q6GML\"},{\"key\":\"BigFloat\",\"val\":3,\"id\":\"idMkv3N2TB\"}]},\"index\":{\"sync\":true,\"id\":\"ob_32\",\"value\":1}}},\"children\":[{\"props\":{\"attributes\":{\"style\":\"display:flex; justify-content:center; align-items:center;\"}},\"nodeType\":\"DOM\",\"type\":\"node\",\"instanceArgs\":{\"namespace\":\"html\",\"tag\":\"div\"},\"children\":[{\"props\":{\"attributes\":{\"style\":\"text-align:right;width:18%\"}},\"nodeType\":\"DOM\",\"type\":\"node\",\"instanceArgs\":{\"namespace\":\"html\",\"tag\":\"div\"},\"children\":[{\"props\":{\"className\":\"interact \",\"style\":{\"padding\":\"5px 10px 0px 10px\"}},\"nodeType\":\"DOM\",\"type\":\"node\",\"instanceArgs\":{\"namespace\":\"html\",\"tag\":\"label\"},\"children\":[\"T\"]}]},{\"props\":{\"attributes\":{\"style\":\"flex-grow:1; margin: 0 2%\"}},\"nodeType\":\"DOM\",\"type\":\"node\",\"instanceArgs\":{\"namespace\":\"html\",\"tag\":\"div\"},\"children\":[{\"props\":{\"attributes\":{\"data-bind\":\"foreach : options_js\"},\"className\":\"field is-grouped has-addons is-oneline is-centered\"},\"nodeType\":\"DOM\",\"type\":\"node\",\"instanceArgs\":{\"namespace\":\"html\",\"tag\":\"div\"},\"children\":[{\"props\":{\"attributes\":{\"data-bind\":\"click: function () {$root.index(val)}, css: {'is-primary is-selected' : $root.index() == val, 'button is-fullwidth' : true}\"}},\"nodeType\":\"DOM\",\"type\":\"node\",\"instanceArgs\":{\"namespace\":\"html\",\"tag\":\"button\"},\"children\":[{\"props\":{\"attributes\":{\"data-bind\":\"text : key\"}},\"nodeType\":\"DOM\",\"type\":\"node\",\"instanceArgs\":{\"namespace\":\"html\",\"tag\":\"label\"},\"children\":[]}]}]}]},{\"props\":{\"attributes\":{\"style\":\"width:18%\"}},\"nodeType\":\"DOM\",\"type\":\"node\",\"instanceArgs\":{\"namespace\":\"html\",\"tag\":\"div\"},\"children\":[{\"props\":{},\"nodeType\":\"DOM\",\"type\":\"node\",\"instanceArgs\":{\"namespace\":\"html\",\"tag\":\"div\"},\"children\":[]}]}]}]}]},{\"props\":{\"className\":\"field\"},\"nodeType\":\"DOM\",\"type\":\"node\",\"instanceArgs\":{\"namespace\":\"html\",\"tag\":\"div\"},\"children\":[{\"props\":{},\"nodeType\":\"Scope\",\"type\":\"node\",\"instanceArgs\":{\"imports\":{\"data\":[{\"name\":\"knockout\",\"type\":\"js\",\"url\":\"\\/assetserver\\/2034b278c339838bc25d348e12b916fa259630cf-knockout.js\"},{\"name\":\"knockout_punches\",\"type\":\"js\",\"url\":\"\\/assetserver\\/d5260897db9d05b02ce519861ac036898a0d77f1-knockout_punches.js\"},{\"name\":null,\"type\":\"js\",\"url\":\"\\/assetserver\\/b4d7600f3b7eccfec0a7bf218aab6fc55bcc30f7-all.js\"},{\"name\":null,\"type\":\"css\",\"url\":\"\\/assetserver\\/2ad6cd9aa298d4183b761a76f8aba8e30bb42196-style.css\"},{\"name\":null,\"type\":\"css\",\"url\":\"\\/assetserver\\/953777a25a1f1beda161bd9c6596239b1c59c773-main.css\"}],\"type\":\"async_block\"},\"id\":\"knockout-component-87902738-5706-4916-96d3-d00f4630176e\",\"handlers\":{\"_promises\":{\"importsLoaded\":[\"function (ko, koPunches) {\\n    ko.punches.enableAll();\\n    ko.bindingHandlers.numericValue = {\\n        init : function(element, valueAccessor, allBindings, data, context) {\\n            var stringified = ko.observable(ko.unwrap(valueAccessor()));\\n            stringified.subscribe(function(value) {\\n                var val = parseFloat(value);\\n                if (!isNaN(val)) {\\n                    valueAccessor()(val);\\n                }\\n            })\\n            valueAccessor().subscribe(function(value) {\\n                var str = JSON.stringify(value);\\n                if ((str == \\\"0\\\") && ([\\\"-0\\\", \\\"-0.\\\"].indexOf(stringified()) >= 0))\\n                     return;\\n                 if ([\\\"null\\\", \\\"\\\"].indexOf(str) >= 0)\\n                     return;\\n                stringified(str);\\n            })\\n            ko.applyBindingsToNode(element, { value: stringified, valueUpdate: allBindings.get('valueUpdate')}, context);\\n        }\\n    };\\n    var json_data = JSON.parse(\\\"{\\\\\\\"options_js\\\\\\\":[{\\\\\\\"key\\\\\\\":\\\\\\\"Chebyshev (40)\\\\\\\",\\\\\\\"val\\\\\\\":1,\\\\\\\"id\\\\\\\":\\\\\\\"idKSBZjQIz\\\\\\\"},{\\\\\\\"key\\\\\\\":\\\\\\\"Runge's function\\\\\\\",\\\\\\\"val\\\\\\\":2,\\\\\\\"id\\\\\\\":\\\\\\\"idhvKZ0y2c\\\\\\\"},{\\\\\\\"key\\\\\\\":\\\\\\\"sine\\\\\\\",\\\\\\\"val\\\\\\\":3,\\\\\\\"id\\\\\\\":\\\\\\\"idKQWUSiO8\\\\\\\"}],\\\\\\\"index\\\\\\\":1}\\\");\\n    var self = this;\\n    function AppViewModel() {\\n        for (var key in json_data) {\\n            var el = json_data[key];\\n            this[key] = Array.isArray(el) ? ko.observableArray(el) : ko.observable(el);\\n        }\\n        \\n        \\n        [this[\\\"options_js\\\"].subscribe((function (val){!(this.valueFromJulia[\\\"options_js\\\"]) ? (_webIOScope.setObservableValue({\\\"name\\\":\\\"options_js\\\",\\\"scope\\\":\\\"knockout-component-87902738-5706-4916-96d3-d00f4630176e\\\",\\\"id\\\":\\\"ob_38\\\",\\\"type\\\":\\\"observable\\\"},val)) : undefined; return this.valueFromJulia[\\\"options_js\\\"]=false}),self),this[\\\"index\\\"].subscribe((function (val){!(this.valueFromJulia[\\\"index\\\"]) ? (_webIOScope.setObservableValue({\\\"name\\\":\\\"index\\\",\\\"scope\\\":\\\"knockout-component-87902738-5706-4916-96d3-d00f4630176e\\\",\\\"id\\\":\\\"ob_37\\\",\\\"type\\\":\\\"observable\\\"},val)) : undefined; return this.valueFromJulia[\\\"index\\\"]=false}),self)]\\n        \\n    }\\n    self.model = new AppViewModel();\\n    self.valueFromJulia = {};\\n    for (var key in json_data) {\\n        self.valueFromJulia[key] = false;\\n    }\\n    ko.applyBindings(self.model, self.dom);\\n}\\n\"]},\"options_js\":[\"(function (val){return (val!=this.model[\\\"options_js\\\"]()) ? (this.valueFromJulia[\\\"options_js\\\"]=true, this.model[\\\"options_js\\\"](val)) : undefined})\"],\"index\":[\"(function (val){return (val!=this.model[\\\"index\\\"]()) ? (this.valueFromJulia[\\\"index\\\"]=true, this.model[\\\"index\\\"](val)) : undefined})\"]},\"systemjs_options\":null,\"observables\":{\"options_js\":{\"sync\":false,\"id\":\"ob_38\",\"value\":[{\"key\":\"Chebyshev (40)\",\"val\":1,\"id\":\"idKSBZjQIz\"},{\"key\":\"Runge's function\",\"val\":2,\"id\":\"idhvKZ0y2c\"},{\"key\":\"sine\",\"val\":3,\"id\":\"idKQWUSiO8\"}]},\"index\":{\"sync\":true,\"id\":\"ob_37\",\"value\":1}}},\"children\":[{\"props\":{\"attributes\":{\"style\":\"display:flex; justify-content:center; align-items:center;\"}},\"nodeType\":\"DOM\",\"type\":\"node\",\"instanceArgs\":{\"namespace\":\"html\",\"tag\":\"div\"},\"children\":[{\"props\":{\"attributes\":{\"style\":\"text-align:right;width:18%\"}},\"nodeType\":\"DOM\",\"type\":\"node\",\"instanceArgs\":{\"namespace\":\"html\",\"tag\":\"div\"},\"children\":[{\"props\":{\"className\":\"interact \",\"style\":{\"padding\":\"5px 10px 0px 10px\"}},\"nodeType\":\"DOM\",\"type\":\"node\",\"instanceArgs\":{\"namespace\":\"html\",\"tag\":\"label\"},\"children\":[\"f\"]}]},{\"props\":{\"attributes\":{\"style\":\"flex-grow:1; margin: 0 2%\"}},\"nodeType\":\"DOM\",\"type\":\"node\",\"instanceArgs\":{\"namespace\":\"html\",\"tag\":\"div\"},\"children\":[{\"props\":{\"attributes\":{\"data-bind\":\"foreach : options_js\"},\"className\":\"field is-grouped has-addons is-oneline is-centered\"},\"nodeType\":\"DOM\",\"type\":\"node\",\"instanceArgs\":{\"namespace\":\"html\",\"tag\":\"div\"},\"children\":[{\"props\":{\"attributes\":{\"data-bind\":\"click: function () {$root.index(val)}, css: {'is-primary is-selected' : $root.index() == val, 'button is-fullwidth' : true}\"}},\"nodeType\":\"DOM\",\"type\":\"node\",\"instanceArgs\":{\"namespace\":\"html\",\"tag\":\"button\"},\"children\":[{\"props\":{\"attributes\":{\"data-bind\":\"text : key\"}},\"nodeType\":\"DOM\",\"type\":\"node\",\"instanceArgs\":{\"namespace\":\"html\",\"tag\":\"label\"},\"children\":[]}]}]}]},{\"props\":{\"attributes\":{\"style\":\"width:18%\"}},\"nodeType\":\"DOM\",\"type\":\"node\",\"instanceArgs\":{\"namespace\":\"html\",\"tag\":\"div\"},\"children\":[{\"props\":{},\"nodeType\":\"DOM\",\"type\":\"node\",\"instanceArgs\":{\"namespace\":\"html\",\"tag\":\"div\"},\"children\":[]}]}]}]}]},{\"props\":{\"className\":\"field\"},\"nodeType\":\"DOM\",\"type\":\"node\",\"instanceArgs\":{\"namespace\":\"html\",\"tag\":\"div\"},\"children\":[{\"props\":{},\"nodeType\":\"Scope\",\"type\":\"node\",\"instanceArgs\":{\"imports\":{\"data\":[{\"name\":\"knockout\",\"type\":\"js\",\"url\":\"\\/assetserver\\/2034b278c339838bc25d348e12b916fa259630cf-knockout.js\"},{\"name\":\"knockout_punches\",\"type\":\"js\",\"url\":\"\\/assetserver\\/d5260897db9d05b02ce519861ac036898a0d77f1-knockout_punches.js\"},{\"name\":null,\"type\":\"js\",\"url\":\"\\/assetserver\\/b4d7600f3b7eccfec0a7bf218aab6fc55bcc30f7-all.js\"},{\"name\":null,\"type\":\"css\",\"url\":\"\\/assetserver\\/2ad6cd9aa298d4183b761a76f8aba8e30bb42196-style.css\"},{\"name\":null,\"type\":\"css\",\"url\":\"\\/assetserver\\/953777a25a1f1beda161bd9c6596239b1c59c773-main.css\"}],\"type\":\"async_block\"},\"id\":\"knockout-component-5b16d494-a291-4ee1-9f4e-2f11870037ff\",\"handlers\":{\"_promises\":{\"importsLoaded\":[\"function (ko, koPunches) {\\n    ko.punches.enableAll();\\n    ko.bindingHandlers.numericValue = {\\n        init : function(element, valueAccessor, allBindings, data, context) {\\n            var stringified = ko.observable(ko.unwrap(valueAccessor()));\\n            stringified.subscribe(function(value) {\\n                var val = parseFloat(value);\\n                if (!isNaN(val)) {\\n                    valueAccessor()(val);\\n                }\\n            })\\n            valueAccessor().subscribe(function(value) {\\n                var str = JSON.stringify(value);\\n                if ((str == \\\"0\\\") && ([\\\"-0\\\", \\\"-0.\\\"].indexOf(stringified()) >= 0))\\n                     return;\\n                 if ([\\\"null\\\", \\\"\\\"].indexOf(str) >= 0)\\n                     return;\\n                stringified(str);\\n            })\\n            ko.applyBindingsToNode(element, { value: stringified, valueUpdate: allBindings.get('valueUpdate')}, context);\\n        }\\n    };\\n    var json_data = JSON.parse(\\\"{\\\\\\\"options_js\\\\\\\":[{\\\\\\\"key\\\\\\\":\\\\\\\"Harmonic\\\\\\\",\\\\\\\"val\\\\\\\":1,\\\\\\\"id\\\\\\\":\\\\\\\"idtuSLjUeu\\\\\\\"},{\\\\\\\"key\\\\\\\":\\\\\\\"Romberg\\\\\\\",\\\\\\\"val\\\\\\\":2,\\\\\\\"id\\\\\\\":\\\\\\\"idRp1n9MoJ\\\\\\\"},{\\\\\\\"key\\\\\\\":\\\\\\\"Bulirsch\\\\\\\",\\\\\\\"val\\\\\\\":3,\\\\\\\"id\\\\\\\":\\\\\\\"idV5sCPpBK\\\\\\\"}],\\\\\\\"index\\\\\\\":1}\\\");\\n    var self = this;\\n    function AppViewModel() {\\n        for (var key in json_data) {\\n            var el = json_data[key];\\n            this[key] = Array.isArray(el) ? ko.observableArray(el) : ko.observable(el);\\n        }\\n        \\n        \\n        [this[\\\"options_js\\\"].subscribe((function (val){!(this.valueFromJulia[\\\"options_js\\\"]) ? (_webIOScope.setObservableValue({\\\"name\\\":\\\"options_js\\\",\\\"scope\\\":\\\"knockout-component-5b16d494-a291-4ee1-9f4e-2f11870037ff\\\",\\\"id\\\":\\\"ob_43\\\",\\\"type\\\":\\\"observable\\\"},val)) : undefined; return this.valueFromJulia[\\\"options_js\\\"]=false}),self),this[\\\"index\\\"].subscribe((function (val){!(this.valueFromJulia[\\\"index\\\"]) ? (_webIOScope.setObservableValue({\\\"name\\\":\\\"index\\\",\\\"scope\\\":\\\"knockout-component-5b16d494-a291-4ee1-9f4e-2f11870037ff\\\",\\\"id\\\":\\\"ob_42\\\",\\\"type\\\":\\\"observable\\\"},val)) : undefined; return this.valueFromJulia[\\\"index\\\"]=false}),self)]\\n        \\n    }\\n    self.model = new AppViewModel();\\n    self.valueFromJulia = {};\\n    for (var key in json_data) {\\n        self.valueFromJulia[key] = false;\\n    }\\n    ko.applyBindings(self.model, self.dom);\\n}\\n\"]},\"options_js\":[\"(function (val){return (val!=this.model[\\\"options_js\\\"]()) ? (this.valueFromJulia[\\\"options_js\\\"]=true, this.model[\\\"options_js\\\"](val)) : undefined})\"],\"index\":[\"(function (val){return (val!=this.model[\\\"index\\\"]()) ? (this.valueFromJulia[\\\"index\\\"]=true, this.model[\\\"index\\\"](val)) : undefined})\"]},\"systemjs_options\":null,\"observables\":{\"options_js\":{\"sync\":false,\"id\":\"ob_43\",\"value\":[{\"key\":\"Harmonic\",\"val\":1,\"id\":\"idtuSLjUeu\"},{\"key\":\"Romberg\",\"val\":2,\"id\":\"idRp1n9MoJ\"},{\"key\":\"Bulirsch\",\"val\":3,\"id\":\"idV5sCPpBK\"}]},\"index\":{\"sync\":true,\"id\":\"ob_42\",\"value\":1}}},\"children\":[{\"props\":{\"attributes\":{\"style\":\"display:flex; justify-content:center; align-items:center;\"}},\"nodeType\":\"DOM\",\"type\":\"node\",\"instanceArgs\":{\"namespace\":\"html\",\"tag\":\"div\"},\"children\":[{\"props\":{\"attributes\":{\"style\":\"text-align:right;width:18%\"}},\"nodeType\":\"DOM\",\"type\":\"node\",\"instanceArgs\":{\"namespace\":\"html\",\"tag\":\"div\"},\"children\":[{\"props\":{\"className\":\"interact \",\"style\":{\"padding\":\"5px 10px 0px 10px\"}},\"nodeType\":\"DOM\",\"type\":\"node\",\"instanceArgs\":{\"namespace\":\"html\",\"tag\":\"label\"},\"children\":[\"s\"]}]},{\"props\":{\"attributes\":{\"style\":\"flex-grow:1; margin: 0 2%\"}},\"nodeType\":\"DOM\",\"type\":\"node\",\"instanceArgs\":{\"namespace\":\"html\",\"tag\":\"div\"},\"children\":[{\"props\":{\"attributes\":{\"data-bind\":\"foreach : options_js\"},\"className\":\"field is-grouped has-addons is-oneline is-centered\"},\"nodeType\":\"DOM\",\"type\":\"node\",\"instanceArgs\":{\"namespace\":\"html\",\"tag\":\"div\"},\"children\":[{\"props\":{\"attributes\":{\"data-bind\":\"click: function () {$root.index(val)}, css: {'is-primary is-selected' : $root.index() == val, 'button is-fullwidth' : true}\"}},\"nodeType\":\"DOM\",\"type\":\"node\",\"instanceArgs\":{\"namespace\":\"html\",\"tag\":\"button\"},\"children\":[{\"props\":{\"attributes\":{\"data-bind\":\"text : key\"}},\"nodeType\":\"DOM\",\"type\":\"node\",\"instanceArgs\":{\"namespace\":\"html\",\"tag\":\"label\"},\"children\":[]}]}]}]},{\"props\":{\"attributes\":{\"style\":\"width:18%\"}},\"nodeType\":\"DOM\",\"type\":\"node\",\"instanceArgs\":{\"namespace\":\"html\",\"tag\":\"div\"},\"children\":[{\"props\":{},\"nodeType\":\"DOM\",\"type\":\"node\",\"instanceArgs\":{\"namespace\":\"html\",\"tag\":\"div\"},\"children\":[]}]}]}]}]},{\"props\":{\"attributes\":{\"style\":\"display:flex; justify-content:center; align-items:center;\"}},\"nodeType\":\"DOM\",\"type\":\"node\",\"instanceArgs\":{\"namespace\":\"html\",\"tag\":\"div\"},\"children\":[{\"props\":{\"className\":\"field\"},\"nodeType\":\"DOM\",\"type\":\"node\",\"instanceArgs\":{\"namespace\":\"html\",\"tag\":\"div\"},\"children\":[{\"props\":{},\"nodeType\":\"Scope\",\"type\":\"node\",\"instanceArgs\":{\"imports\":{\"data\":[{\"name\":\"knockout\",\"type\":\"js\",\"url\":\"\\/assetserver\\/2034b278c339838bc25d348e12b916fa259630cf-knockout.js\"},{\"name\":\"knockout_punches\",\"type\":\"js\",\"url\":\"\\/assetserver\\/d5260897db9d05b02ce519861ac036898a0d77f1-knockout_punches.js\"},{\"name\":null,\"type\":\"js\",\"url\":\"\\/assetserver\\/b4d7600f3b7eccfec0a7bf218aab6fc55bcc30f7-all.js\"},{\"name\":null,\"type\":\"css\",\"url\":\"\\/assetserver\\/2ad6cd9aa298d4183b761a76f8aba8e30bb42196-style.css\"},{\"name\":null,\"type\":\"css\",\"url\":\"\\/assetserver\\/953777a25a1f1beda161bd9c6596239b1c59c773-main.css\"}],\"type\":\"async_block\"},\"id\":\"knockout-component-7c193d74-8218-485a-9269-72e8b1b1f921\",\"handlers\":{\"_promises\":{\"importsLoaded\":[\"function (ko, koPunches) {\\n    ko.punches.enableAll();\\n    ko.bindingHandlers.numericValue = {\\n        init : function(element, valueAccessor, allBindings, data, context) {\\n            var stringified = ko.observable(ko.unwrap(valueAccessor()));\\n            stringified.subscribe(function(value) {\\n                var val = parseFloat(value);\\n                if (!isNaN(val)) {\\n                    valueAccessor()(val);\\n                }\\n            })\\n            valueAccessor().subscribe(function(value) {\\n                var str = JSON.stringify(value);\\n                if ((str == \\\"0\\\") && ([\\\"-0\\\", \\\"-0.\\\"].indexOf(stringified()) >= 0))\\n                     return;\\n                 if ([\\\"null\\\", \\\"\\\"].indexOf(str) >= 0)\\n                     return;\\n                stringified(str);\\n            })\\n            ko.applyBindingsToNode(element, { value: stringified, valueUpdate: allBindings.get('valueUpdate')}, context);\\n        }\\n    };\\n    var json_data = JSON.parse(\\\"{\\\\\\\"changes\\\\\\\":0,\\\\\\\"value\\\\\\\":false}\\\");\\n    var self = this;\\n    function AppViewModel() {\\n        for (var key in json_data) {\\n            var el = json_data[key];\\n            this[key] = Array.isArray(el) ? ko.observableArray(el) : ko.observable(el);\\n        }\\n        \\n        \\n        [this[\\\"changes\\\"].subscribe((function (val){!(this.valueFromJulia[\\\"changes\\\"]) ? (_webIOScope.setObservableValue({\\\"name\\\":\\\"changes\\\",\\\"scope\\\":\\\"knockout-component-7c193d74-8218-485a-9269-72e8b1b1f921\\\",\\\"id\\\":\\\"ob_45\\\",\\\"type\\\":\\\"observable\\\"},val)) : undefined; return this.valueFromJulia[\\\"changes\\\"]=false}),self),this[\\\"value\\\"].subscribe((function (val){!(this.valueFromJulia[\\\"value\\\"]) ? (_webIOScope.setObservableValue({\\\"name\\\":\\\"value\\\",\\\"scope\\\":\\\"knockout-component-7c193d74-8218-485a-9269-72e8b1b1f921\\\",\\\"id\\\":\\\"ob_44\\\",\\\"type\\\":\\\"observable\\\"},val)) : undefined; return this.valueFromJulia[\\\"value\\\"]=false}),self)]\\n        \\n    }\\n    self.model = new AppViewModel();\\n    self.valueFromJulia = {};\\n    for (var key in json_data) {\\n        self.valueFromJulia[key] = false;\\n    }\\n    ko.applyBindings(self.model, self.dom);\\n}\\n\"]},\"changes\":[\"(function (val){return (val!=this.model[\\\"changes\\\"]()) ? (this.valueFromJulia[\\\"changes\\\"]=true, this.model[\\\"changes\\\"](val)) : undefined})\"],\"value\":[\"(function (val){return (val!=this.model[\\\"value\\\"]()) ? (this.valueFromJulia[\\\"value\\\"]=true, this.model[\\\"value\\\"](val)) : undefined})\"]},\"systemjs_options\":null,\"observables\":{\"changes\":{\"sync\":false,\"id\":\"ob_45\",\"value\":0},\"value\":{\"sync\":true,\"id\":\"ob_44\",\"value\":false}}},\"children\":[{\"props\":{\"className\":\"field\"},\"nodeType\":\"DOM\",\"type\":\"node\",\"instanceArgs\":{\"namespace\":\"html\",\"tag\":\"div\"},\"children\":[{\"props\":{\"attributes\":{\"type\":\"checkbox\",\"data-bind\":\"checked: value, valueUpdate: 'change', event: {change : function () {this.changes(this.changes()+1)}}\"},\"id\":\"##363\",\"className\":\"switch \",\"style\":{}},\"nodeType\":\"DOM\",\"type\":\"node\",\"instanceArgs\":{\"namespace\":\"html\",\"tag\":\"input\"},\"children\":[]},{\"props\":{\"attributes\":{\"className\":\"\",\"for\":\"##363\"}},\"nodeType\":\"DOM\",\"type\":\"node\",\"instanceArgs\":{\"namespace\":\"html\",\"tag\":\"label\"},\"children\":[\"Rescale\"]}]}]}]}]},{\"props\":{\"attributes\":{\"style\":\"display:flex; justify-content:center; align-items:center;\"}},\"nodeType\":\"DOM\",\"type\":\"node\",\"instanceArgs\":{\"namespace\":\"html\",\"tag\":\"div\"},\"children\":[{\"props\":{\"className\":\"field\"},\"nodeType\":\"DOM\",\"type\":\"node\",\"instanceArgs\":{\"namespace\":\"html\",\"tag\":\"div\"},\"children\":[{\"props\":{},\"nodeType\":\"Scope\",\"type\":\"node\",\"instanceArgs\":{\"imports\":{\"data\":[{\"name\":\"knockout\",\"type\":\"js\",\"url\":\"\\/assetserver\\/2034b278c339838bc25d348e12b916fa259630cf-knockout.js\"},{\"name\":\"knockout_punches\",\"type\":\"js\",\"url\":\"\\/assetserver\\/d5260897db9d05b02ce519861ac036898a0d77f1-knockout_punches.js\"},{\"name\":null,\"type\":\"js\",\"url\":\"\\/assetserver\\/b4d7600f3b7eccfec0a7bf218aab6fc55bcc30f7-all.js\"},{\"name\":null,\"type\":\"css\",\"url\":\"\\/assetserver\\/2ad6cd9aa298d4183b761a76f8aba8e30bb42196-style.css\"},{\"name\":null,\"type\":\"css\",\"url\":\"\\/assetserver\\/953777a25a1f1beda161bd9c6596239b1c59c773-main.css\"}],\"type\":\"async_block\"},\"id\":\"knockout-component-abee5874-0910-4368-bded-f3d9a2d13bf3\",\"handlers\":{\"_promises\":{\"importsLoaded\":[\"function (ko, koPunches) {\\n    ko.punches.enableAll();\\n    ko.bindingHandlers.numericValue = {\\n        init : function(element, valueAccessor, allBindings, data, context) {\\n            var stringified = ko.observable(ko.unwrap(valueAccessor()));\\n            stringified.subscribe(function(value) {\\n                var val = parseFloat(value);\\n                if (!isNaN(val)) {\\n                    valueAccessor()(val);\\n                }\\n            })\\n            valueAccessor().subscribe(function(value) {\\n                var str = JSON.stringify(value);\\n                if ((str == \\\"0\\\") && ([\\\"-0\\\", \\\"-0.\\\"].indexOf(stringified()) >= 0))\\n                     return;\\n                 if ([\\\"null\\\", \\\"\\\"].indexOf(str) >= 0)\\n                     return;\\n                stringified(str);\\n            })\\n            ko.applyBindingsToNode(element, { value: stringified, valueUpdate: allBindings.get('valueUpdate')}, context);\\n        }\\n    };\\n    var json_data = JSON.parse(\\\"{\\\\\\\"changes\\\\\\\":0,\\\\\\\"value\\\\\\\":false}\\\");\\n    var self = this;\\n    function AppViewModel() {\\n        for (var key in json_data) {\\n            var el = json_data[key];\\n            this[key] = Array.isArray(el) ? ko.observableArray(el) : ko.observable(el);\\n        }\\n        \\n        \\n        [this[\\\"changes\\\"].subscribe((function (val){!(this.valueFromJulia[\\\"changes\\\"]) ? (_webIOScope.setObservableValue({\\\"name\\\":\\\"changes\\\",\\\"scope\\\":\\\"knockout-component-abee5874-0910-4368-bded-f3d9a2d13bf3\\\",\\\"id\\\":\\\"ob_47\\\",\\\"type\\\":\\\"observable\\\"},val)) : undefined; return this.valueFromJulia[\\\"changes\\\"]=false}),self),this[\\\"value\\\"].subscribe((function (val){!(this.valueFromJulia[\\\"value\\\"]) ? (_webIOScope.setObservableValue({\\\"name\\\":\\\"value\\\",\\\"scope\\\":\\\"knockout-component-abee5874-0910-4368-bded-f3d9a2d13bf3\\\",\\\"id\\\":\\\"ob_46\\\",\\\"type\\\":\\\"observable\\\"},val)) : undefined; return this.valueFromJulia[\\\"value\\\"]=false}),self)]\\n        \\n    }\\n    self.model = new AppViewModel();\\n    self.valueFromJulia = {};\\n    for (var key in json_data) {\\n        self.valueFromJulia[key] = false;\\n    }\\n    ko.applyBindings(self.model, self.dom);\\n}\\n\"]},\"changes\":[\"(function (val){return (val!=this.model[\\\"changes\\\"]()) ? (this.valueFromJulia[\\\"changes\\\"]=true, this.model[\\\"changes\\\"](val)) : undefined})\"],\"value\":[\"(function (val){return (val!=this.model[\\\"value\\\"]()) ? (this.valueFromJulia[\\\"value\\\"]=true, this.model[\\\"value\\\"](val)) : undefined})\"]},\"systemjs_options\":null,\"observables\":{\"changes\":{\"sync\":false,\"id\":\"ob_47\",\"value\":0},\"value\":{\"sync\":true,\"id\":\"ob_46\",\"value\":false}}},\"children\":[{\"props\":{\"className\":\"field\"},\"nodeType\":\"DOM\",\"type\":\"node\",\"instanceArgs\":{\"namespace\":\"html\",\"tag\":\"div\"},\"children\":[{\"props\":{\"attributes\":{\"type\":\"checkbox\",\"data-bind\":\"checked: value, valueUpdate: 'change', event: {change : function () {this.changes(this.changes()+1)}}\"},\"id\":\"##364\",\"className\":\"switch \",\"style\":{}},\"nodeType\":\"DOM\",\"type\":\"node\",\"instanceArgs\":{\"namespace\":\"html\",\"tag\":\"input\"},\"children\":[]},{\"props\":{\"attributes\":{\"className\":\"\",\"for\":\"##364\"}},\"nodeType\":\"DOM\",\"type\":\"node\",\"instanceArgs\":{\"namespace\":\"html\",\"tag\":\"label\"},\"children\":[\"ConditionNumber\"]}]}]}]}]},{\"props\":{},\"nodeType\":\"Scope\",\"type\":\"node\",\"instanceArgs\":{\"imports\":{\"data\":[],\"type\":\"async_block\"},\"id\":\"scope-19a311f2-b5a6-4909-9f58-2cbe58477752\",\"handlers\":{},\"systemjs_options\":null,\"observables\":{\"obs-node\":{\"sync\":false,\"id\":\"ob_50\",\"value\":{\"props\":{\"attributes\":{\"style\":\"display:flex; justify-content:center; align-items:center;\"}},\"nodeType\":\"DOM\",\"type\":\"node\",\"instanceArgs\":{\"namespace\":\"html\",\"tag\":\"div\"},\"children\":[{\"props\":{\"setInnerHtml\":\"<?xml version=\\\"1.0\\\" encoding=\\\"utf-8\\\"?>\\n<svg xmlns=\\\"http:\\/\\/www.w3.org\\/2000\\/svg\\\" xmlns:xlink=\\\"http:\\/\\/www.w3.org\\/1999\\/xlink\\\" width=\\\"900\\\" height=\\\"300\\\" viewBox=\\\"0 0 3600 1200\\\">\\n<defs>\\n  <clipPath id=\\\"clip0500\\\">\\n    <rect x=\\\"0\\\" y=\\\"0\\\" width=\\\"2000\\\" height=\\\"2000\\\"\\/>\\n  <\\/clipPath>\\n<\\/defs>\\n<defs>\\n  <clipPath id=\\\"clip0501\\\">\\n    <rect x=\\\"0\\\" y=\\\"0\\\" width=\\\"3600\\\" height=\\\"1200\\\"\\/>\\n  <\\/clipPath>\\n<\\/defs>\\n<polygon clip-path=\\\"url(#clip0501)\\\" points=\\\"\\n0,1200 3600,1200 3600,0 0,0 \\n  \\\" fill=\\\"#ffffff\\\" fill-rule=\\\"evenodd\\\" fill-opacity=\\\"1\\\"\\/>\\n<defs>\\n  <clipPath id=\\\"clip0502\\\">\\n    <rect x=\\\"720\\\" y=\\\"0\\\" width=\\\"2521\\\" height=\\\"1200\\\"\\/>\\n  <\\/clipPath>\\n<\\/defs>\\n<polygon clip-path=\\\"url(#clip0501)\\\" points=\\\"\\n288.452,1057.25 3521.26,1057.25 3521.26,47.2441 288.452,47.2441 \\n  \\\" fill=\\\"#ffffff\\\" fill-rule=\\\"evenodd\\\" fill-opacity=\\\"1\\\"\\/>\\n<defs>\\n  <clipPath id=\\\"clip0503\\\">\\n    <rect x=\\\"288\\\" y=\\\"47\\\" width=\\\"3234\\\" height=\\\"1011\\\"\\/>\\n  <\\/clipPath>\\n<\\/defs>\\n<polyline clip-path=\\\"url(#clip0503)\\\" style=\\\"stroke:#000000; stroke-width:2; stroke-opacity:0.1; fill:none\\\" points=\\\"\\n  349.448,1057.25 349.448,47.2441 \\n  \\\"\\/>\\n<polyline clip-path=\\\"url(#clip0503)\\\" style=\\\"stroke:#000000; stroke-width:2; stroke-opacity:0.1; fill:none\\\" points=\\\"\\n  1111.9,1057.25 1111.9,47.2441 \\n  \\\"\\/>\\n<polyline clip-path=\\\"url(#clip0503)\\\" style=\\\"stroke:#000000; stroke-width:2; stroke-opacity:0.1; fill:none\\\" points=\\\"\\n  1874.36,1057.25 1874.36,47.2441 \\n  \\\"\\/>\\n<polyline clip-path=\\\"url(#clip0503)\\\" style=\\\"stroke:#000000; stroke-width:2; stroke-opacity:0.1; fill:none\\\" points=\\\"\\n  2636.81,1057.25 2636.81,47.2441 \\n  \\\"\\/>\\n<polyline clip-path=\\\"url(#clip0503)\\\" style=\\\"stroke:#000000; stroke-width:2; stroke-opacity:0.1; fill:none\\\" points=\\\"\\n  3399.27,1057.25 3399.27,47.2441 \\n  \\\"\\/>\\n<polyline clip-path=\\\"url(#clip0503)\\\" style=\\\"stroke:#000000; stroke-width:2; stroke-opacity:0.1; fill:none\\\" points=\\\"\\n  288.452,974.334 3521.26,974.334 \\n  \\\"\\/>\\n<polyline clip-path=\\\"url(#clip0503)\\\" style=\\\"stroke:#000000; stroke-width:2; stroke-opacity:0.1; fill:none\\\" points=\\\"\\n  288.452,833.122 3521.26,833.122 \\n  \\\"\\/>\\n<polyline clip-path=\\\"url(#clip0503)\\\" style=\\\"stroke:#000000; stroke-width:2; stroke-opacity:0.1; fill:none\\\" points=\\\"\\n  288.452,691.91 3521.26,691.91 \\n  \\\"\\/>\\n<polyline clip-path=\\\"url(#clip0503)\\\" style=\\\"stroke:#000000; stroke-width:2; stroke-opacity:0.1; fill:none\\\" points=\\\"\\n  288.452,550.698 3521.26,550.698 \\n  \\\"\\/>\\n<polyline clip-path=\\\"url(#clip0503)\\\" style=\\\"stroke:#000000; stroke-width:2; stroke-opacity:0.1; fill:none\\\" points=\\\"\\n  288.452,409.486 3521.26,409.486 \\n  \\\"\\/>\\n<polyline clip-path=\\\"url(#clip0503)\\\" style=\\\"stroke:#000000; stroke-width:2; stroke-opacity:0.1; fill:none\\\" points=\\\"\\n  288.452,268.274 3521.26,268.274 \\n  \\\"\\/>\\n<polyline clip-path=\\\"url(#clip0503)\\\" style=\\\"stroke:#000000; stroke-width:2; stroke-opacity:0.1; fill:none\\\" points=\\\"\\n  288.452,127.062 3521.26,127.062 \\n  \\\"\\/>\\n<polyline clip-path=\\\"url(#clip0501)\\\" style=\\\"stroke:#000000; stroke-width:4; stroke-opacity:1; fill:none\\\" points=\\\"\\n  288.452,1057.25 3521.26,1057.25 \\n  \\\"\\/>\\n<polyline clip-path=\\\"url(#clip0501)\\\" style=\\\"stroke:#000000; stroke-width:4; stroke-opacity:1; fill:none\\\" points=\\\"\\n  288.452,1057.25 288.452,47.2441 \\n  \\\"\\/>\\n<polyline clip-path=\\\"url(#clip0501)\\\" style=\\\"stroke:#000000; stroke-width:4; stroke-opacity:1; fill:none\\\" points=\\\"\\n  349.448,1057.25 349.448,1042.1 \\n  \\\"\\/>\\n<polyline clip-path=\\\"url(#clip0501)\\\" style=\\\"stroke:#000000; stroke-width:4; stroke-opacity:1; fill:none\\\" points=\\\"\\n  1111.9,1057.25 1111.9,1042.1 \\n  \\\"\\/>\\n<polyline clip-path=\\\"url(#clip0501)\\\" style=\\\"stroke:#000000; stroke-width:4; stroke-opacity:1; fill:none\\\" points=\\\"\\n  1874.36,1057.25 1874.36,1042.1 \\n  \\\"\\/>\\n<polyline clip-path=\\\"url(#clip0501)\\\" style=\\\"stroke:#000000; stroke-width:4; stroke-opacity:1; fill:none\\\" points=\\\"\\n  2636.81,1057.25 2636.81,1042.1 \\n  \\\"\\/>\\n<polyline clip-path=\\\"url(#clip0501)\\\" style=\\\"stroke:#000000; stroke-width:4; stroke-opacity:1; fill:none\\\" points=\\\"\\n  3399.27,1057.25 3399.27,1042.1 \\n  \\\"\\/>\\n<polyline clip-path=\\\"url(#clip0501)\\\" style=\\\"stroke:#000000; stroke-width:4; stroke-opacity:1; fill:none\\\" points=\\\"\\n  288.452,974.334 336.944,974.334 \\n  \\\"\\/>\\n<polyline clip-path=\\\"url(#clip0501)\\\" style=\\\"stroke:#000000; stroke-width:4; stroke-opacity:1; fill:none\\\" points=\\\"\\n  288.452,833.122 336.944,833.122 \\n  \\\"\\/>\\n<polyline clip-path=\\\"url(#clip0501)\\\" style=\\\"stroke:#000000; stroke-width:4; stroke-opacity:1; fill:none\\\" points=\\\"\\n  288.452,691.91 336.944,691.91 \\n  \\\"\\/>\\n<polyline clip-path=\\\"url(#clip0501)\\\" style=\\\"stroke:#000000; stroke-width:4; stroke-opacity:1; fill:none\\\" points=\\\"\\n  288.452,550.698 336.944,550.698 \\n  \\\"\\/>\\n<polyline clip-path=\\\"url(#clip0501)\\\" style=\\\"stroke:#000000; stroke-width:4; stroke-opacity:1; fill:none\\\" points=\\\"\\n  288.452,409.486 336.944,409.486 \\n  \\\"\\/>\\n<polyline clip-path=\\\"url(#clip0501)\\\" style=\\\"stroke:#000000; stroke-width:4; stroke-opacity:1; fill:none\\\" points=\\\"\\n  288.452,268.274 336.944,268.274 \\n  \\\"\\/>\\n<polyline clip-path=\\\"url(#clip0501)\\\" style=\\\"stroke:#000000; stroke-width:4; stroke-opacity:1; fill:none\\\" points=\\\"\\n  288.452,127.062 336.944,127.062 \\n  \\\"\\/>\\n<g clip-path=\\\"url(#clip0501)\\\">\\n<text style=\\\"fill:#000000; fill-opacity:1; font-family:Arial,Helvetica Neue,Helvetica,sans-serif; font-size:48px; text-anchor:middle;\\\" transform=\\\"rotate(0, 349.448, 1117.25)\\\" x=\\\"349.448\\\" y=\\\"1117.25\\\">0<\\/text>\\n<\\/g>\\n<g clip-path=\\\"url(#clip0501)\\\">\\n<text style=\\\"fill:#000000; fill-opacity:1; font-family:Arial,Helvetica Neue,Helvetica,sans-serif; font-size:48px; text-anchor:middle;\\\" transform=\\\"rotate(0, 1111.9, 1117.25)\\\" x=\\\"1111.9\\\" y=\\\"1117.25\\\">25<\\/text>\\n<\\/g>\\n<g clip-path=\\\"url(#clip0501)\\\">\\n<text style=\\\"fill:#000000; fill-opacity:1; font-family:Arial,Helvetica Neue,Helvetica,sans-serif; font-size:48px; text-anchor:middle;\\\" transform=\\\"rotate(0, 1874.36, 1117.25)\\\" x=\\\"1874.36\\\" y=\\\"1117.25\\\">50<\\/text>\\n<\\/g>\\n<g clip-path=\\\"url(#clip0501)\\\">\\n<text style=\\\"fill:#000000; fill-opacity:1; font-family:Arial,Helvetica Neue,Helvetica,sans-serif; font-size:48px; text-anchor:middle;\\\" transform=\\\"rotate(0, 2636.81, 1117.25)\\\" x=\\\"2636.81\\\" y=\\\"1117.25\\\">75<\\/text>\\n<\\/g>\\n<g clip-path=\\\"url(#clip0501)\\\">\\n<text style=\\\"fill:#000000; fill-opacity:1; font-family:Arial,Helvetica Neue,Helvetica,sans-serif; font-size:48px; text-anchor:middle;\\\" transform=\\\"rotate(0, 3399.27, 1117.25)\\\" x=\\\"3399.27\\\" y=\\\"1117.25\\\">100<\\/text>\\n<\\/g>\\n<g clip-path=\\\"url(#clip0501)\\\">\\n<text style=\\\"fill:#000000; fill-opacity:1; font-family:Arial,Helvetica Neue,Helvetica,sans-serif; font-size:48px; text-anchor:start;\\\" transform=\\\"rotate(0, 143.471, 998.062)\\\" x=\\\"143.471\\\" y=\\\"998.062\\\">10<\\/text>\\n<\\/g>\\n<g clip-path=\\\"url(#clip0501)\\\">\\n<text style=\\\"fill:#000000; fill-opacity:1; font-family:Arial,Helvetica Neue,Helvetica,sans-serif; font-size:38px; text-anchor:start;\\\" transform=\\\"rotate(0, 196.996, 970.652)\\\" x=\\\"196.996\\\" y=\\\"970.652\\\">-<\\/text>\\n<\\/g>\\n<g clip-path=\\\"url(#clip0501)\\\">\\n<text style=\\\"fill:#000000; fill-opacity:1; font-family:Arial,Helvetica Neue,Helvetica,sans-serif; font-size:38px; text-anchor:start;\\\" transform=\\\"rotate(0, 219.836, 970.652)\\\" x=\\\"219.836\\\" y=\\\"970.652\\\">5 <\\/text>\\n<\\/g>\\n<g clip-path=\\\"url(#clip0501)\\\">\\n<text style=\\\"fill:#000000; fill-opacity:1; font-family:Arial,Helvetica Neue,Helvetica,sans-serif; font-size:48px; text-anchor:start;\\\" transform=\\\"rotate(0, 166.311, 856.85)\\\" x=\\\"166.311\\\" y=\\\"856.85\\\">10<\\/text>\\n<\\/g>\\n<g clip-path=\\\"url(#clip0501)\\\">\\n<text style=\\\"fill:#000000; fill-opacity:1; font-family:Arial,Helvetica Neue,Helvetica,sans-serif; font-size:38px; text-anchor:start;\\\" transform=\\\"rotate(0, 219.836, 829.44)\\\" x=\\\"219.836\\\" y=\\\"829.44\\\">0 <\\/text>\\n<\\/g>\\n<g clip-path=\\\"url(#clip0501)\\\">\\n<text style=\\\"fill:#000000; fill-opacity:1; font-family:Arial,Helvetica Neue,Helvetica,sans-serif; font-size:48px; text-anchor:start;\\\" transform=\\\"rotate(0, 166.311, 715.638)\\\" x=\\\"166.311\\\" y=\\\"715.638\\\">10<\\/text>\\n<\\/g>\\n<g clip-path=\\\"url(#clip0501)\\\">\\n<text style=\\\"fill:#000000; fill-opacity:1; font-family:Arial,Helvetica Neue,Helvetica,sans-serif; font-size:38px; text-anchor:start;\\\" transform=\\\"rotate(0, 219.836, 688.228)\\\" x=\\\"219.836\\\" y=\\\"688.228\\\">5 <\\/text>\\n<\\/g>\\n<g clip-path=\\\"url(#clip0501)\\\">\\n<text style=\\\"fill:#000000; fill-opacity:1; font-family:Arial,Helvetica Neue,Helvetica,sans-serif; font-size:48px; text-anchor:start;\\\" transform=\\\"rotate(0, 144.566, 574.426)\\\" x=\\\"144.566\\\" y=\\\"574.426\\\">10<\\/text>\\n<\\/g>\\n<g clip-path=\\\"url(#clip0501)\\\">\\n<text style=\\\"fill:#000000; fill-opacity:1; font-family:Arial,Helvetica Neue,Helvetica,sans-serif; font-size:38px; text-anchor:start;\\\" transform=\\\"rotate(0, 198.091, 547.016)\\\" x=\\\"198.091\\\" y=\\\"547.016\\\">10 <\\/text>\\n<\\/g>\\n<g clip-path=\\\"url(#clip0501)\\\">\\n<text style=\\\"fill:#000000; fill-opacity:1; font-family:Arial,Helvetica Neue,Helvetica,sans-serif; font-size:48px; text-anchor:start;\\\" transform=\\\"rotate(0, 144.566, 433.214)\\\" x=\\\"144.566\\\" y=\\\"433.214\\\">10<\\/text>\\n<\\/g>\\n<g clip-path=\\\"url(#clip0501)\\\">\\n<text style=\\\"fill:#000000; fill-opacity:1; font-family:Arial,Helvetica Neue,Helvetica,sans-serif; font-size:38px; text-anchor:start;\\\" transform=\\\"rotate(0, 198.091, 405.804)\\\" x=\\\"198.091\\\" y=\\\"405.804\\\">15 <\\/text>\\n<\\/g>\\n<g clip-path=\\\"url(#clip0501)\\\">\\n<text style=\\\"fill:#000000; fill-opacity:1; font-family:Arial,Helvetica Neue,Helvetica,sans-serif; font-size:48px; text-anchor:start;\\\" transform=\\\"rotate(0, 144.566, 292.002)\\\" x=\\\"144.566\\\" y=\\\"292.002\\\">10<\\/text>\\n<\\/g>\\n<g clip-path=\\\"url(#clip0501)\\\">\\n<text style=\\\"fill:#000000; fill-opacity:1; font-family:Arial,Helvetica Neue,Helvetica,sans-serif; font-size:38px; text-anchor:start;\\\" transform=\\\"rotate(0, 198.091, 264.592)\\\" x=\\\"198.091\\\" y=\\\"264.592\\\">20 <\\/text>\\n<\\/g>\\n<g clip-path=\\\"url(#clip0501)\\\">\\n<text style=\\\"fill:#000000; fill-opacity:1; font-family:Arial,Helvetica Neue,Helvetica,sans-serif; font-size:48px; text-anchor:start;\\\" transform=\\\"rotate(0, 144.566, 150.79)\\\" x=\\\"144.566\\\" y=\\\"150.79\\\">10<\\/text>\\n<\\/g>\\n<g clip-path=\\\"url(#clip0501)\\\">\\n<text style=\\\"fill:#000000; fill-opacity:1; font-family:Arial,Helvetica Neue,Helvetica,sans-serif; font-size:38px; text-anchor:start;\\\" transform=\\\"rotate(0, 198.091, 123.38)\\\" x=\\\"198.091\\\" y=\\\"123.38\\\">25 <\\/text>\\n<\\/g>\\n<g clip-path=\\\"url(#clip0501)\\\">\\n<text style=\\\"fill:#000000; fill-opacity:1; font-family:Arial,Helvetica Neue,Helvetica,sans-serif; font-size:66px; text-anchor:middle;\\\" transform=\\\"rotate(0, 1904.86, 1190.4)\\\" x=\\\"1904.86\\\" y=\\\"1190.4\\\">#nodes<\\/text>\\n<\\/g>\\n<g clip-path=\\\"url(#clip0501)\\\">\\n<text style=\\\"fill:#000000; fill-opacity:1; font-family:Arial,Helvetica Neue,Helvetica,sans-serif; font-size:66px; text-anchor:middle;\\\" transform=\\\"rotate(-90, 57.6, 552.247)\\\" x=\\\"57.6\\\" y=\\\"552.247\\\">abs. error<\\/text>\\n<\\/g>\\n<polyline clip-path=\\\"url(#clip0503)\\\" style=\\\"stroke:#ff0000; stroke-width:4; stroke-opacity:1; fill:none\\\" points=\\\"\\n  379.947,1028.66 410.445,824.621 440.943,829.295 471.441,837.597 501.939,807.952 532.438,797.968 562.936,794.579 593.434,798.538 623.932,783.685 654.43,802.781 \\n  684.929,792.733 715.427,806.329 745.925,829.273 776.423,858.985 806.921,893.027 837.419,913.154 867.918,900.072 898.416,890.356 928.914,882.837 959.412,879.524 \\n  989.91,884.007 1020.41,895.774 1050.91,866.122 1081.4,844.978 1111.9,830.487 1142.4,819.412 1172.9,810.396 1203.4,802.931 1233.9,797.181 1264.39,793.794 \\n  1294.89,793.911 1325.39,803.967 1355.89,786.021 1386.39,763.46 1416.89,746.351 1447.38,732.431 1477.88,720.974 1508.38,710.904 1538.88,700.411 1569.38,687.896 \\n  1599.87,673.817 1630.37,659.739 1660.87,646.626 1691.37,634.825 1721.87,624.441 1752.37,615.519 1782.86,608.092 1813.36,602.173 1843.86,597.701 1874.36,594.435 \\n  1904.86,591.811 1935.35,588.907 1965.85,584.612 1996.35,577.507 2026.85,566.533 2057.35,553.207 2087.85,540.053 2118.34,528.405 2148.84,518.765 2179.34,511.501 \\n  2209.84,507.404 2240.34,509.13 2270.83,545.967 2301.33,524.988 2331.83,478.627 2362.33,455.338 2392.83,438.035 2423.33,423.714 2453.82,411.375 2484.32,400.525 \\n  2514.82,390.845 2545.32,382.111 2575.82,374.208 2606.31,367.227 2636.81,361.669 2667.31,359.094 2697.81,369.189 2728.31,347.538 2758.81,328.786 2789.3,315.15 \\n  2819.8,302.937 2850.3,290.751 2880.8,278.128 2911.3,265.334 2941.79,252.851 2972.29,241.002 3002.79,229.881 3033.29,219.42 3063.79,209.457 3094.29,199.789 \\n  3124.78,190.223 3155.28,180.606 3185.78,170.829 3216.28,160.8 3246.78,150.434 3277.27,139.685 3307.77,128.61 3338.27,117.38 3368.77,106.226 3399.27,95.3603 \\n  3429.77,84.9389 \\n  \\\"\\/>\\n<polyline clip-path=\\\"url(#clip0503)\\\" style=\\\"stroke:#ff0000; stroke-width:4; stroke-opacity:0; fill:none\\\" points=\\\"\\n  379.947,1028.66 532.438,797.968 684.929,792.733 837.419,913.154 989.91,884.007 1142.4,819.412 1294.89,793.911 1447.38,732.431 1599.87,673.817 1752.37,615.519 \\n  1904.86,591.811 2057.35,553.207 2209.84,507.404 2362.33,455.338 2514.82,390.845 2667.31,359.094 2819.8,302.937 2972.29,241.002 3124.78,190.223 3277.27,139.685 \\n  3429.77,84.9389 \\n  \\\"\\/>\\n<circle clip-path=\\\"url(#clip0503)\\\" style=\\\"fill:#000000; stroke:none; fill-opacity:1\\\" cx=\\\"379.947\\\" cy=\\\"1028.66\\\" r=\\\"18\\\"\\/>\\n<circle clip-path=\\\"url(#clip0503)\\\" style=\\\"fill:#ff0000; stroke:none; fill-opacity:1\\\" cx=\\\"379.947\\\" cy=\\\"1028.66\\\" r=\\\"14\\\"\\/>\\n<circle clip-path=\\\"url(#clip0503)\\\" style=\\\"fill:#000000; stroke:none; fill-opacity:1\\\" cx=\\\"532.438\\\" cy=\\\"797.968\\\" r=\\\"18\\\"\\/>\\n<circle clip-path=\\\"url(#clip0503)\\\" style=\\\"fill:#ff0000; stroke:none; fill-opacity:1\\\" cx=\\\"532.438\\\" cy=\\\"797.968\\\" r=\\\"14\\\"\\/>\\n<circle clip-path=\\\"url(#clip0503)\\\" style=\\\"fill:#000000; stroke:none; fill-opacity:1\\\" cx=\\\"684.929\\\" cy=\\\"792.733\\\" r=\\\"18\\\"\\/>\\n<circle clip-path=\\\"url(#clip0503)\\\" style=\\\"fill:#ff0000; stroke:none; fill-opacity:1\\\" cx=\\\"684.929\\\" cy=\\\"792.733\\\" r=\\\"14\\\"\\/>\\n<circle clip-path=\\\"url(#clip0503)\\\" style=\\\"fill:#000000; stroke:none; fill-opacity:1\\\" cx=\\\"837.419\\\" cy=\\\"913.154\\\" r=\\\"18\\\"\\/>\\n<circle clip-path=\\\"url(#clip0503)\\\" style=\\\"fill:#ff0000; stroke:none; fill-opacity:1\\\" cx=\\\"837.419\\\" cy=\\\"913.154\\\" r=\\\"14\\\"\\/>\\n<circle clip-path=\\\"url(#clip0503)\\\" style=\\\"fill:#000000; stroke:none; fill-opacity:1\\\" cx=\\\"989.91\\\" cy=\\\"884.007\\\" r=\\\"18\\\"\\/>\\n<circle clip-path=\\\"url(#clip0503)\\\" style=\\\"fill:#ff0000; stroke:none; fill-opacity:1\\\" cx=\\\"989.91\\\" cy=\\\"884.007\\\" r=\\\"14\\\"\\/>\\n<circle clip-path=\\\"url(#clip0503)\\\" style=\\\"fill:#000000; stroke:none; fill-opacity:1\\\" cx=\\\"1142.4\\\" cy=\\\"819.412\\\" r=\\\"18\\\"\\/>\\n<circle clip-path=\\\"url(#clip0503)\\\" style=\\\"fill:#ff0000; stroke:none; fill-opacity:1\\\" cx=\\\"1142.4\\\" cy=\\\"819.412\\\" r=\\\"14\\\"\\/>\\n<circle clip-path=\\\"url(#clip0503)\\\" style=\\\"fill:#000000; stroke:none; fill-opacity:1\\\" cx=\\\"1294.89\\\" cy=\\\"793.911\\\" r=\\\"18\\\"\\/>\\n<circle clip-path=\\\"url(#clip0503)\\\" style=\\\"fill:#ff0000; stroke:none; fill-opacity:1\\\" cx=\\\"1294.89\\\" cy=\\\"793.911\\\" r=\\\"14\\\"\\/>\\n<circle clip-path=\\\"url(#clip0503)\\\" style=\\\"fill:#000000; stroke:none; fill-opacity:1\\\" cx=\\\"1447.38\\\" cy=\\\"732.431\\\" r=\\\"18\\\"\\/>\\n<circle clip-path=\\\"url(#clip0503)\\\" style=\\\"fill:#ff0000; stroke:none; fill-opacity:1\\\" cx=\\\"1447.38\\\" cy=\\\"732.431\\\" r=\\\"14\\\"\\/>\\n<circle clip-path=\\\"url(#clip0503)\\\" style=\\\"fill:#000000; stroke:none; fill-opacity:1\\\" cx=\\\"1599.87\\\" cy=\\\"673.817\\\" r=\\\"18\\\"\\/>\\n<circle clip-path=\\\"url(#clip0503)\\\" style=\\\"fill:#ff0000; stroke:none; fill-opacity:1\\\" cx=\\\"1599.87\\\" cy=\\\"673.817\\\" r=\\\"14\\\"\\/>\\n<circle clip-path=\\\"url(#clip0503)\\\" style=\\\"fill:#000000; stroke:none; fill-opacity:1\\\" cx=\\\"1752.37\\\" cy=\\\"615.519\\\" r=\\\"18\\\"\\/>\\n<circle clip-path=\\\"url(#clip0503)\\\" style=\\\"fill:#ff0000; stroke:none; fill-opacity:1\\\" cx=\\\"1752.37\\\" cy=\\\"615.519\\\" r=\\\"14\\\"\\/>\\n<circle clip-path=\\\"url(#clip0503)\\\" style=\\\"fill:#000000; stroke:none; fill-opacity:1\\\" cx=\\\"1904.86\\\" cy=\\\"591.811\\\" r=\\\"18\\\"\\/>\\n<circle clip-path=\\\"url(#clip0503)\\\" style=\\\"fill:#ff0000; stroke:none; fill-opacity:1\\\" cx=\\\"1904.86\\\" cy=\\\"591.811\\\" r=\\\"14\\\"\\/>\\n<circle clip-path=\\\"url(#clip0503)\\\" style=\\\"fill:#000000; stroke:none; fill-opacity:1\\\" cx=\\\"2057.35\\\" cy=\\\"553.207\\\" r=\\\"18\\\"\\/>\\n<circle clip-path=\\\"url(#clip0503)\\\" style=\\\"fill:#ff0000; stroke:none; fill-opacity:1\\\" cx=\\\"2057.35\\\" cy=\\\"553.207\\\" r=\\\"14\\\"\\/>\\n<circle clip-path=\\\"url(#clip0503)\\\" style=\\\"fill:#000000; stroke:none; fill-opacity:1\\\" cx=\\\"2209.84\\\" cy=\\\"507.404\\\" r=\\\"18\\\"\\/>\\n<circle clip-path=\\\"url(#clip0503)\\\" style=\\\"fill:#ff0000; stroke:none; fill-opacity:1\\\" cx=\\\"2209.84\\\" cy=\\\"507.404\\\" r=\\\"14\\\"\\/>\\n<circle clip-path=\\\"url(#clip0503)\\\" style=\\\"fill:#000000; stroke:none; fill-opacity:1\\\" cx=\\\"2362.33\\\" cy=\\\"455.338\\\" r=\\\"18\\\"\\/>\\n<circle clip-path=\\\"url(#clip0503)\\\" style=\\\"fill:#ff0000; stroke:none; fill-opacity:1\\\" cx=\\\"2362.33\\\" cy=\\\"455.338\\\" r=\\\"14\\\"\\/>\\n<circle clip-path=\\\"url(#clip0503)\\\" style=\\\"fill:#000000; stroke:none; fill-opacity:1\\\" cx=\\\"2514.82\\\" cy=\\\"390.845\\\" r=\\\"18\\\"\\/>\\n<circle clip-path=\\\"url(#clip0503)\\\" style=\\\"fill:#ff0000; stroke:none; fill-opacity:1\\\" cx=\\\"2514.82\\\" cy=\\\"390.845\\\" r=\\\"14\\\"\\/>\\n<circle clip-path=\\\"url(#clip0503)\\\" style=\\\"fill:#000000; stroke:none; fill-opacity:1\\\" cx=\\\"2667.31\\\" cy=\\\"359.094\\\" r=\\\"18\\\"\\/>\\n<circle clip-path=\\\"url(#clip0503)\\\" style=\\\"fill:#ff0000; stroke:none; fill-opacity:1\\\" cx=\\\"2667.31\\\" cy=\\\"359.094\\\" r=\\\"14\\\"\\/>\\n<circle clip-path=\\\"url(#clip0503)\\\" style=\\\"fill:#000000; stroke:none; fill-opacity:1\\\" cx=\\\"2819.8\\\" cy=\\\"302.937\\\" r=\\\"18\\\"\\/>\\n<circle clip-path=\\\"url(#clip0503)\\\" style=\\\"fill:#ff0000; stroke:none; fill-opacity:1\\\" cx=\\\"2819.8\\\" cy=\\\"302.937\\\" r=\\\"14\\\"\\/>\\n<circle clip-path=\\\"url(#clip0503)\\\" style=\\\"fill:#000000; stroke:none; fill-opacity:1\\\" cx=\\\"2972.29\\\" cy=\\\"241.002\\\" r=\\\"18\\\"\\/>\\n<circle clip-path=\\\"url(#clip0503)\\\" style=\\\"fill:#ff0000; stroke:none; fill-opacity:1\\\" cx=\\\"2972.29\\\" cy=\\\"241.002\\\" r=\\\"14\\\"\\/>\\n<circle clip-path=\\\"url(#clip0503)\\\" style=\\\"fill:#000000; stroke:none; fill-opacity:1\\\" cx=\\\"3124.78\\\" cy=\\\"190.223\\\" r=\\\"18\\\"\\/>\\n<circle clip-path=\\\"url(#clip0503)\\\" style=\\\"fill:#ff0000; stroke:none; fill-opacity:1\\\" cx=\\\"3124.78\\\" cy=\\\"190.223\\\" r=\\\"14\\\"\\/>\\n<circle clip-path=\\\"url(#clip0503)\\\" style=\\\"fill:#000000; stroke:none; fill-opacity:1\\\" cx=\\\"3277.27\\\" cy=\\\"139.685\\\" r=\\\"18\\\"\\/>\\n<circle clip-path=\\\"url(#clip0503)\\\" style=\\\"fill:#ff0000; stroke:none; fill-opacity:1\\\" cx=\\\"3277.27\\\" cy=\\\"139.685\\\" r=\\\"14\\\"\\/>\\n<circle clip-path=\\\"url(#clip0503)\\\" style=\\\"fill:#000000; stroke:none; fill-opacity:1\\\" cx=\\\"3429.77\\\" cy=\\\"84.9389\\\" r=\\\"18\\\"\\/>\\n<circle clip-path=\\\"url(#clip0503)\\\" style=\\\"fill:#ff0000; stroke:none; fill-opacity:1\\\" cx=\\\"3429.77\\\" cy=\\\"84.9389\\\" r=\\\"14\\\"\\/>\\n<polyline clip-path=\\\"url(#clip0503)\\\" style=\\\"stroke:#008000; stroke-width:4; stroke-opacity:1; fill:none\\\" points=\\\"\\n  379.947,1028.66 410.445,824.621 440.943,829.295 471.441,837.597 501.939,807.952 532.438,797.968 562.936,794.579 593.434,798.538 623.932,783.685 654.43,802.781 \\n  684.929,792.733 715.427,806.329 745.925,829.275 776.423,858.968 806.921,895.182 837.419,1028.66 867.918,909.639 898.416,909.639 928.914,909.639 959.412,1028.66 \\n  989.91,870.658 1020.41,1028.66 1050.91,1028.66 1081.4,1028.66 1111.9,833.122 1142.4,833.122 1172.9,833.122 1203.4,799.907 1233.9,833.122 1264.39,781.921 \\n  1294.89,765.156 1325.39,748.116 1355.89,833.122 1386.39,739.609 1416.89,731.104 1447.38,722.597 1477.88,833.122 1508.38,833.122 1538.88,688.592 1569.38,680.09 \\n  1599.87,671.588 1630.37,663.086 1660.87,646.083 1691.37,833.122 1721.87,637.581 1752.37,629.079 1782.86,620.577 1813.36,603.574 1843.86,595.072 1874.36,586.57 \\n  1904.86,586.57 1935.35,833.122 1965.85,556.091 1996.35,561.065 2026.85,552.563 2057.35,833.122 2087.85,535.559 2118.34,527.057 2148.84,513.582 2179.34,518.555 \\n  2209.84,500.453 2240.34,501.552 2270.83,484.548 2301.33,467.545 2331.83,450.541 2362.33,833.122 2392.83,433.537 2423.33,833.122 2453.82,833.122 2484.32,399.53 \\n  2514.82,391.028 2545.32,833.122 2575.82,833.122 2606.31,357.021 2636.81,833.122 2667.31,833.122 2697.81,323.014 2728.31,306.01 2758.81,833.122 2789.3,289.007 \\n  2819.8,280.505 2850.3,833.122 2880.8,833.122 2911.3,246.498 2941.79,833.122 2972.29,220.992 3002.79,220.992 3033.29,833.122 3063.79,833.122 3094.29,833.122 \\n  3124.78,833.122 3155.28,833.122 3185.78,152.978 3216.28,144.476 3246.78,833.122 3277.27,127.472 3307.77,118.97 3338.27,833.122 3368.77,833.122 3399.27,84.9631 \\n  3429.77,75.8291 \\n  \\\"\\/>\\n<polyline clip-path=\\\"url(#clip0503)\\\" style=\\\"stroke:#008000; stroke-width:4; stroke-opacity:0; fill:none\\\" points=\\\"\\n  379.947,1028.66 623.932,783.685 867.918,909.639 1111.9,833.122 1355.89,833.122 1599.87,671.588 1843.86,595.072 2087.85,535.559 2331.83,450.541 2575.82,833.122 \\n  2819.8,280.505 3063.79,833.122 3307.77,118.97 \\n  \\\"\\/>\\n<polygon clip-path=\\\"url(#clip0503)\\\" style=\\\"fill:#000000; fill-opacity:1\\\" points=\\\"\\n  379.947,1004.66 374.307,1020.89 357.123,1021.25 370.827,1031.64 365.835,1048.08 379.947,1038.26 394.059,1048.08 389.067,1031.64 402.771,1021.25 385.587,1020.89 \\n  379.947,1004.66 \\n  \\\"\\/>\\n<polygon clip-path=\\\"url(#clip0503)\\\" style=\\\"fill:#008000; fill-opacity:1\\\" points=\\\"\\n  379.947,1008.66 375.247,1022.18 360.927,1022.48 372.347,1031.14 368.187,1044.84 379.947,1036.66 391.707,1044.84 387.547,1031.14 398.967,1022.48 384.647,1022.18 \\n  379.947,1008.66 \\n  \\\"\\/>\\n<polygon clip-path=\\\"url(#clip0503)\\\" style=\\\"fill:#000000; fill-opacity:1\\\" points=\\\"\\n  623.932,759.685 618.292,775.909 601.108,776.269 614.812,786.661 609.82,803.101 623.932,793.285 638.044,803.101 633.052,786.661 646.756,776.269 629.572,775.909 \\n  623.932,759.685 \\n  \\\"\\/>\\n<polygon clip-path=\\\"url(#clip0503)\\\" style=\\\"fill:#008000; fill-opacity:1\\\" points=\\\"\\n  623.932,763.685 619.232,777.205 604.912,777.505 616.332,786.165 612.172,799.865 623.932,791.685 635.692,799.865 631.532,786.165 642.952,777.505 628.632,777.205 \\n  623.932,763.685 \\n  \\\"\\/>\\n<polygon clip-path=\\\"url(#clip0503)\\\" style=\\\"fill:#000000; fill-opacity:1\\\" points=\\\"\\n  867.918,885.639 862.278,901.863 845.094,902.223 858.798,912.615 853.806,929.055 867.918,919.239 882.03,929.055 877.038,912.615 890.742,902.223 873.558,901.863 \\n  867.918,885.639 \\n  \\\"\\/>\\n<polygon clip-path=\\\"url(#clip0503)\\\" style=\\\"fill:#008000; fill-opacity:1\\\" points=\\\"\\n  867.918,889.639 863.218,903.159 848.898,903.459 860.318,912.119 856.158,925.819 867.918,917.639 879.678,925.819 875.518,912.119 886.938,903.459 872.618,903.159 \\n  867.918,889.639 \\n  \\\"\\/>\\n<polygon clip-path=\\\"url(#clip0503)\\\" style=\\\"fill:#000000; fill-opacity:1\\\" points=\\\"\\n  1111.9,809.122 1106.26,825.346 1089.08,825.706 1102.78,836.098 1097.79,852.538 1111.9,842.722 1126.02,852.538 1121.02,836.098 1134.73,825.706 1117.54,825.346 \\n  1111.9,809.122 \\n  \\\"\\/>\\n<polygon clip-path=\\\"url(#clip0503)\\\" style=\\\"fill:#008000; fill-opacity:1\\\" points=\\\"\\n  1111.9,813.122 1107.2,826.642 1092.88,826.942 1104.3,835.602 1100.14,849.302 1111.9,841.122 1123.66,849.302 1119.5,835.602 1130.92,826.942 1116.6,826.642 \\n  1111.9,813.122 \\n  \\\"\\/>\\n<polygon clip-path=\\\"url(#clip0503)\\\" style=\\\"fill:#000000; fill-opacity:1\\\" points=\\\"\\n  1355.89,809.122 1350.25,825.346 1333.06,825.706 1346.77,836.098 1341.78,852.538 1355.89,842.722 1370,852.538 1365.01,836.098 1378.71,825.706 1361.53,825.346 \\n  1355.89,809.122 \\n  \\\"\\/>\\n<polygon clip-path=\\\"url(#clip0503)\\\" style=\\\"fill:#008000; fill-opacity:1\\\" points=\\\"\\n  1355.89,813.122 1351.19,826.642 1336.87,826.942 1348.29,835.602 1344.13,849.302 1355.89,841.122 1367.65,849.302 1363.49,835.602 1374.91,826.942 1360.59,826.642 \\n  1355.89,813.122 \\n  \\\"\\/>\\n<polygon clip-path=\\\"url(#clip0503)\\\" style=\\\"fill:#000000; fill-opacity:1\\\" points=\\\"\\n  1599.87,647.588 1594.23,663.812 1577.05,664.172 1590.75,674.564 1585.76,691.004 1599.87,681.188 1613.99,691.004 1608.99,674.564 1622.7,664.172 1605.51,663.812 \\n  1599.87,647.588 \\n  \\\"\\/>\\n<polygon clip-path=\\\"url(#clip0503)\\\" style=\\\"fill:#008000; fill-opacity:1\\\" points=\\\"\\n  1599.87,651.588 1595.17,665.108 1580.85,665.408 1592.27,674.068 1588.11,687.768 1599.87,679.588 1611.63,687.768 1607.47,674.068 1618.89,665.408 1604.57,665.108 \\n  1599.87,651.588 \\n  \\\"\\/>\\n<polygon clip-path=\\\"url(#clip0503)\\\" style=\\\"fill:#000000; fill-opacity:1\\\" points=\\\"\\n  1843.86,571.072 1838.22,587.296 1821.04,587.656 1834.74,598.048 1829.75,614.488 1843.86,604.672 1857.97,614.488 1852.98,598.048 1866.68,587.656 1849.5,587.296 \\n  1843.86,571.072 \\n  \\\"\\/>\\n<polygon clip-path=\\\"url(#clip0503)\\\" style=\\\"fill:#008000; fill-opacity:1\\\" points=\\\"\\n  1843.86,575.072 1839.16,588.592 1824.84,588.892 1836.26,597.552 1832.1,611.252 1843.86,603.072 1855.62,611.252 1851.46,597.552 1862.88,588.892 1848.56,588.592 \\n  1843.86,575.072 \\n  \\\"\\/>\\n<polygon clip-path=\\\"url(#clip0503)\\\" style=\\\"fill:#000000; fill-opacity:1\\\" points=\\\"\\n  2087.85,511.559 2082.21,527.783 2065.02,528.143 2078.73,538.535 2073.73,554.975 2087.85,545.159 2101.96,554.975 2096.97,538.535 2110.67,528.143 2093.49,527.783 \\n  2087.85,511.559 \\n  \\\"\\/>\\n<polygon clip-path=\\\"url(#clip0503)\\\" style=\\\"fill:#008000; fill-opacity:1\\\" points=\\\"\\n  2087.85,515.559 2083.15,529.079 2068.83,529.379 2080.25,538.039 2076.09,551.739 2087.85,543.559 2099.61,551.739 2095.45,538.039 2106.87,529.379 2092.55,529.079 \\n  2087.85,515.559 \\n  \\\"\\/>\\n<polygon clip-path=\\\"url(#clip0503)\\\" style=\\\"fill:#000000; fill-opacity:1\\\" points=\\\"\\n  2331.83,426.541 2326.19,442.765 2309.01,443.125 2322.71,453.517 2317.72,469.957 2331.83,460.141 2345.94,469.957 2340.95,453.517 2354.65,443.125 2337.47,442.765 \\n  2331.83,426.541 \\n  \\\"\\/>\\n<polygon clip-path=\\\"url(#clip0503)\\\" style=\\\"fill:#008000; fill-opacity:1\\\" points=\\\"\\n  2331.83,430.541 2327.13,444.061 2312.81,444.361 2324.23,453.021 2320.07,466.721 2331.83,458.541 2343.59,466.721 2339.43,453.021 2350.85,444.361 2336.53,444.061 \\n  2331.83,430.541 \\n  \\\"\\/>\\n<polygon clip-path=\\\"url(#clip0503)\\\" style=\\\"fill:#000000; fill-opacity:1\\\" points=\\\"\\n  2575.82,809.122 2570.18,825.346 2552.99,825.706 2566.7,836.098 2561.7,852.538 2575.82,842.722 2589.93,852.538 2584.94,836.098 2598.64,825.706 2581.46,825.346 \\n  2575.82,809.122 \\n  \\\"\\/>\\n<polygon clip-path=\\\"url(#clip0503)\\\" style=\\\"fill:#008000; fill-opacity:1\\\" points=\\\"\\n  2575.82,813.122 2571.12,826.642 2556.8,826.942 2568.22,835.602 2564.06,849.302 2575.82,841.122 2587.58,849.302 2583.42,835.602 2594.84,826.942 2580.52,826.642 \\n  2575.82,813.122 \\n  \\\"\\/>\\n<polygon clip-path=\\\"url(#clip0503)\\\" style=\\\"fill:#000000; fill-opacity:1\\\" points=\\\"\\n  2819.8,256.505 2814.16,272.729 2796.98,273.089 2810.68,283.481 2805.69,299.921 2819.8,290.105 2833.91,299.921 2828.92,283.481 2842.63,273.089 2825.44,272.729 \\n  2819.8,256.505 \\n  \\\"\\/>\\n<polygon clip-path=\\\"url(#clip0503)\\\" style=\\\"fill:#008000; fill-opacity:1\\\" points=\\\"\\n  2819.8,260.505 2815.1,274.025 2800.78,274.325 2812.2,282.985 2808.04,296.685 2819.8,288.505 2831.56,296.685 2827.4,282.985 2838.82,274.325 2824.5,274.025 \\n  2819.8,260.505 \\n  \\\"\\/>\\n<polygon clip-path=\\\"url(#clip0503)\\\" style=\\\"fill:#000000; fill-opacity:1\\\" points=\\\"\\n  3063.79,809.122 3058.15,825.346 3040.96,825.706 3054.67,836.098 3049.68,852.538 3063.79,842.722 3077.9,852.538 3072.91,836.098 3086.61,825.706 3069.43,825.346 \\n  3063.79,809.122 \\n  \\\"\\/>\\n<polygon clip-path=\\\"url(#clip0503)\\\" style=\\\"fill:#008000; fill-opacity:1\\\" points=\\\"\\n  3063.79,813.122 3059.09,826.642 3044.77,826.942 3056.19,835.602 3052.03,849.302 3063.79,841.122 3075.55,849.302 3071.39,835.602 3082.81,826.942 3068.49,826.642 \\n  3063.79,813.122 \\n  \\\"\\/>\\n<polygon clip-path=\\\"url(#clip0503)\\\" style=\\\"fill:#000000; fill-opacity:1\\\" points=\\\"\\n  3307.77,94.9704 3302.13,111.194 3284.95,111.554 3298.65,121.946 3293.66,138.386 3307.77,128.57 3321.88,138.386 3316.89,121.946 3330.6,111.554 3313.41,111.194 \\n  3307.77,94.9704 \\n  \\\"\\/>\\n<polygon clip-path=\\\"url(#clip0503)\\\" style=\\\"fill:#008000; fill-opacity:1\\\" points=\\\"\\n  3307.77,98.9704 3303.07,112.49 3288.75,112.79 3300.17,121.45 3296.01,135.15 3307.77,126.97 3319.53,135.15 3315.37,121.45 3326.79,112.79 3312.47,112.49 \\n  3307.77,98.9704 \\n  \\\"\\/>\\n<polyline clip-path=\\\"url(#clip0503)\\\" style=\\\"stroke:#0000ff; stroke-width:12; stroke-opacity:1; fill:none\\\" points=\\\"\\n  379.947,1028.66 410.445,824.621 440.943,829.295 471.441,837.597 501.939,807.952 532.438,797.968 562.936,794.579 593.434,798.538 623.932,783.685 654.43,802.781 \\n  684.929,792.733 715.427,806.329 745.925,829.273 776.423,858.991 806.921,896.236 837.419,932.554 867.918,904.512 898.416,899.175 \\n  \\\"\\/>\\n<polyline clip-path=\\\"url(#clip0503)\\\" style=\\\"stroke:#ffff00; stroke-width:4; stroke-opacity:1; fill:none\\\" points=\\\"\\n  379.947,1028.66 410.445,824.621 440.943,829.295 471.441,837.597 501.939,807.952 532.438,797.968 562.936,794.579 593.434,798.538 623.932,783.685 654.43,802.781 \\n  684.929,792.733 715.427,806.329 745.925,829.273 776.423,858.991 806.921,896.236 837.419,932.554 867.918,904.512 898.416,899.175 \\n  \\\"\\/>\\n<polygon clip-path=\\\"url(#clip0501)\\\" points=\\\"\\n1229.02,505.164 2075.79,505.164 2075.79,202.764 1229.02,202.764 \\n  \\\" fill=\\\"#ffffff\\\" fill-rule=\\\"evenodd\\\" fill-opacity=\\\"1\\\"\\/>\\n<polyline clip-path=\\\"url(#clip0501)\\\" style=\\\"stroke:#000000; stroke-width:4; stroke-opacity:1; fill:none\\\" points=\\\"\\n  1229.02,505.164 2075.79,505.164 2075.79,202.764 1229.02,202.764 1229.02,505.164 \\n  \\\"\\/>\\n<polyline clip-path=\\\"url(#clip0501)\\\" style=\\\"stroke:#ff0000; stroke-width:4; stroke-opacity:0; fill:none\\\" points=\\\"\\n  1265.02,263.244 1481.02,263.244 \\n  \\\"\\/>\\n<circle clip-path=\\\"url(#clip0501)\\\" style=\\\"fill:#000000; stroke:none; fill-opacity:1\\\" cx=\\\"1391.02\\\" cy=\\\"263.244\\\" r=\\\"25\\\"\\/>\\n<circle clip-path=\\\"url(#clip0501)\\\" style=\\\"fill:#ff0000; stroke:none; fill-opacity:1\\\" cx=\\\"1391.02\\\" cy=\\\"263.244\\\" r=\\\"21\\\"\\/>\\n<g clip-path=\\\"url(#clip0501)\\\">\\n<text style=\\\"fill:#000000; fill-opacity:1; font-family:Arial,Helvetica Neue,Helvetica,sans-serif; font-size:48px; text-anchor:start;\\\" transform=\\\"rotate(0, 1517.02, 280.744)\\\" x=\\\"1517.02\\\" y=\\\"280.744\\\">Aitken Neville<\\/text>\\n<\\/g>\\n<polyline clip-path=\\\"url(#clip0501)\\\" style=\\\"stroke:#008000; stroke-width:4; stroke-opacity:0; fill:none\\\" points=\\\"\\n  1265.02,323.724 1481.02,323.724 \\n  \\\"\\/>\\n<polygon clip-path=\\\"url(#clip0501)\\\" style=\\\"fill:#000000; fill-opacity:1\\\" points=\\\"\\n  1391.02,295.724 1384.44,314.652 1364.39,315.072 1380.38,327.196 1374.55,346.376 1391.02,334.924 1407.48,346.376 1401.66,327.196 1417.64,315.072 1397.6,314.652 \\n  1391.02,295.724 \\n  \\\"\\/>\\n<polygon clip-path=\\\"url(#clip0501)\\\" style=\\\"fill:#008000; fill-opacity:1\\\" points=\\\"\\n  1391.02,299.724 1385.38,315.948 1368.19,316.308 1381.9,326.7 1376.9,343.14 1391.02,333.324 1405.13,343.14 1400.14,326.7 1413.84,316.308 1396.66,315.948 \\n  1391.02,299.724 \\n  \\\"\\/>\\n<g clip-path=\\\"url(#clip0501)\\\">\\n<text style=\\\"fill:#000000; fill-opacity:1; font-family:Arial,Helvetica Neue,Helvetica,sans-serif; font-size:48px; text-anchor:start;\\\" transform=\\\"rotate(0, 1517.02, 341.224)\\\" x=\\\"1517.02\\\" y=\\\"341.224\\\">Lagrange formula<\\/text>\\n<\\/g>\\n<polyline clip-path=\\\"url(#clip0501)\\\" style=\\\"stroke:#0000ff; stroke-width:12; stroke-opacity:1; fill:none\\\" points=\\\"\\n  1265.02,384.204 1481.02,384.204 \\n  \\\"\\/>\\n<g clip-path=\\\"url(#clip0501)\\\">\\n<text style=\\\"fill:#000000; fill-opacity:1; font-family:Arial,Helvetica Neue,Helvetica,sans-serif; font-size:48px; text-anchor:start;\\\" transform=\\\"rotate(0, 1517.02, 401.704)\\\" x=\\\"1517.02\\\" y=\\\"401.704\\\">Barycentric formula (1)<\\/text>\\n<\\/g>\\n<polyline clip-path=\\\"url(#clip0501)\\\" style=\\\"stroke:#ffff00; stroke-width:4; stroke-opacity:1; fill:none\\\" points=\\\"\\n  1265.02,444.684 1481.02,444.684 \\n  \\\"\\/>\\n<g clip-path=\\\"url(#clip0501)\\\">\\n<text style=\\\"fill:#000000; fill-opacity:1; font-family:Arial,Helvetica Neue,Helvetica,sans-serif; font-size:48px; text-anchor:start;\\\" transform=\\\"rotate(0, 1517.02, 462.184)\\\" x=\\\"1517.02\\\" y=\\\"462.184\\\">Barycentric formula (2)<\\/text>\\n<\\/g>\\n<\\/svg>\\n\"},\"nodeType\":\"DOM\",\"type\":\"node\",\"instanceArgs\":{\"namespace\":\"html\",\"tag\":\"div\"},\"children\":[]}]}}}},\"children\":[{\"props\":{},\"nodeType\":\"ObservableNode\",\"type\":\"node\",\"instanceArgs\":{\"id\":\"ob_50\",\"name\":\"obs-node\"},\"children\":[]}]}]},\n",
       "        );\n",
       "    } else {\n",
       "        document\n",
       "            .querySelector('[data-webio-mountpoint=\"12502294507011567688\"]')\n",
       "            .innerHTML = '<strong>WebIO not detected.</strong>';\n",
       "    }\n",
       "    </script>\n",
       "</div>\n"
      ],
      "text/plain": [
       "Widget{:manipulate,Any}(OrderedDict{Symbol,Any}(:T=>Widget{:togglebuttons,Any}(OrderedDict{Symbol,Any}(:options=>Observable{Array{DataType,1}} with 2 listeners. Value:\n",
       "DataType[Float32, Float64, BigFloat],:index=>Observable{Any} with 2 listeners. Value:\n",
       "1,:vals2idxs=>Observable{Any} with 1 listeners. Value:\n",
       "DataType[Float32, Float64, BigFloat]), Observable{Any} with 2 listeners. Value:\n",
       "Float32, Scope(\"knockout-component-aff5f33e-3c89-4139-a8e7-ccee674a9445\", Node{DOM}(DOM(:html, :div), Any[Node{DOM}(DOM(:html, :div), Any[Node{DOM}(DOM(:html, :label), Any[\"T\"], Dict{Symbol,Any}(:className=>\"interact \",:style=>Dict{Any,Any}(:padding=>\"5px 10px 0px 10px\")), 1)], Dict{Symbol,Any}(:attributes=>Dict(\"style\"=>\"text-align:right;width:18%\")), 2), Node{DOM}(DOM(:html, :div), Any[Node{DOM}(DOM(:html, :div), Any[Node{DOM}(DOM(:html, :button), Any[Node{DOM}(DOM(:html, :label), Any[], Dict{Symbol,Any}(:attributes=>Dict(\"data-bind\"=>\"text : key\")), 0)], Dict{Symbol,Any}(:attributes=>Dict(\"data-bind\"=>\"click: function () {\\$root.index(val)}, css: {'is-primary is-selected' : \\$root.index() == val, 'button is-fullwidth' : true}\")), 1)], Dict{Symbol,Any}(:attributes=>(\"data-bind\"=>\"foreach : options_js\"),:className=>\"field is-grouped has-addons is-oneline is-centered\"), 2)], Dict{Symbol,Any}(:attributes=>Dict(\"style\"=>\"flex-grow:1; margin: 0 2%\")), 3), Node{DOM}(DOM(:html, :div), Any[Node{DOM}(DOM(:html, :div), Any[], Dict{Symbol,Any}(), 0)], Dict{Symbol,Any}(:attributes=>Dict(\"style\"=>\"width:18%\")), 1)], Dict{Symbol,Any}(:attributes=>Dict(\"style\"=>\"display:flex; justify-content:center; align-items:center;\")), 9), Dict{String,Tuple{Observables.AbstractObservable,Union{Nothing, Bool}}}(\"options_js\"=>(Observable{Any} with 1 listeners. Value:\n",
       "OrderedDict[OrderedDict{String,Any}(\"key\"=>\"Float32\",\"val\"=>1,\"id\"=>\"id94ZmRbn0\"), OrderedDict{String,Any}(\"key\"=>\"Float64\",\"val\"=>2,\"id\"=>\"idwN5q6GML\"), OrderedDict{String,Any}(\"key\"=>\"BigFloat\",\"val\"=>3,\"id\"=>\"idMkv3N2TB\")], nothing),\"index\"=>(Observable{Any} with 2 listeners. Value:\n",
       "1, nothing)), Set(String[]), nothing, Any[\"knockout\"=>\"/Users/konstantinalthaus/.julia/packages/Knockout/JIqpG/src/../assets/knockout.js\", \"knockout_punches\"=>\"/Users/konstantinalthaus/.julia/packages/Knockout/JIqpG/src/../assets/knockout_punches.js\", \"/Users/konstantinalthaus/.julia/packages/InteractBase/Q4IkI/src/../assets/all.js\", \"/Users/konstantinalthaus/.julia/packages/InteractBase/Q4IkI/src/../assets/style.css\", \"/Users/konstantinalthaus/.julia/packages/InteractBulma/Ohu5Y/src/../assets/main.css\"], Dict{Any,Any}(\"_promises\"=>Dict{Any,Any}(\"importsLoaded\"=>Any[JSString(\"function (ko, koPunches) {\\n    ko.punches.enableAll();\\n    ko.bindingHandlers.numericValue = {\\n        init : function(element, valueAccessor, allBindings, data, context) {\\n            var stringified = ko.observable(ko.unwrap(valueAccessor()));\\n            stringified.subscribe(function(value) {\\n                var val = parseFloat(value);\\n                if (!isNaN(val)) {\\n                    valueAccessor()(val);\\n                }\\n            })\\n            valueAccessor().subscribe(function(value) {\\n                var str = JSON.stringify(value);\\n                if ((str == \\\"0\\\") && ([\\\"-0\\\", \\\"-0.\\\"].indexOf(stringified()) >= 0))\\n                     return;\\n                 if ([\\\"null\\\", \\\"\\\"].indexOf(str) >= 0)\\n                     return;\\n                stringified(str);\\n            })\\n            ko.applyBindingsToNode(element, { value: stringified, valueUpdate: allBindings.get('valueUpdate')}, context);\\n        }\\n    };\\n    var json_data = JSON.parse(\\\"{\\\\\\\"options_js\\\\\\\":[{\\\\\\\"key\\\\\\\":\\\\\\\"Float32\\\\\\\",\\\\\\\"val\\\\\\\":1,\\\\\\\"id\\\\\\\":\\\\\\\"id94ZmRbn0\\\\\\\"},{\\\\\\\"key\\\\\\\":\\\\\\\"Float64\\\\\\\",\\\\\\\"val\\\\\\\":2,\\\\\\\"id\\\\\\\":\\\\\\\"idwN5q6GML\\\\\\\"},{\\\\\\\"key\\\\\\\":\\\\\\\"BigFloat\\\\\\\",\\\\\\\"val\\\\\\\":3,\\\\\\\"id\\\\\\\":\\\\\\\"idMkv3N2TB\\\\\\\"}],\\\\\\\"index\\\\\\\":1}\\\");\\n    var self = this;\\n    function AppViewModel() {\\n        for (var key in json_data) {\\n            var el = json_data[key];\\n            this[key] = Array.isArray(el) ? ko.observableArray(el) : ko.observable(el);\\n        }\\n        \\n        \\n        [this[\\\"options_js\\\"].subscribe((function (val){!(this.valueFromJulia[\\\"options_js\\\"]) ? (_webIOScope.setObservableValue({\\\"name\\\":\\\"options_js\\\",\\\"scope\\\":\\\"knockout-component-aff5f33e-3c89-4139-a8e7-ccee674a9445\\\",\\\"id\\\":\\\"ob_33\\\",\\\"type\\\":\\\"observable\\\"},val)) : undefined; return this.valueFromJulia[\\\"options_js\\\"]=false}),self),this[\\\"index\\\"].subscribe((function (val){!(this.valueFromJulia[\\\"index\\\"]) ? (_webIOScope.setObservableValue({\\\"name\\\":\\\"index\\\",\\\"scope\\\":\\\"knockout-component-aff5f33e-3c89-4139-a8e7-ccee674a9445\\\",\\\"id\\\":\\\"ob_32\\\",\\\"type\\\":\\\"observable\\\"},val)) : undefined; return this.valueFromJulia[\\\"index\\\"]=false}),self)]\\n        \\n    }\\n    self.model = new AppViewModel();\\n    self.valueFromJulia = {};\\n    for (var key in json_data) {\\n        self.valueFromJulia[key] = false;\\n    }\\n    ko.applyBindings(self.model, self.dom);\\n}\\n\")]),\"options_js\"=>Any[JSString(\"(function (val){return (val!=this.model[\\\"options_js\\\"]()) ? (this.valueFromJulia[\\\"options_js\\\"]=true, this.model[\\\"options_js\\\"](val)) : undefined})\")],\"index\"=>Any[JSString(\"(function (val){return (val!=this.model[\\\"index\\\"]()) ? (this.valueFromJulia[\\\"index\\\"]=true, this.model[\\\"index\\\"](val)) : undefined})\")]), ConnectionPool(Channel{Any}(sz_max:9223372036854775807,sz_curr:0), Set(AbstractConnection[]), Channel{AbstractConnection}(sz_max:32,sz_curr:0))), ##52#53{#dom#13{##dom#11#12{Dict{Any,Any},DOM}},typeof(scope)}(#dom#13{##dom#11#12{Dict{Any,Any},DOM}}(##dom#11#12{Dict{Any,Any},DOM}(Dict{Any,Any}(:className=>\"field\"), DOM(:html, :div))), scope)),:f=>Widget{:togglebuttons,Any}(OrderedDict{Symbol,Any}(:options=>Observable{Array{String,1}} with 2 listeners. Value:\n",
       "[\"Chebyshev (40)\", \"Runge's function\", \"sine\"],:index=>Observable{Any} with 2 listeners. Value:\n",
       "1,:vals2idxs=>Observable{Any} with 1 listeners. Value:\n",
       "[\"Chebyshev (40)\", \"Runge's function\", \"sine\"]), Observable{Any} with 2 listeners. Value:\n",
       "\"Chebyshev (40)\", Scope(\"knockout-component-87902738-5706-4916-96d3-d00f4630176e\", Node{DOM}(DOM(:html, :div), Any[Node{DOM}(DOM(:html, :div), Any[Node{DOM}(DOM(:html, :label), Any[\"f\"], Dict{Symbol,Any}(:className=>\"interact \",:style=>Dict{Any,Any}(:padding=>\"5px 10px 0px 10px\")), 1)], Dict{Symbol,Any}(:attributes=>Dict(\"style\"=>\"text-align:right;width:18%\")), 2), Node{DOM}(DOM(:html, :div), Any[Node{DOM}(DOM(:html, :div), Any[Node{DOM}(DOM(:html, :button), Any[Node{DOM}(DOM(:html, :label), Any[], Dict{Symbol,Any}(:attributes=>Dict(\"data-bind\"=>\"text : key\")), 0)], Dict{Symbol,Any}(:attributes=>Dict(\"data-bind\"=>\"click: function () {\\$root.index(val)}, css: {'is-primary is-selected' : \\$root.index() == val, 'button is-fullwidth' : true}\")), 1)], Dict{Symbol,Any}(:attributes=>(\"data-bind\"=>\"foreach : options_js\"),:className=>\"field is-grouped has-addons is-oneline is-centered\"), 2)], Dict{Symbol,Any}(:attributes=>Dict(\"style\"=>\"flex-grow:1; margin: 0 2%\")), 3), Node{DOM}(DOM(:html, :div), Any[Node{DOM}(DOM(:html, :div), Any[], Dict{Symbol,Any}(), 0)], Dict{Symbol,Any}(:attributes=>Dict(\"style\"=>\"width:18%\")), 1)], Dict{Symbol,Any}(:attributes=>Dict(\"style\"=>\"display:flex; justify-content:center; align-items:center;\")), 9), Dict{String,Tuple{Observables.AbstractObservable,Union{Nothing, Bool}}}(\"options_js\"=>(Observable{Any} with 1 listeners. Value:\n",
       "OrderedDict[OrderedDict{String,Any}(\"key\"=>\"Chebyshev (40)\",\"val\"=>1,\"id\"=>\"idKSBZjQIz\"), OrderedDict{String,Any}(\"key\"=>\"Runge's function\",\"val\"=>2,\"id\"=>\"idhvKZ0y2c\"), OrderedDict{String,Any}(\"key\"=>\"sine\",\"val\"=>3,\"id\"=>\"idKQWUSiO8\")], nothing),\"index\"=>(Observable{Any} with 2 listeners. Value:\n",
       "1, nothing)), Set(String[]), nothing, Any[\"knockout\"=>\"/Users/konstantinalthaus/.julia/packages/Knockout/JIqpG/src/../assets/knockout.js\", \"knockout_punches\"=>\"/Users/konstantinalthaus/.julia/packages/Knockout/JIqpG/src/../assets/knockout_punches.js\", \"/Users/konstantinalthaus/.julia/packages/InteractBase/Q4IkI/src/../assets/all.js\", \"/Users/konstantinalthaus/.julia/packages/InteractBase/Q4IkI/src/../assets/style.css\", \"/Users/konstantinalthaus/.julia/packages/InteractBulma/Ohu5Y/src/../assets/main.css\"], Dict{Any,Any}(\"_promises\"=>Dict{Any,Any}(\"importsLoaded\"=>Any[JSString(\"function (ko, koPunches) {\\n    ko.punches.enableAll();\\n    ko.bindingHandlers.numericValue = {\\n        init : function(element, valueAccessor, allBindings, data, context) {\\n            var stringified = ko.observable(ko.unwrap(valueAccessor()));\\n            stringified.subscribe(function(value) {\\n                var val = parseFloat(value);\\n                if (!isNaN(val)) {\\n                    valueAccessor()(val);\\n                }\\n            })\\n            valueAccessor().subscribe(function(value) {\\n                var str = JSON.stringify(value);\\n                if ((str == \\\"0\\\") && ([\\\"-0\\\", \\\"-0.\\\"].indexOf(stringified()) >= 0))\\n                     return;\\n                 if ([\\\"null\\\", \\\"\\\"].indexOf(str) >= 0)\\n                     return;\\n                stringified(str);\\n            })\\n            ko.applyBindingsToNode(element, { value: stringified, valueUpdate: allBindings.get('valueUpdate')}, context);\\n        }\\n    };\\n    var json_data = JSON.parse(\\\"{\\\\\\\"options_js\\\\\\\":[{\\\\\\\"key\\\\\\\":\\\\\\\"Chebyshev (40)\\\\\\\",\\\\\\\"val\\\\\\\":1,\\\\\\\"id\\\\\\\":\\\\\\\"idKSBZjQIz\\\\\\\"},{\\\\\\\"key\\\\\\\":\\\\\\\"Runge's function\\\\\\\",\\\\\\\"val\\\\\\\":2,\\\\\\\"id\\\\\\\":\\\\\\\"idhvKZ0y2c\\\\\\\"},{\\\\\\\"key\\\\\\\":\\\\\\\"sine\\\\\\\",\\\\\\\"val\\\\\\\":3,\\\\\\\"id\\\\\\\":\\\\\\\"idKQWUSiO8\\\\\\\"}],\\\\\\\"index\\\\\\\":1}\\\");\\n    var self = this;\\n    function AppViewModel() {\\n        for (var key in json_data) {\\n            var el = json_data[key];\\n            this[key] = Array.isArray(el) ? ko.observableArray(el) : ko.observable(el);\\n        }\\n        \\n        \\n        [this[\\\"options_js\\\"].subscribe((function (val){!(this.valueFromJulia[\\\"options_js\\\"]) ? (_webIOScope.setObservableValue({\\\"name\\\":\\\"options_js\\\",\\\"scope\\\":\\\"knockout-component-87902738-5706-4916-96d3-d00f4630176e\\\",\\\"id\\\":\\\"ob_38\\\",\\\"type\\\":\\\"observable\\\"},val)) : undefined; return this.valueFromJulia[\\\"options_js\\\"]=false}),self),this[\\\"index\\\"].subscribe((function (val){!(this.valueFromJulia[\\\"index\\\"]) ? (_webIOScope.setObservableValue({\\\"name\\\":\\\"index\\\",\\\"scope\\\":\\\"knockout-component-87902738-5706-4916-96d3-d00f4630176e\\\",\\\"id\\\":\\\"ob_37\\\",\\\"type\\\":\\\"observable\\\"},val)) : undefined; return this.valueFromJulia[\\\"index\\\"]=false}),self)]\\n        \\n    }\\n    self.model = new AppViewModel();\\n    self.valueFromJulia = {};\\n    for (var key in json_data) {\\n        self.valueFromJulia[key] = false;\\n    }\\n    ko.applyBindings(self.model, self.dom);\\n}\\n\")]),\"options_js\"=>Any[JSString(\"(function (val){return (val!=this.model[\\\"options_js\\\"]()) ? (this.valueFromJulia[\\\"options_js\\\"]=true, this.model[\\\"options_js\\\"](val)) : undefined})\")],\"index\"=>Any[JSString(\"(function (val){return (val!=this.model[\\\"index\\\"]()) ? (this.valueFromJulia[\\\"index\\\"]=true, this.model[\\\"index\\\"](val)) : undefined})\")]), ConnectionPool(Channel{Any}(sz_max:9223372036854775807,sz_curr:0), Set(AbstractConnection[]), Channel{AbstractConnection}(sz_max:32,sz_curr:0))), ##52#53{#dom#13{##dom#11#12{Dict{Any,Any},DOM}},typeof(scope)}(#dom#13{##dom#11#12{Dict{Any,Any},DOM}}(##dom#11#12{Dict{Any,Any},DOM}(Dict{Any,Any}(:className=>\"field\"), DOM(:html, :div))), scope)),:s=>Widget{:togglebuttons,Any}(OrderedDict{Symbol,Any}(:options=>Observable{Array{String,1}} with 2 listeners. Value:\n",
       "[\"Harmonic\", \"Romberg\", \"Bulirsch\"],:index=>Observable{Any} with 2 listeners. Value:\n",
       "1,:vals2idxs=>Observable{Any} with 1 listeners. Value:\n",
       "[\"Harmonic\", \"Romberg\", \"Bulirsch\"]), Observable{Any} with 2 listeners. Value:\n",
       "\"Harmonic\", Scope(\"knockout-component-5b16d494-a291-4ee1-9f4e-2f11870037ff\", Node{DOM}(DOM(:html, :div), Any[Node{DOM}(DOM(:html, :div), Any[Node{DOM}(DOM(:html, :label), Any[\"s\"], Dict{Symbol,Any}(:className=>\"interact \",:style=>Dict{Any,Any}(:padding=>\"5px 10px 0px 10px\")), 1)], Dict{Symbol,Any}(:attributes=>Dict(\"style\"=>\"text-align:right;width:18%\")), 2), Node{DOM}(DOM(:html, :div), Any[Node{DOM}(DOM(:html, :div), Any[Node{DOM}(DOM(:html, :button), Any[Node{DOM}(DOM(:html, :label), Any[], Dict{Symbol,Any}(:attributes=>Dict(\"data-bind\"=>\"text : key\")), 0)], Dict{Symbol,Any}(:attributes=>Dict(\"data-bind\"=>\"click: function () {\\$root.index(val)}, css: {'is-primary is-selected' : \\$root.index() == val, 'button is-fullwidth' : true}\")), 1)], Dict{Symbol,Any}(:attributes=>(\"data-bind\"=>\"foreach : options_js\"),:className=>\"field is-grouped has-addons is-oneline is-centered\"), 2)], Dict{Symbol,Any}(:attributes=>Dict(\"style\"=>\"flex-grow:1; margin: 0 2%\")), 3), Node{DOM}(DOM(:html, :div), Any[Node{DOM}(DOM(:html, :div), Any[], Dict{Symbol,Any}(), 0)], Dict{Symbol,Any}(:attributes=>Dict(\"style\"=>\"width:18%\")), 1)], Dict{Symbol,Any}(:attributes=>Dict(\"style\"=>\"display:flex; justify-content:center; align-items:center;\")), 9), Dict{String,Tuple{Observables.AbstractObservable,Union{Nothing, Bool}}}(\"options_js\"=>(Observable{Any} with 1 listeners. Value:\n",
       "OrderedDict[OrderedDict{String,Any}(\"key\"=>\"Harmonic\",\"val\"=>1,\"id\"=>\"idtuSLjUeu\"), OrderedDict{String,Any}(\"key\"=>\"Romberg\",\"val\"=>2,\"id\"=>\"idRp1n9MoJ\"), OrderedDict{String,Any}(\"key\"=>\"Bulirsch\",\"val\"=>3,\"id\"=>\"idV5sCPpBK\")], nothing),\"index\"=>(Observable{Any} with 2 listeners. Value:\n",
       "1, nothing)), Set(String[]), nothing, Any[\"knockout\"=>\"/Users/konstantinalthaus/.julia/packages/Knockout/JIqpG/src/../assets/knockout.js\", \"knockout_punches\"=>\"/Users/konstantinalthaus/.julia/packages/Knockout/JIqpG/src/../assets/knockout_punches.js\", \"/Users/konstantinalthaus/.julia/packages/InteractBase/Q4IkI/src/../assets/all.js\", \"/Users/konstantinalthaus/.julia/packages/InteractBase/Q4IkI/src/../assets/style.css\", \"/Users/konstantinalthaus/.julia/packages/InteractBulma/Ohu5Y/src/../assets/main.css\"], Dict{Any,Any}(\"_promises\"=>Dict{Any,Any}(\"importsLoaded\"=>Any[JSString(\"function (ko, koPunches) {\\n    ko.punches.enableAll();\\n    ko.bindingHandlers.numericValue = {\\n        init : function(element, valueAccessor, allBindings, data, context) {\\n            var stringified = ko.observable(ko.unwrap(valueAccessor()));\\n            stringified.subscribe(function(value) {\\n                var val = parseFloat(value);\\n                if (!isNaN(val)) {\\n                    valueAccessor()(val);\\n                }\\n            })\\n            valueAccessor().subscribe(function(value) {\\n                var str = JSON.stringify(value);\\n                if ((str == \\\"0\\\") && ([\\\"-0\\\", \\\"-0.\\\"].indexOf(stringified()) >= 0))\\n                     return;\\n                 if ([\\\"null\\\", \\\"\\\"].indexOf(str) >= 0)\\n                     return;\\n                stringified(str);\\n            })\\n            ko.applyBindingsToNode(element, { value: stringified, valueUpdate: allBindings.get('valueUpdate')}, context);\\n        }\\n    };\\n    var json_data = JSON.parse(\\\"{\\\\\\\"options_js\\\\\\\":[{\\\\\\\"key\\\\\\\":\\\\\\\"Harmonic\\\\\\\",\\\\\\\"val\\\\\\\":1,\\\\\\\"id\\\\\\\":\\\\\\\"idtuSLjUeu\\\\\\\"},{\\\\\\\"key\\\\\\\":\\\\\\\"Romberg\\\\\\\",\\\\\\\"val\\\\\\\":2,\\\\\\\"id\\\\\\\":\\\\\\\"idRp1n9MoJ\\\\\\\"},{\\\\\\\"key\\\\\\\":\\\\\\\"Bulirsch\\\\\\\",\\\\\\\"val\\\\\\\":3,\\\\\\\"id\\\\\\\":\\\\\\\"idV5sCPpBK\\\\\\\"}],\\\\\\\"index\\\\\\\":1}\\\");\\n    var self = this;\\n    function AppViewModel() {\\n        for (var key in json_data) {\\n            var el = json_data[key];\\n            this[key] = Array.isArray(el) ? ko.observableArray(el) : ko.observable(el);\\n        }\\n        \\n        \\n        [this[\\\"options_js\\\"].subscribe((function (val){!(this.valueFromJulia[\\\"options_js\\\"]) ? (_webIOScope.setObservableValue({\\\"name\\\":\\\"options_js\\\",\\\"scope\\\":\\\"knockout-component-5b16d494-a291-4ee1-9f4e-2f11870037ff\\\",\\\"id\\\":\\\"ob_43\\\",\\\"type\\\":\\\"observable\\\"},val)) : undefined; return this.valueFromJulia[\\\"options_js\\\"]=false}),self),this[\\\"index\\\"].subscribe((function (val){!(this.valueFromJulia[\\\"index\\\"]) ? (_webIOScope.setObservableValue({\\\"name\\\":\\\"index\\\",\\\"scope\\\":\\\"knockout-component-5b16d494-a291-4ee1-9f4e-2f11870037ff\\\",\\\"id\\\":\\\"ob_42\\\",\\\"type\\\":\\\"observable\\\"},val)) : undefined; return this.valueFromJulia[\\\"index\\\"]=false}),self)]\\n        \\n    }\\n    self.model = new AppViewModel();\\n    self.valueFromJulia = {};\\n    for (var key in json_data) {\\n        self.valueFromJulia[key] = false;\\n    }\\n    ko.applyBindings(self.model, self.dom);\\n}\\n\")]),\"options_js\"=>Any[JSString(\"(function (val){return (val!=this.model[\\\"options_js\\\"]()) ? (this.valueFromJulia[\\\"options_js\\\"]=true, this.model[\\\"options_js\\\"](val)) : undefined})\")],\"index\"=>Any[JSString(\"(function (val){return (val!=this.model[\\\"index\\\"]()) ? (this.valueFromJulia[\\\"index\\\"]=true, this.model[\\\"index\\\"](val)) : undefined})\")]), ConnectionPool(Channel{Any}(sz_max:9223372036854775807,sz_curr:0), Set(AbstractConnection[]), Channel{AbstractConnection}(sz_max:32,sz_curr:0))), ##52#53{#dom#13{##dom#11#12{Dict{Any,Any},DOM}},typeof(scope)}(#dom#13{##dom#11#12{Dict{Any,Any},DOM}}(##dom#11#12{Dict{Any,Any},DOM}(Dict{Any,Any}(:className=>\"field\"), DOM(:html, :div))), scope)),:Rescale=>Widget{:toggle,Bool}(OrderedDict{Symbol,Any}(:changes=>Observable{Int64} with 1 listeners. Value:\n",
       "0,:value=>Observable{Bool} with 2 listeners. Value:\n",
       "false), Observable{Bool} with 2 listeners. Value:\n",
       "false, Scope(\"knockout-component-7c193d74-8218-485a-9269-72e8b1b1f921\", Node{DOM}(DOM(:html, :div), Any[Node{DOM}(DOM(:html, :input), Any[], Dict{Symbol,Any}(:attributes=>Dict{Any,Any}(:type=>\"checkbox\",Symbol(\"data-bind\")=>\"checked: value, valueUpdate: 'change', event: {change : function () {this.changes(this.changes()+1)}}\"),:id=>\"##363\",:className=>\"switch \",:style=>Dict{Any,Any}()), 0), Node{DOM}(DOM(:html, :label), Any[\"Rescale\"], Dict{Symbol,Any}(:attributes=>Dict(\"className\"=>\"\",\"for\"=>\"##363\")), 1)], Dict{Symbol,Any}(:className=>\"field\"), 3), Dict{String,Tuple{Observables.AbstractObservable,Union{Nothing, Bool}}}(\"changes\"=>(Observable{Int64} with 1 listeners. Value:\n",
       "0, nothing),\"value\"=>(Observable{Bool} with 2 listeners. Value:\n",
       "false, nothing)), Set(String[]), nothing, Any[\"knockout\"=>\"/Users/konstantinalthaus/.julia/packages/Knockout/JIqpG/src/../assets/knockout.js\", \"knockout_punches\"=>\"/Users/konstantinalthaus/.julia/packages/Knockout/JIqpG/src/../assets/knockout_punches.js\", \"/Users/konstantinalthaus/.julia/packages/InteractBase/Q4IkI/src/../assets/all.js\", \"/Users/konstantinalthaus/.julia/packages/InteractBase/Q4IkI/src/../assets/style.css\", \"/Users/konstantinalthaus/.julia/packages/InteractBulma/Ohu5Y/src/../assets/main.css\"], Dict{Any,Any}(\"_promises\"=>Dict{Any,Any}(\"importsLoaded\"=>Any[JSString(\"function (ko, koPunches) {\\n    ko.punches.enableAll();\\n    ko.bindingHandlers.numericValue = {\\n        init : function(element, valueAccessor, allBindings, data, context) {\\n            var stringified = ko.observable(ko.unwrap(valueAccessor()));\\n            stringified.subscribe(function(value) {\\n                var val = parseFloat(value);\\n                if (!isNaN(val)) {\\n                    valueAccessor()(val);\\n                }\\n            })\\n            valueAccessor().subscribe(function(value) {\\n                var str = JSON.stringify(value);\\n                if ((str == \\\"0\\\") && ([\\\"-0\\\", \\\"-0.\\\"].indexOf(stringified()) >= 0))\\n                     return;\\n                 if ([\\\"null\\\", \\\"\\\"].indexOf(str) >= 0)\\n                     return;\\n                stringified(str);\\n            })\\n            ko.applyBindingsToNode(element, { value: stringified, valueUpdate: allBindings.get('valueUpdate')}, context);\\n        }\\n    };\\n    var json_data = JSON.parse(\\\"{\\\\\\\"changes\\\\\\\":0,\\\\\\\"value\\\\\\\":false}\\\");\\n    var self = this;\\n    function AppViewModel() {\\n        for (var key in json_data) {\\n            var el = json_data[key];\\n            this[key] = Array.isArray(el) ? ko.observableArray(el) : ko.observable(el);\\n        }\\n        \\n        \\n        [this[\\\"changes\\\"].subscribe((function (val){!(this.valueFromJulia[\\\"changes\\\"]) ? (_webIOScope.setObservableValue({\\\"name\\\":\\\"changes\\\",\\\"scope\\\":\\\"knockout-component-7c193d74-8218-485a-9269-72e8b1b1f921\\\",\\\"id\\\":\\\"ob_45\\\",\\\"type\\\":\\\"observable\\\"},val)) : undefined; return this.valueFromJulia[\\\"changes\\\"]=false}),self),this[\\\"value\\\"].subscribe((function (val){!(this.valueFromJulia[\\\"value\\\"]) ? (_webIOScope.setObservableValue({\\\"name\\\":\\\"value\\\",\\\"scope\\\":\\\"knockout-component-7c193d74-8218-485a-9269-72e8b1b1f921\\\",\\\"id\\\":\\\"ob_44\\\",\\\"type\\\":\\\"observable\\\"},val)) : undefined; return this.valueFromJulia[\\\"value\\\"]=false}),self)]\\n        \\n    }\\n    self.model = new AppViewModel();\\n    self.valueFromJulia = {};\\n    for (var key in json_data) {\\n        self.valueFromJulia[key] = false;\\n    }\\n    ko.applyBindings(self.model, self.dom);\\n}\\n\")]),\"changes\"=>Any[JSString(\"(function (val){return (val!=this.model[\\\"changes\\\"]()) ? (this.valueFromJulia[\\\"changes\\\"]=true, this.model[\\\"changes\\\"](val)) : undefined})\")],\"value\"=>Any[JSString(\"(function (val){return (val!=this.model[\\\"value\\\"]()) ? (this.valueFromJulia[\\\"value\\\"]=true, this.model[\\\"value\\\"](val)) : undefined})\")]), ConnectionPool(Channel{Any}(sz_max:9223372036854775807,sz_curr:0), Set(AbstractConnection[]), Channel{AbstractConnection}(sz_max:32,sz_curr:0))), ##52#53{#dom#13{##dom#11#12{Dict{Any,Any},DOM}},typeof(scope)}(#dom#13{##dom#11#12{Dict{Any,Any},DOM}}(##dom#11#12{Dict{Any,Any},DOM}(Dict{Any,Any}(:className=>\"field\"), DOM(:html, :div))), scope)),:ConditionNumber=>Widget{:toggle,Bool}(OrderedDict{Symbol,Any}(:changes=>Observable{Int64} with 1 listeners. Value:\n",
       "0,:value=>Observable{Bool} with 2 listeners. Value:\n",
       "false), Observable{Bool} with 2 listeners. Value:\n",
       "false, Scope(\"knockout-component-abee5874-0910-4368-bded-f3d9a2d13bf3\", Node{DOM}(DOM(:html, :div), Any[Node{DOM}(DOM(:html, :input), Any[], Dict{Symbol,Any}(:attributes=>Dict{Any,Any}(:type=>\"checkbox\",Symbol(\"data-bind\")=>\"checked: value, valueUpdate: 'change', event: {change : function () {this.changes(this.changes()+1)}}\"),:id=>\"##364\",:className=>\"switch \",:style=>Dict{Any,Any}()), 0), Node{DOM}(DOM(:html, :label), Any[\"ConditionNumber\"], Dict{Symbol,Any}(:attributes=>Dict(\"className\"=>\"\",\"for\"=>\"##364\")), 1)], Dict{Symbol,Any}(:className=>\"field\"), 3), Dict{String,Tuple{Observables.AbstractObservable,Union{Nothing, Bool}}}(\"changes\"=>(Observable{Int64} with 1 listeners. Value:\n",
       "0, nothing),\"value\"=>(Observable{Bool} with 2 listeners. Value:\n",
       "false, nothing)), Set(String[]), nothing, Any[\"knockout\"=>\"/Users/konstantinalthaus/.julia/packages/Knockout/JIqpG/src/../assets/knockout.js\", \"knockout_punches\"=>\"/Users/konstantinalthaus/.julia/packages/Knockout/JIqpG/src/../assets/knockout_punches.js\", \"/Users/konstantinalthaus/.julia/packages/InteractBase/Q4IkI/src/../assets/all.js\", \"/Users/konstantinalthaus/.julia/packages/InteractBase/Q4IkI/src/../assets/style.css\", \"/Users/konstantinalthaus/.julia/packages/InteractBulma/Ohu5Y/src/../assets/main.css\"], Dict{Any,Any}(\"_promises\"=>Dict{Any,Any}(\"importsLoaded\"=>Any[JSString(\"function (ko, koPunches) {\\n    ko.punches.enableAll();\\n    ko.bindingHandlers.numericValue = {\\n        init : function(element, valueAccessor, allBindings, data, context) {\\n            var stringified = ko.observable(ko.unwrap(valueAccessor()));\\n            stringified.subscribe(function(value) {\\n                var val = parseFloat(value);\\n                if (!isNaN(val)) {\\n                    valueAccessor()(val);\\n                }\\n            })\\n            valueAccessor().subscribe(function(value) {\\n                var str = JSON.stringify(value);\\n                if ((str == \\\"0\\\") && ([\\\"-0\\\", \\\"-0.\\\"].indexOf(stringified()) >= 0))\\n                     return;\\n                 if ([\\\"null\\\", \\\"\\\"].indexOf(str) >= 0)\\n                     return;\\n                stringified(str);\\n            })\\n            ko.applyBindingsToNode(element, { value: stringified, valueUpdate: allBindings.get('valueUpdate')}, context);\\n        }\\n    };\\n    var json_data = JSON.parse(\\\"{\\\\\\\"changes\\\\\\\":0,\\\\\\\"value\\\\\\\":false}\\\");\\n    var self = this;\\n    function AppViewModel() {\\n        for (var key in json_data) {\\n            var el = json_data[key];\\n            this[key] = Array.isArray(el) ? ko.observableArray(el) : ko.observable(el);\\n        }\\n        \\n        \\n        [this[\\\"changes\\\"].subscribe((function (val){!(this.valueFromJulia[\\\"changes\\\"]) ? (_webIOScope.setObservableValue({\\\"name\\\":\\\"changes\\\",\\\"scope\\\":\\\"knockout-component-abee5874-0910-4368-bded-f3d9a2d13bf3\\\",\\\"id\\\":\\\"ob_47\\\",\\\"type\\\":\\\"observable\\\"},val)) : undefined; return this.valueFromJulia[\\\"changes\\\"]=false}),self),this[\\\"value\\\"].subscribe((function (val){!(this.valueFromJulia[\\\"value\\\"]) ? (_webIOScope.setObservableValue({\\\"name\\\":\\\"value\\\",\\\"scope\\\":\\\"knockout-component-abee5874-0910-4368-bded-f3d9a2d13bf3\\\",\\\"id\\\":\\\"ob_46\\\",\\\"type\\\":\\\"observable\\\"},val)) : undefined; return this.valueFromJulia[\\\"value\\\"]=false}),self)]\\n        \\n    }\\n    self.model = new AppViewModel();\\n    self.valueFromJulia = {};\\n    for (var key in json_data) {\\n        self.valueFromJulia[key] = false;\\n    }\\n    ko.applyBindings(self.model, self.dom);\\n}\\n\")]),\"changes\"=>Any[JSString(\"(function (val){return (val!=this.model[\\\"changes\\\"]()) ? (this.valueFromJulia[\\\"changes\\\"]=true, this.model[\\\"changes\\\"](val)) : undefined})\")],\"value\"=>Any[JSString(\"(function (val){return (val!=this.model[\\\"value\\\"]()) ? (this.valueFromJulia[\\\"value\\\"]=true, this.model[\\\"value\\\"](val)) : undefined})\")]), ConnectionPool(Channel{Any}(sz_max:9223372036854775807,sz_curr:0), Set(AbstractConnection[]), Channel{AbstractConnection}(sz_max:32,sz_curr:0))), ##52#53{#dom#13{##dom#11#12{Dict{Any,Any},DOM}},typeof(scope)}(#dom#13{##dom#11#12{Dict{Any,Any},DOM}}(##dom#11#12{Dict{Any,Any},DOM}(Dict{Any,Any}(:className=>\"field\"), DOM(:html, :div))), scope))), Observable{Any} with 0 listeners. Value:\n",
       "Plot{Plots.GRBackend() n=6}, nothing, getfield(Main, Symbol(\"##55#60\"))(Core.Box(Observable{Any} with 0 listeners. Value:\n",
       "Plot{Plots.GRBackend() n=6})))"
      ]
     },
     "execution_count": 21,
     "metadata": {
      "application/vnd.webio.node+json": {
       "kernelId": "43dd9c32-d76f-49ab-ad80-943d95ba1bb0"
      }
     },
     "output_type": "execute_result"
    }
   ],
   "source": [
    "# plot the results\n",
    "m = @manipulate for T = types,f =testFunctionsStr,s = sequenceType, Rescale = false, ConditionNumber = false\n",
    "        n1 = findfirst(x->x==f,testFunctionsStr)\n",
    "        n2 = findfirst(x->x==s,sequenceType)\n",
    "        n4 = findfirst(x->x==Rescale, scalingOptions)\n",
    "        # makeup\n",
    "        plt = plot(xlabel = \"#nodes\", ylabel = \"abs. error\", size = (900,300), legend = :top)\n",
    "        if ConditionNumber\n",
    "             plot!(plt,1:N+1,eps(T)*conditionNumber[n2,:], linewidth = 2, linestyle = :dot, label = \"Condition Number\")\n",
    "        end\n",
    "        for (n3,name) in enumerate(algorithmsStr)\n",
    "            err = max.(results[T][n1,n2,n3,n4,:],eps(T))\n",
    "            plot!(plt,1:N+1,err ,\n",
    "                    yscale = :log10, label = n3>2 ? name : \"\",\n",
    "                    linewidth = algorithmsLinewidth[n3],\n",
    "                    color = algorithmsColor[n3])\n",
    "            if n3 == 1\n",
    "                #special markers for Aitken-Neville\n",
    "                tAN = 1:5:N+1\n",
    "                plot!(plt,tAN,err[tAN], label = name,\n",
    "                    linealpha = 0, markershape = :circle,markersize =4, color = algorithmsColor[n3])\n",
    "            end\n",
    "            if n3 ==2\n",
    "                #special marker for Lagrange\n",
    "                tL = 1:8:N+1\n",
    "                 plot!(plt,tL,err[tL], label = name,\n",
    "                    linealpha = 0, markershape = :star5 ,markersize =5, color = algorithmsColor[n3])\n",
    "            end\n",
    "        end\n",
    "    plt\n",
    "end"
   ]
  },
  {
   "cell_type": "markdown",
   "metadata": {},
   "source": [
    "This plot shows the absolute error $|f(0)-\\pi_N(0)|$ in dependence of the number of nodes $N$ used for intetpolation. $\\pi_N$ is the interpolant of the values $(f(\\nu_n^{-2}))_{n=0:N}$ in the nodes $(\\nu_n^{-2})_{n=0:N}$.\n",
    "The line labeled \"condition number\" in the plot is the graph of  $N \\mapsto \\|\\mathcal{E}_N \\|_\\infty \\text{eps}$. Here $\\text{eps}$ is the machine precission of the selected `Float` representation."
   ]
  },
  {
   "cell_type": "markdown",
   "metadata": {},
   "source": [
    "## Interpretation of the results\n",
    "\n",
    "The convergence behaviour of all algorithms is satisfactory except if the harmonic sequence is used. In that case the absolute error at first decreases as $N$ grows but after some time increases dramatically. In particular all algorithms save the one due to Aitken-Neville produce an error that is oscillating between several orders of magnitude, i.e. only noise is produced.\n",
    "\n",
    "This behaviour is not due to numerical instabilities of the specific implementations used here. The reason is that the problem itself is ill conditioned.\n",
    "\n",
    "The erratic behaviour in the plot begins shortly after the convergence plot intersects the graph of $N \\mapsto \\|\\mathcal{E}_N \\|_\\infty \\text{eps}$.\n",
    "The latter function is - due to the linearity of interpolation - an upper bound of the error we would expect if we computed $\\pi_N(0)$ in exact arithmetic on basis of disturbed values $(f(\\nu_n^{-2})+\\epsilon_n)_{n=0:N}$ with a disurbance that is smaller than the machine precision $\\text{eps}$ ($|\\epsilon_n| \\leq \\text{eps}$).\n",
    "\n",
    "Thus if $N$ is large enough, the unavoidable and problem inherent amplification of the rounding errors \"takes over\" and we observe divergence"
   ]
  },
  {
   "cell_type": "code",
   "execution_count": null,
   "metadata": {},
   "outputs": [],
   "source": []
  }
 ],
 "metadata": {
  "@webio": {
   "lastCommId": "2196d8f48b74425c8674a821e489ea54",
   "lastKernelId": "43dd9c32-d76f-49ab-ad80-943d95ba1bb0"
  },
  "kernelspec": {
   "display_name": "Julia 1.0.0",
   "language": "julia",
   "name": "julia-1.0"
  },
  "language_info": {
   "file_extension": ".jl",
   "mimetype": "application/julia",
   "name": "julia",
   "version": "1.0.0"
  }
 },
 "nbformat": 4,
 "nbformat_minor": 2
}
